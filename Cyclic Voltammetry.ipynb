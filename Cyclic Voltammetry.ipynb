{
 "cells": [
  {
   "cell_type": "code",
   "execution_count": null,
   "metadata": {},
   "outputs": [],
   "source": [
    "import plotly.graph_objects as go\n",
    "import pandas as pd\n",
    "import plotly.express as px\n",
    "from EC_data_processing_lib import get_header_length\n",
    "from EC_data_processing_lib import analyse_file\n",
    "from EC_data_processing_lib import get_decimal_separator\n",
    "from Data_setup2 import data_set\n",
    "import os\n",
    "from galvani import BioLogic\n",
    "\n",
    "fig = go.Figure()\n",
    "colors = px.colors.qualitative.Safe\n",
    "\n",
    "for i in data_set:\n",
    "    if not os.path.exists(data_set[i]['data_CV']):\n",
    "        continue\n",
    "    if data_set[i]['data_CV'].endswith('mpt'):\n",
    "        headerlength = get_header_length(data_set[i]['data_CV'])\n",
    "        data = pd.read_csv(data_set[i]['data_CV'], encoding='ansi', sep=\"\\t\", decimal=get_decimal_separator(data_set[i]['data_CV']),  skiprows=range(headerlength))\n",
    "        current_column = '<I>/mA'\n",
    "    else:\n",
    "        mpr_file = BioLogic.MPRfile(data_set[i]['data_CV'])\n",
    "        data = pd.DataFrame(mpr_file.data)\n",
    "        current_column = 'I/mA'\n",
    "    cn = data['cycle number']\n",
    "    data = data[data['cycle number']== float(cn[-1:])] # allowing this comment will plot only the last scan. If you want to plot all of the scans then comment this out. \n",
    "    voltage = data['Ewe/V']\n",
    "    current = data[current_column]\n",
    "    current = current / data_set[i]['mass']\n",
    "    voltage_corrected = data['Ewe/V'] - data[current_column] * data_set[i]['Ru']/1000 - data_set[i]['cal'] #does the iR correction converts to overpotential\n",
    "\n",
    "    fig.add_trace(go.Scatter(\n",
    "        x=voltage_corrected,\n",
    "        y=current,\n",
    "        name= data_set[i]['label'],\n",
    "        line_color = colors[data_set[i]['color_index']],\n",
    "    ))\n",
    "fig.update_xaxes(range=[0.00, 0.750],\n",
    "    nticks=10,\n",
    "    ticks='outside',\n",
    "    showgrid=False, gridwidth=1, gridcolor='grey',\n",
    "    zeroline=False, zerolinecolor='grey', zerolinewidth= 1,\n",
    "    showline=True, linewidth=2, linecolor='black')\n",
    "\n",
    "fig.update_yaxes(range=[-5, 120],\n",
    "    nticks=10,\n",
    "    showgrid=False, gridwidth=1, gridcolor='grey',\n",
    "    ticks='outside',\n",
    "    zeroline=True, zerolinecolor='grey', zerolinewidth= 1,\n",
    "    showline=True, linewidth=2, linecolor='black')\n",
    "fig.update_layout(\n",
    "    #title=\"CV\",\n",
    "    xaxis_title=\"Overpotential, η(V) - iR<sub>u</sub>\",\n",
    "    yaxis_title=\"Current (mA/cm<sup>2</sup>)\",\n",
    "    font=dict(\n",
    "        family=\"Times New Roman, monospace\",\n",
    "        size=18,\n",
    "        color=\"dimgrey\"\n",
    "        \n",
    "    )\n",
    ")\n",
    "\n",
    "fig.update_layout({\n",
    "    \"plot_bgcolor\": \"rgba(0, 0, 0, 0)\",\n",
    "    'paper_bgcolor': 'rgba(0, 0, 0, 0)', #sets the background to be transparent... might appear black in .jpeg but will be transparent in the .svg\n",
    "})\n",
    "fig.update_layout(\n",
    "    width = 500,\n",
    "    height = 500)\n",
    "fig.show()\n",
    "fig.write_image('Cyclic Voltammetry.jpeg')\n",
    "fig.write_image('Cyclic Voltammetry.svg')\n",
    "\n"
   ]
  },
  {
   "cell_type": "code",
   "execution_count": null,
   "metadata": {},
   "outputs": [],
   "source": []
  }
 ],
 "metadata": {
  "kernelspec": {
   "display_name": "MachineLearning_20221214",
   "language": "python",
   "name": "python3"
  },
  "language_info": {
   "codemirror_mode": {
    "name": "ipython",
    "version": 3
   },
   "file_extension": ".py",
   "mimetype": "text/x-python",
   "name": "python",
   "nbconvert_exporter": "python",
   "pygments_lexer": "ipython3",
   "version": "3.10.8"
  },
  "orig_nbformat": 4,
  "vscode": {
   "interpreter": {
    "hash": "6d6055fddfcfbd74bcbc7b01a52d824f73d51a69c9d6df85ac5e8b41880afc70"
   }
  }
 },
 "nbformat": 4,
 "nbformat_minor": 2
}
