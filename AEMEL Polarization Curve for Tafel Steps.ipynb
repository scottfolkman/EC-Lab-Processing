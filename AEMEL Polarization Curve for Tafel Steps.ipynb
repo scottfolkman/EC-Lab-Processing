{
 "cells": [
  {
   "cell_type": "code",
   "execution_count": 5,
   "metadata": {},
   "outputs": [
    {
     "data": {
      "application/vnd.plotly.v1+json": {
       "config": {
        "plotlyServerURL": "https://plot.ly"
       },
       "data": [
        {
         "error_y": {
          "array": [
           0.0019403790356591344,
           0.0023999137338250875
          ],
          "type": "data",
          "visible": true
         },
         "line": {
          "color": "#EB663B"
         },
         "marker": {
          "size": 6
         },
         "mode": "markers",
         "showlegend": false,
         "type": "scatter",
         "x": [
          3.153357982635498,
          9.994407653808594
         ],
         "y": [
          1.4789201021194458,
          1.5518286228179932
         ]
        },
        {
         "error_y": {
          "array": [
           0.0034970021806657314,
           0.0016705506714060903
          ],
          "type": "data",
          "visible": true
         },
         "line": {
          "color": "#EB663B"
         },
         "marker": {
          "size": 6
         },
         "mode": "markers",
         "showlegend": false,
         "type": "scatter",
         "x": [
          31.538772583007812,
          99.94124603271484
         ],
         "y": [
          1.648323655128479,
          1.7471660375595093
         ]
        },
        {
         "error_y": {
          "array": [
           0.005678396672010422,
           0.0035435352474451065
          ],
          "type": "data",
          "visible": true
         },
         "line": {
          "color": "#2E91E5"
         },
         "marker": {
          "size": 6
         },
         "mode": "markers",
         "name": "IrO<sub>x</sub>",
         "type": "scatter",
         "x": [
          314.91314697265625,
          998.9205322265625
         ],
         "y": [
          1.8401519060134888,
          2.0976874828338623
         ]
        },
        {
         "error_y": {
          "array": [
           0.005915128625929356,
           0.0031747615430504084
          ],
          "type": "data",
          "visible": true
         },
         "line": {
          "color": "#EB663B"
         },
         "marker": {
          "size": 6
         },
         "mode": "markers",
         "name": "IrO<sub>x</sub>-stefano",
         "type": "scatter",
         "x": [
          314.7255859375,
          998.75634765625
         ],
         "y": [
          1.8684762716293335,
          2.076212167739868
         ]
        },
        {
         "error_y": {
          "array": [
           0.00163181871175766,
           0.0013067842228338122
          ],
          "type": "data",
          "visible": true
         },
         "line": {
          "color": "#E15F99"
         },
         "marker": {
          "size": 6
         },
         "mode": "markers",
         "showlegend": false,
         "type": "scatter",
         "x": [
          3.1547536849975586,
          9.996073722839355
         ],
         "y": [
          1.484088659286499,
          1.546406865119934
         ]
        },
        {
         "error_y": {
          "array": [
           0.0030475191306322813,
           0.0012041102163493633
          ],
          "type": "data",
          "visible": true
         },
         "line": {
          "color": "#E15F99"
         },
         "marker": {
          "size": 6
         },
         "mode": "markers",
         "showlegend": false,
         "type": "scatter",
         "x": [
          31.553165435791016,
          99.95747375488281
         ],
         "y": [
          1.6350493431091309,
          1.7336190938949585
         ]
        },
        {
         "error_y": {
          "array": [
           0.005697501823306084,
           0.0019382034661248326
          ],
          "type": "data",
          "visible": true
         },
         "line": {
          "color": "#E15F99"
         },
         "marker": {
          "size": 6
         },
         "mode": "markers",
         "name": "NiCoFeO<sub>x</sub>",
         "type": "scatter",
         "x": [
          314.9911193847656,
          999.0311279296875
         ],
         "y": [
          1.8585126399993896,
          2.098834276199341
         ]
        },
        {
         "error_y": {
          "array": [
           0.019807085394859314,
           0.001255465904250741
          ],
          "type": "data",
          "visible": true
         },
         "line": {
          "color": "#1CA71C"
         },
         "marker": {
          "size": 6
         },
         "mode": "markers",
         "showlegend": false,
         "type": "scatter",
         "x": [
          3.1536128520965576,
          9.994610786437988
         ],
         "y": [
          1.4843556880950928,
          1.5509895086288452
         ]
        },
        {
         "error_y": {
          "array": [
           0.002912897150963545,
           0.0027577891014516354
          ],
          "type": "data",
          "visible": true
         },
         "line": {
          "color": "#1CA71C"
         },
         "marker": {
          "size": 6
         },
         "mode": "markers",
         "showlegend": false,
         "type": "scatter",
         "x": [
          31.542396545410156,
          99.9447021484375
         ],
         "y": [
          1.622538685798645,
          1.7079346179962158
         ]
        },
        {
         "error_y": {
          "array": [
           0.006908884271979332,
           0.008073212578892708
          ],
          "type": "data",
          "visible": true
         },
         "line": {
          "color": "#1CA71C"
         },
         "marker": {
          "size": 6
         },
         "mode": "markers",
         "name": "Co<sub>57</sub>Ni<sub>14</sub>Fe<sub>29</sub>N<sub>x</sub>",
         "type": "scatter",
         "x": [
          314.8262634277344,
          998.829833984375
         ],
         "y": [
          1.8199703693389893,
          2.009540557861328
         ]
        },
        {
         "error_y": {
          "array": [
           0.0012819292023777962,
           0.0009091492975130677
          ],
          "type": "data",
          "visible": true
         },
         "line": {
          "color": "#B68100"
         },
         "marker": {
          "size": 6
         },
         "mode": "markers",
         "showlegend": false,
         "type": "scatter",
         "x": [
          3.15472412109375,
          9.99569034576416
         ],
         "y": [
          1.4719561338424683,
          1.5207397937774658
         ]
        },
        {
         "error_y": {
          "array": [
           0.0028768673073500395,
           0.0019694773945957422
          ],
          "type": "data",
          "visible": true
         },
         "line": {
          "color": "#B68100"
         },
         "marker": {
          "size": 6
         },
         "mode": "markers",
         "showlegend": false,
         "type": "scatter",
         "x": [
          31.552326202392578,
          99.95576477050781
         ],
         "y": [
          1.5985593795776367,
          1.7018303871154785
         ]
        },
        {
         "error_y": {
          "array": [
           0.005595617927610874,
           0.0016686260933056474
          ],
          "type": "data",
          "visible": true
         },
         "line": {
          "color": "#B68100"
         },
         "marker": {
          "size": 6
         },
         "mode": "markers",
         "name": "Co<sub>45</sub>Ni<sub>45</sub>Fe<sub>10</sub>N<sub>x</sub>",
         "type": "scatter",
         "x": [
          315.02459716796875,
          999.0320434570312
         ],
         "y": [
          1.8307530879974365,
          2.0572988986968994
         ]
        }
       ],
       "layout": {
        "font": {
         "color": "black",
         "family": "Times New Roman, monospace",
         "size": 28
        },
        "height": 500,
        "legend": {
         "font": {
          "color": "black",
          "family": "Times New Roman, monospace",
          "size": 28
         },
         "x": 0,
         "xanchor": "left",
         "y": 1.08,
         "yanchor": "top"
        },
        "margin": {
         "b": 0,
         "l": 0,
         "r": 10,
         "t": 0
        },
        "paper_bgcolor": "rgba(255, 255, 255, 255)",
        "plot_bgcolor": "rgba(0, 0, 0, 0)",
        "template": {
         "data": {
          "bar": [
           {
            "error_x": {
             "color": "#2a3f5f"
            },
            "error_y": {
             "color": "#2a3f5f"
            },
            "marker": {
             "line": {
              "color": "#E5ECF6",
              "width": 0.5
             },
             "pattern": {
              "fillmode": "overlay",
              "size": 10,
              "solidity": 0.2
             }
            },
            "type": "bar"
           }
          ],
          "barpolar": [
           {
            "marker": {
             "line": {
              "color": "#E5ECF6",
              "width": 0.5
             },
             "pattern": {
              "fillmode": "overlay",
              "size": 10,
              "solidity": 0.2
             }
            },
            "type": "barpolar"
           }
          ],
          "carpet": [
           {
            "aaxis": {
             "endlinecolor": "#2a3f5f",
             "gridcolor": "white",
             "linecolor": "white",
             "minorgridcolor": "white",
             "startlinecolor": "#2a3f5f"
            },
            "baxis": {
             "endlinecolor": "#2a3f5f",
             "gridcolor": "white",
             "linecolor": "white",
             "minorgridcolor": "white",
             "startlinecolor": "#2a3f5f"
            },
            "type": "carpet"
           }
          ],
          "choropleth": [
           {
            "colorbar": {
             "outlinewidth": 0,
             "ticks": ""
            },
            "type": "choropleth"
           }
          ],
          "contour": [
           {
            "colorbar": {
             "outlinewidth": 0,
             "ticks": ""
            },
            "colorscale": [
             [
              0,
              "#0d0887"
             ],
             [
              0.1111111111111111,
              "#46039f"
             ],
             [
              0.2222222222222222,
              "#7201a8"
             ],
             [
              0.3333333333333333,
              "#9c179e"
             ],
             [
              0.4444444444444444,
              "#bd3786"
             ],
             [
              0.5555555555555556,
              "#d8576b"
             ],
             [
              0.6666666666666666,
              "#ed7953"
             ],
             [
              0.7777777777777778,
              "#fb9f3a"
             ],
             [
              0.8888888888888888,
              "#fdca26"
             ],
             [
              1,
              "#f0f921"
             ]
            ],
            "type": "contour"
           }
          ],
          "contourcarpet": [
           {
            "colorbar": {
             "outlinewidth": 0,
             "ticks": ""
            },
            "type": "contourcarpet"
           }
          ],
          "heatmap": [
           {
            "colorbar": {
             "outlinewidth": 0,
             "ticks": ""
            },
            "colorscale": [
             [
              0,
              "#0d0887"
             ],
             [
              0.1111111111111111,
              "#46039f"
             ],
             [
              0.2222222222222222,
              "#7201a8"
             ],
             [
              0.3333333333333333,
              "#9c179e"
             ],
             [
              0.4444444444444444,
              "#bd3786"
             ],
             [
              0.5555555555555556,
              "#d8576b"
             ],
             [
              0.6666666666666666,
              "#ed7953"
             ],
             [
              0.7777777777777778,
              "#fb9f3a"
             ],
             [
              0.8888888888888888,
              "#fdca26"
             ],
             [
              1,
              "#f0f921"
             ]
            ],
            "type": "heatmap"
           }
          ],
          "heatmapgl": [
           {
            "colorbar": {
             "outlinewidth": 0,
             "ticks": ""
            },
            "colorscale": [
             [
              0,
              "#0d0887"
             ],
             [
              0.1111111111111111,
              "#46039f"
             ],
             [
              0.2222222222222222,
              "#7201a8"
             ],
             [
              0.3333333333333333,
              "#9c179e"
             ],
             [
              0.4444444444444444,
              "#bd3786"
             ],
             [
              0.5555555555555556,
              "#d8576b"
             ],
             [
              0.6666666666666666,
              "#ed7953"
             ],
             [
              0.7777777777777778,
              "#fb9f3a"
             ],
             [
              0.8888888888888888,
              "#fdca26"
             ],
             [
              1,
              "#f0f921"
             ]
            ],
            "type": "heatmapgl"
           }
          ],
          "histogram": [
           {
            "marker": {
             "pattern": {
              "fillmode": "overlay",
              "size": 10,
              "solidity": 0.2
             }
            },
            "type": "histogram"
           }
          ],
          "histogram2d": [
           {
            "colorbar": {
             "outlinewidth": 0,
             "ticks": ""
            },
            "colorscale": [
             [
              0,
              "#0d0887"
             ],
             [
              0.1111111111111111,
              "#46039f"
             ],
             [
              0.2222222222222222,
              "#7201a8"
             ],
             [
              0.3333333333333333,
              "#9c179e"
             ],
             [
              0.4444444444444444,
              "#bd3786"
             ],
             [
              0.5555555555555556,
              "#d8576b"
             ],
             [
              0.6666666666666666,
              "#ed7953"
             ],
             [
              0.7777777777777778,
              "#fb9f3a"
             ],
             [
              0.8888888888888888,
              "#fdca26"
             ],
             [
              1,
              "#f0f921"
             ]
            ],
            "type": "histogram2d"
           }
          ],
          "histogram2dcontour": [
           {
            "colorbar": {
             "outlinewidth": 0,
             "ticks": ""
            },
            "colorscale": [
             [
              0,
              "#0d0887"
             ],
             [
              0.1111111111111111,
              "#46039f"
             ],
             [
              0.2222222222222222,
              "#7201a8"
             ],
             [
              0.3333333333333333,
              "#9c179e"
             ],
             [
              0.4444444444444444,
              "#bd3786"
             ],
             [
              0.5555555555555556,
              "#d8576b"
             ],
             [
              0.6666666666666666,
              "#ed7953"
             ],
             [
              0.7777777777777778,
              "#fb9f3a"
             ],
             [
              0.8888888888888888,
              "#fdca26"
             ],
             [
              1,
              "#f0f921"
             ]
            ],
            "type": "histogram2dcontour"
           }
          ],
          "mesh3d": [
           {
            "colorbar": {
             "outlinewidth": 0,
             "ticks": ""
            },
            "type": "mesh3d"
           }
          ],
          "parcoords": [
           {
            "line": {
             "colorbar": {
              "outlinewidth": 0,
              "ticks": ""
             }
            },
            "type": "parcoords"
           }
          ],
          "pie": [
           {
            "automargin": true,
            "type": "pie"
           }
          ],
          "scatter": [
           {
            "fillpattern": {
             "fillmode": "overlay",
             "size": 10,
             "solidity": 0.2
            },
            "type": "scatter"
           }
          ],
          "scatter3d": [
           {
            "line": {
             "colorbar": {
              "outlinewidth": 0,
              "ticks": ""
             }
            },
            "marker": {
             "colorbar": {
              "outlinewidth": 0,
              "ticks": ""
             }
            },
            "type": "scatter3d"
           }
          ],
          "scattercarpet": [
           {
            "marker": {
             "colorbar": {
              "outlinewidth": 0,
              "ticks": ""
             }
            },
            "type": "scattercarpet"
           }
          ],
          "scattergeo": [
           {
            "marker": {
             "colorbar": {
              "outlinewidth": 0,
              "ticks": ""
             }
            },
            "type": "scattergeo"
           }
          ],
          "scattergl": [
           {
            "marker": {
             "colorbar": {
              "outlinewidth": 0,
              "ticks": ""
             }
            },
            "type": "scattergl"
           }
          ],
          "scattermapbox": [
           {
            "marker": {
             "colorbar": {
              "outlinewidth": 0,
              "ticks": ""
             }
            },
            "type": "scattermapbox"
           }
          ],
          "scatterpolar": [
           {
            "marker": {
             "colorbar": {
              "outlinewidth": 0,
              "ticks": ""
             }
            },
            "type": "scatterpolar"
           }
          ],
          "scatterpolargl": [
           {
            "marker": {
             "colorbar": {
              "outlinewidth": 0,
              "ticks": ""
             }
            },
            "type": "scatterpolargl"
           }
          ],
          "scatterternary": [
           {
            "marker": {
             "colorbar": {
              "outlinewidth": 0,
              "ticks": ""
             }
            },
            "type": "scatterternary"
           }
          ],
          "surface": [
           {
            "colorbar": {
             "outlinewidth": 0,
             "ticks": ""
            },
            "colorscale": [
             [
              0,
              "#0d0887"
             ],
             [
              0.1111111111111111,
              "#46039f"
             ],
             [
              0.2222222222222222,
              "#7201a8"
             ],
             [
              0.3333333333333333,
              "#9c179e"
             ],
             [
              0.4444444444444444,
              "#bd3786"
             ],
             [
              0.5555555555555556,
              "#d8576b"
             ],
             [
              0.6666666666666666,
              "#ed7953"
             ],
             [
              0.7777777777777778,
              "#fb9f3a"
             ],
             [
              0.8888888888888888,
              "#fdca26"
             ],
             [
              1,
              "#f0f921"
             ]
            ],
            "type": "surface"
           }
          ],
          "table": [
           {
            "cells": {
             "fill": {
              "color": "#EBF0F8"
             },
             "line": {
              "color": "white"
             }
            },
            "header": {
             "fill": {
              "color": "#C8D4E3"
             },
             "line": {
              "color": "white"
             }
            },
            "type": "table"
           }
          ]
         },
         "layout": {
          "annotationdefaults": {
           "arrowcolor": "#2a3f5f",
           "arrowhead": 0,
           "arrowwidth": 1
          },
          "autotypenumbers": "strict",
          "coloraxis": {
           "colorbar": {
            "outlinewidth": 0,
            "ticks": ""
           }
          },
          "colorscale": {
           "diverging": [
            [
             0,
             "#8e0152"
            ],
            [
             0.1,
             "#c51b7d"
            ],
            [
             0.2,
             "#de77ae"
            ],
            [
             0.3,
             "#f1b6da"
            ],
            [
             0.4,
             "#fde0ef"
            ],
            [
             0.5,
             "#f7f7f7"
            ],
            [
             0.6,
             "#e6f5d0"
            ],
            [
             0.7,
             "#b8e186"
            ],
            [
             0.8,
             "#7fbc41"
            ],
            [
             0.9,
             "#4d9221"
            ],
            [
             1,
             "#276419"
            ]
           ],
           "sequential": [
            [
             0,
             "#0d0887"
            ],
            [
             0.1111111111111111,
             "#46039f"
            ],
            [
             0.2222222222222222,
             "#7201a8"
            ],
            [
             0.3333333333333333,
             "#9c179e"
            ],
            [
             0.4444444444444444,
             "#bd3786"
            ],
            [
             0.5555555555555556,
             "#d8576b"
            ],
            [
             0.6666666666666666,
             "#ed7953"
            ],
            [
             0.7777777777777778,
             "#fb9f3a"
            ],
            [
             0.8888888888888888,
             "#fdca26"
            ],
            [
             1,
             "#f0f921"
            ]
           ],
           "sequentialminus": [
            [
             0,
             "#0d0887"
            ],
            [
             0.1111111111111111,
             "#46039f"
            ],
            [
             0.2222222222222222,
             "#7201a8"
            ],
            [
             0.3333333333333333,
             "#9c179e"
            ],
            [
             0.4444444444444444,
             "#bd3786"
            ],
            [
             0.5555555555555556,
             "#d8576b"
            ],
            [
             0.6666666666666666,
             "#ed7953"
            ],
            [
             0.7777777777777778,
             "#fb9f3a"
            ],
            [
             0.8888888888888888,
             "#fdca26"
            ],
            [
             1,
             "#f0f921"
            ]
           ]
          },
          "colorway": [
           "#636efa",
           "#EF553B",
           "#00cc96",
           "#ab63fa",
           "#FFA15A",
           "#19d3f3",
           "#FF6692",
           "#B6E880",
           "#FF97FF",
           "#FECB52"
          ],
          "font": {
           "color": "#2a3f5f"
          },
          "geo": {
           "bgcolor": "white",
           "lakecolor": "white",
           "landcolor": "#E5ECF6",
           "showlakes": true,
           "showland": true,
           "subunitcolor": "white"
          },
          "hoverlabel": {
           "align": "left"
          },
          "hovermode": "closest",
          "mapbox": {
           "style": "light"
          },
          "paper_bgcolor": "white",
          "plot_bgcolor": "#E5ECF6",
          "polar": {
           "angularaxis": {
            "gridcolor": "white",
            "linecolor": "white",
            "ticks": ""
           },
           "bgcolor": "#E5ECF6",
           "radialaxis": {
            "gridcolor": "white",
            "linecolor": "white",
            "ticks": ""
           }
          },
          "scene": {
           "xaxis": {
            "backgroundcolor": "#E5ECF6",
            "gridcolor": "white",
            "gridwidth": 2,
            "linecolor": "white",
            "showbackground": true,
            "ticks": "",
            "zerolinecolor": "white"
           },
           "yaxis": {
            "backgroundcolor": "#E5ECF6",
            "gridcolor": "white",
            "gridwidth": 2,
            "linecolor": "white",
            "showbackground": true,
            "ticks": "",
            "zerolinecolor": "white"
           },
           "zaxis": {
            "backgroundcolor": "#E5ECF6",
            "gridcolor": "white",
            "gridwidth": 2,
            "linecolor": "white",
            "showbackground": true,
            "ticks": "",
            "zerolinecolor": "white"
           }
          },
          "shapedefaults": {
           "line": {
            "color": "#2a3f5f"
           }
          },
          "ternary": {
           "aaxis": {
            "gridcolor": "white",
            "linecolor": "white",
            "ticks": ""
           },
           "baxis": {
            "gridcolor": "white",
            "linecolor": "white",
            "ticks": ""
           },
           "bgcolor": "#E5ECF6",
           "caxis": {
            "gridcolor": "white",
            "linecolor": "white",
            "ticks": ""
           }
          },
          "title": {
           "x": 0.05
          },
          "xaxis": {
           "automargin": true,
           "gridcolor": "white",
           "linecolor": "white",
           "ticks": "",
           "title": {
            "standoff": 15
           },
           "zerolinecolor": "white",
           "zerolinewidth": 2
          },
          "yaxis": {
           "automargin": true,
           "gridcolor": "white",
           "linecolor": "white",
           "ticks": "",
           "title": {
            "standoff": 15
           },
           "zerolinecolor": "white",
           "zerolinewidth": 2
          }
         }
        },
        "width": 500,
        "xaxis": {
         "gridcolor": "grey",
         "gridwidth": 1,
         "linecolor": "black",
         "linewidth": 2,
         "nticks": 6,
         "range": [
          0,
          1050
         ],
         "showgrid": false,
         "showline": true,
         "ticks": "outside",
         "title": {
          "text": "Current Density (mA/cm<sup>2</sup>)"
         },
         "zeroline": false,
         "zerolinecolor": "grey",
         "zerolinewidth": 1
        },
        "yaxis": {
         "gridcolor": "grey",
         "gridwidth": 1,
         "linecolor": "black",
         "linewidth": 2,
         "nticks": 10,
         "range": [
          1.2,
          2.3
         ],
         "showgrid": false,
         "showline": true,
         "ticks": "outside",
         "title": {
          "text": "Cell Voltage (V)"
         },
         "zeroline": true,
         "zerolinecolor": "grey",
         "zerolinewidth": 1
        }
       }
      }
     },
     "metadata": {},
     "output_type": "display_data"
    }
   ],
   "source": [
    "import plotly.graph_objects as go\n",
    "import numpy as np\n",
    "import pandas as pd\n",
    "import plotly.express as px\n",
    "from scipy.optimize import curve_fit\n",
    "from pandas import DataFrame as df\n",
    "from EC_data_processing_lib import get_header_length\n",
    "from EC_data_processing_lib import get_decimal_separator\n",
    "from Data_setup_AEMEL_NewCell import data_set\n",
    "import os\n",
    "from galvani import BioLogic\n",
    "from math import floor,log10\n",
    "\n",
    "fig_title = 'Polarization Curve Tafel steps plus stefano control'\n",
    "fig = go.Figure()\n",
    "fig.update_xaxes(range=[0, 1050],\n",
    "    nticks=6,\n",
    "    ticks='outside',\n",
    "    showgrid=False, gridwidth=1, gridcolor='grey',\n",
    "    zeroline=False, zerolinecolor='grey', zerolinewidth= 1,\n",
    "    showline=True, linewidth=2, linecolor='black')\n",
    "\n",
    "fig.update_yaxes(range=[1.2, 2.3],\n",
    "    nticks=10,\n",
    "    showgrid=False, gridwidth=1, gridcolor='grey',\n",
    "    ticks='outside',\n",
    "    zeroline=True, zerolinecolor='grey', zerolinewidth= 1,\n",
    "    showline=True, linewidth=2, linecolor='black')\n",
    "colors = px.colors.qualitative.Dark24\n",
    "\n",
    "fig.update_layout(\n",
    "    xaxis_title=\"Current Density (mA/cm<sup>2</sup>)\",\n",
    "    yaxis_title=\"Cell Voltage (V)\",\n",
    "    margin={'t':0,'l':0,'b':0,'r':10},\n",
    "    legend_font_size=22,\n",
    "    font=dict(\n",
    "        family=\"Times New Roman, monospace\",\n",
    "        size=28,\n",
    "        color=\"black\",\n",
    "    ),\n",
    ")\n",
    "fig.update_layout({\n",
    "    \"plot_bgcolor\": \"rgba(0, 0, 0, 0)\",\n",
    "    'paper_bgcolor': 'rgba(255, 255, 255, 255)', #sets the background to be transparent... might appear black in .jpeg but will be transparent in the .svg\n",
    "})\n",
    "\n",
    "for i in data_set:\n",
    "    \n",
    "    file = data_set[i]['data']\n",
    "    if not os.path.exists(file):\n",
    "        print(\"File not found: \" + file)\n",
    "        continue\n",
    "    if file.endswith('mpt'):\n",
    "        headerlength = get_header_length(file)\n",
    "        data = pd.read_csv(file, encoding='ansi', sep=\"\\t\", decimal=get_decimal_separator(file),  skiprows=range(headerlength))\n",
    "        current_column = '<I>/mA'\n",
    "    else:\n",
    "        mpr_file = BioLogic.MPRfile(file)\n",
    "        data = pd.DataFrame(mpr_file.data)\n",
    "        current_column = 'I/mA'\n",
    "    if not os.path.exists(data_set[i]['data']):\n",
    "        continue\n",
    "   #define variables, sets up number of experiments, does the voltage correction based on Ru and \n",
    "    exp = data['Ns']\n",
    "    Nexp = exp[-1:] + 1\n",
    "    voltage = data['Ewe/V']\n",
    "    current = data['I/mA']/5\n",
    "\n",
    "    j = 0\n",
    "    Polarization = []\n",
    "    for j in range(int(Nexp)):\n",
    "        v = df.mean(voltage.loc[exp==j])\n",
    "        J = df.mean(current.loc[exp==j])\n",
    "        verr = df.std(voltage.loc[exp==j])\n",
    "        Polarization.append([v, J, verr])   \n",
    "    Polarization = np.array(Polarization)\n",
    "    \n",
    "    # fig.add_trace(go.Scatter(\n",
    "    #     y=Polarization[:,0],\n",
    "    #     x=Polarization[:,1],\n",
    "    #     error_y=dict(\n",
    "    #         type='data',\n",
    "            \n",
    "    #         array=Polarization[:,2],\n",
    "    #         visible=True),\n",
    "    #     mode='markers',\n",
    "    #     name= data_set[i]['label'],\n",
    "    #      showlegend=False,\n",
    "    #     line_color = colors[data_set[i]['color_index']],\n",
    "        \n",
    "    # )\n",
    "    # )\n",
    "    # add a trace to the plot with or without a label in the legend\n",
    "    if data_set[i]['label'] != '':\n",
    "        fig.add_trace(go.Scatter(\n",
    "            y=Polarization[:,0],\n",
    "            x=Polarization[:,1],\n",
    "            error_y=dict(\n",
    "                type='data',\n",
    "                array=Polarization[:,2],\n",
    "                visible=True),\n",
    "            mode='markers',\n",
    "            marker=dict(\n",
    "                size=6\n",
    "            ),\n",
    "            name= data_set[i]['label'],\n",
    "            line_color = colors[data_set[i]['color_index']],\n",
    "        )\n",
    "        )\n",
    "    else:\n",
    "        fig.add_trace(go.Scatter(\n",
    "            y=Polarization[:,0],\n",
    "            x=Polarization[:,1],\n",
    "            error_y=dict(\n",
    "                type='data',\n",
    "                array=Polarization[:,2],\n",
    "                visible=True),\n",
    "            mode='markers',\n",
    "            marker=dict(\n",
    "                size=6\n",
    "            ),\n",
    "            showlegend=False, # hide the label in the legend if it's empty\n",
    "            line_color = colors[data_set[i]['color_index']],\n",
    "        )\n",
    "        )\n",
    "\n",
    "\n",
    "\n",
    "\n",
    "   \n",
    "fig.update_layout(\n",
    "    width = 500,\n",
    "    height = 500,\n",
    "    legend=dict(\n",
    "    yanchor=\"top\",\n",
    "    y=1.08,\n",
    "    xanchor=\"left\",\n",
    "    x=0,\n",
    "    font=dict(\n",
    "        family=\"Times New Roman, monospace\",\n",
    "        size=28,\n",
    "        color=\"black\",\n",
    "    ),\n",
    "    ))\n",
    "\n",
    "fig.show()\n",
    "fig.write_image(fig_title +'.jpeg')\n",
    "fig.write_image(fig_title + '.svg')\n"
   ]
  },
  {
   "cell_type": "code",
   "execution_count": null,
   "metadata": {},
   "outputs": [],
   "source": []
  }
 ],
 "metadata": {
  "kernelspec": {
   "display_name": "MachineLearning_20221214",
   "language": "python",
   "name": "python3"
  },
  "language_info": {
   "codemirror_mode": {
    "name": "ipython",
    "version": 3
   },
   "file_extension": ".py",
   "mimetype": "text/x-python",
   "name": "python",
   "nbconvert_exporter": "python",
   "pygments_lexer": "ipython3",
   "version": "3.10.9"
  },
  "orig_nbformat": 4
 },
 "nbformat": 4,
 "nbformat_minor": 2
}
