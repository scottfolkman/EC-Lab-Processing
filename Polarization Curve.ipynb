{
 "cells": [
  {
   "cell_type": "code",
   "execution_count": 32,
   "metadata": {},
   "outputs": [
    {
     "name": "stdout",
     "output_type": "stream",
     "text": [
      "File not found: \n",
      "File not found: \n",
      "File not found: \n",
      "File not found: \n",
      "File not found: \n",
      "File not found: \n",
      "File not found: \n",
      "File not found: \n",
      "File not found: \n",
      "File not found: \n",
      "File not found: \n",
      "File not found: \n",
      "File not found: \n",
      "File not found: \n",
      "File not found: \n",
      "File not found: \n",
      "File not found: \n",
      "File not found: \n",
      "File not found: \n",
      "[[1.52944376e+00 2.56481798e+01]\n",
      " [1.58166564e+00 4.70895855e+01]\n",
      " [1.71168747e+00 1.24581891e+02]\n",
      " [1.77243537e+00 2.23185988e+02]\n",
      " [1.80973672e+00 3.16911794e+02]\n",
      " [1.84170930e+00 4.16850829e+02]\n",
      " [1.86728736e+00 5.11120499e+02]\n",
      " [1.89037867e+00 6.02025356e+02]\n",
      " [1.91258185e+00 6.87999735e+02]\n",
      " [1.93256471e+00 7.86506321e+02]\n",
      " [1.95032726e+00 8.76829776e+02]\n",
      " [1.96882991e+00 9.67118896e+02]\n",
      " [1.98733256e+00 1.05740802e+03]\n",
      " [2.00361489e+00 1.16022934e+03]\n",
      " [2.02063733e+00 1.25473020e+03]\n",
      " [2.03543945e+00 1.34933406e+03]\n",
      " [2.05098168e+00 1.43976052e+03]\n",
      " [2.06652390e+00 1.54261619e+03]\n",
      " [2.08132602e+00 1.63722005e+03]\n",
      " [2.09538804e+00 1.73185824e+03]\n",
      " [2.10796984e+00 1.82656511e+03]\n",
      " [2.12203186e+00 1.92948944e+03]\n",
      " [2.13387355e+00 2.02008758e+03]\n",
      " [2.14719546e+00 2.11476011e+03]\n",
      " [2.15903716e+00 2.20535824e+03]\n",
      " [2.17087885e+00 2.30009944e+03]]\n"
     ]
    },
    {
     "data": {
      "application/vnd.plotly.v1+json": {
       "config": {
        "plotlyServerURL": "https://plot.ly"
       },
       "data": [
        {
         "error_y": {
          "array": [
           0.45193789141231444,
           0.21836730693747294,
           0.7597830441695453,
           4.004348450206778,
           12.534484696430875,
           38.672684326732245,
           145.01657935468447
          ],
          "type": "data",
          "visible": true
         },
         "line": {
          "color": "#2E91E5"
         },
         "mode": "markers",
         "name": "1",
         "type": "scatter",
         "x": [
          1.499521017074585,
          1.5995429754257202,
          1.6996201276779175,
          1.7995491027832031,
          1.8996087312698364,
          1.9995250701904297,
          2.0996015071868896
         ],
         "y": [
          4.388484255112284,
          31.961424319466936,
          126.58178326710615,
          345.41727946371867,
          714.7582182089196,
          1232.5857809536305,
          1965.9250241440068
         ]
        },
        {
         "line": {
          "color": "#1616A7"
         },
         "mode": "markers",
         "name": "20",
         "type": "scatter",
         "x": [
          1.52944376236273,
          1.5816656435441,
          1.71168747015893,
          1.77243537275766,
          1.80973671645863,
          1.84170929677375,
          1.86728736102585,
          1.89037866903122,
          1.91258184980561,
          1.93256471250256,
          1.95032725712207,
          1.9688299077674,
          1.98733255841272,
          2.00361489098061,
          2.02063732957431,
          2.03543945009057,
          2.05098167663264,
          2.06652390317471,
          2.08132602369097,
          2.09538803818142,
          2.10796984062024,
          2.12203185511069,
          2.1338735515237,
          2.14719545998833,
          2.15903715640134,
          2.17087885281435
         ],
         "y": [
          25.648179791112803,
          47.0895854560474,
          124.581890941461,
          223.185987861758,
          316.91179417727,
          416.85082872928,
          511.12049852438196,
          602.025356387694,
          687.999734726466,
          786.506320770372,
          876.829775755674,
          967.118895925346,
          1057.408016095018,
          1160.2293439698221,
          1254.730201523502,
          1349.334063524074,
          1439.760522956268,
          1542.616185646704,
          1637.2200476472742,
          1731.858244463476,
          1826.565110910938,
          1929.489443232636,
          2020.08757674298,
          2114.76010837482,
          2205.35824188516,
          2300.09944314826
         ]
        }
       ],
       "layout": {
        "font": {
         "color": "dimgrey",
         "family": "Times New Roman, monospace",
         "size": 22
        },
        "height": 500,
        "legend": {
         "font": {
          "color": "dimgrey",
          "family": "Times New Roman, monospace",
          "size": 22
         },
         "x": 0,
         "xanchor": "left",
         "y": 0.99,
         "yanchor": "top"
        },
        "margin": {
         "b": 0,
         "l": 0,
         "r": 0,
         "t": 0
        },
        "paper_bgcolor": "rgba(255, 255, 255, 255)",
        "plot_bgcolor": "rgba(0, 0, 0, 0)",
        "template": {
         "data": {
          "bar": [
           {
            "error_x": {
             "color": "#2a3f5f"
            },
            "error_y": {
             "color": "#2a3f5f"
            },
            "marker": {
             "line": {
              "color": "#E5ECF6",
              "width": 0.5
             },
             "pattern": {
              "fillmode": "overlay",
              "size": 10,
              "solidity": 0.2
             }
            },
            "type": "bar"
           }
          ],
          "barpolar": [
           {
            "marker": {
             "line": {
              "color": "#E5ECF6",
              "width": 0.5
             },
             "pattern": {
              "fillmode": "overlay",
              "size": 10,
              "solidity": 0.2
             }
            },
            "type": "barpolar"
           }
          ],
          "carpet": [
           {
            "aaxis": {
             "endlinecolor": "#2a3f5f",
             "gridcolor": "white",
             "linecolor": "white",
             "minorgridcolor": "white",
             "startlinecolor": "#2a3f5f"
            },
            "baxis": {
             "endlinecolor": "#2a3f5f",
             "gridcolor": "white",
             "linecolor": "white",
             "minorgridcolor": "white",
             "startlinecolor": "#2a3f5f"
            },
            "type": "carpet"
           }
          ],
          "choropleth": [
           {
            "colorbar": {
             "outlinewidth": 0,
             "ticks": ""
            },
            "type": "choropleth"
           }
          ],
          "contour": [
           {
            "colorbar": {
             "outlinewidth": 0,
             "ticks": ""
            },
            "colorscale": [
             [
              0,
              "#0d0887"
             ],
             [
              0.1111111111111111,
              "#46039f"
             ],
             [
              0.2222222222222222,
              "#7201a8"
             ],
             [
              0.3333333333333333,
              "#9c179e"
             ],
             [
              0.4444444444444444,
              "#bd3786"
             ],
             [
              0.5555555555555556,
              "#d8576b"
             ],
             [
              0.6666666666666666,
              "#ed7953"
             ],
             [
              0.7777777777777778,
              "#fb9f3a"
             ],
             [
              0.8888888888888888,
              "#fdca26"
             ],
             [
              1,
              "#f0f921"
             ]
            ],
            "type": "contour"
           }
          ],
          "contourcarpet": [
           {
            "colorbar": {
             "outlinewidth": 0,
             "ticks": ""
            },
            "type": "contourcarpet"
           }
          ],
          "heatmap": [
           {
            "colorbar": {
             "outlinewidth": 0,
             "ticks": ""
            },
            "colorscale": [
             [
              0,
              "#0d0887"
             ],
             [
              0.1111111111111111,
              "#46039f"
             ],
             [
              0.2222222222222222,
              "#7201a8"
             ],
             [
              0.3333333333333333,
              "#9c179e"
             ],
             [
              0.4444444444444444,
              "#bd3786"
             ],
             [
              0.5555555555555556,
              "#d8576b"
             ],
             [
              0.6666666666666666,
              "#ed7953"
             ],
             [
              0.7777777777777778,
              "#fb9f3a"
             ],
             [
              0.8888888888888888,
              "#fdca26"
             ],
             [
              1,
              "#f0f921"
             ]
            ],
            "type": "heatmap"
           }
          ],
          "heatmapgl": [
           {
            "colorbar": {
             "outlinewidth": 0,
             "ticks": ""
            },
            "colorscale": [
             [
              0,
              "#0d0887"
             ],
             [
              0.1111111111111111,
              "#46039f"
             ],
             [
              0.2222222222222222,
              "#7201a8"
             ],
             [
              0.3333333333333333,
              "#9c179e"
             ],
             [
              0.4444444444444444,
              "#bd3786"
             ],
             [
              0.5555555555555556,
              "#d8576b"
             ],
             [
              0.6666666666666666,
              "#ed7953"
             ],
             [
              0.7777777777777778,
              "#fb9f3a"
             ],
             [
              0.8888888888888888,
              "#fdca26"
             ],
             [
              1,
              "#f0f921"
             ]
            ],
            "type": "heatmapgl"
           }
          ],
          "histogram": [
           {
            "marker": {
             "pattern": {
              "fillmode": "overlay",
              "size": 10,
              "solidity": 0.2
             }
            },
            "type": "histogram"
           }
          ],
          "histogram2d": [
           {
            "colorbar": {
             "outlinewidth": 0,
             "ticks": ""
            },
            "colorscale": [
             [
              0,
              "#0d0887"
             ],
             [
              0.1111111111111111,
              "#46039f"
             ],
             [
              0.2222222222222222,
              "#7201a8"
             ],
             [
              0.3333333333333333,
              "#9c179e"
             ],
             [
              0.4444444444444444,
              "#bd3786"
             ],
             [
              0.5555555555555556,
              "#d8576b"
             ],
             [
              0.6666666666666666,
              "#ed7953"
             ],
             [
              0.7777777777777778,
              "#fb9f3a"
             ],
             [
              0.8888888888888888,
              "#fdca26"
             ],
             [
              1,
              "#f0f921"
             ]
            ],
            "type": "histogram2d"
           }
          ],
          "histogram2dcontour": [
           {
            "colorbar": {
             "outlinewidth": 0,
             "ticks": ""
            },
            "colorscale": [
             [
              0,
              "#0d0887"
             ],
             [
              0.1111111111111111,
              "#46039f"
             ],
             [
              0.2222222222222222,
              "#7201a8"
             ],
             [
              0.3333333333333333,
              "#9c179e"
             ],
             [
              0.4444444444444444,
              "#bd3786"
             ],
             [
              0.5555555555555556,
              "#d8576b"
             ],
             [
              0.6666666666666666,
              "#ed7953"
             ],
             [
              0.7777777777777778,
              "#fb9f3a"
             ],
             [
              0.8888888888888888,
              "#fdca26"
             ],
             [
              1,
              "#f0f921"
             ]
            ],
            "type": "histogram2dcontour"
           }
          ],
          "mesh3d": [
           {
            "colorbar": {
             "outlinewidth": 0,
             "ticks": ""
            },
            "type": "mesh3d"
           }
          ],
          "parcoords": [
           {
            "line": {
             "colorbar": {
              "outlinewidth": 0,
              "ticks": ""
             }
            },
            "type": "parcoords"
           }
          ],
          "pie": [
           {
            "automargin": true,
            "type": "pie"
           }
          ],
          "scatter": [
           {
            "fillpattern": {
             "fillmode": "overlay",
             "size": 10,
             "solidity": 0.2
            },
            "type": "scatter"
           }
          ],
          "scatter3d": [
           {
            "line": {
             "colorbar": {
              "outlinewidth": 0,
              "ticks": ""
             }
            },
            "marker": {
             "colorbar": {
              "outlinewidth": 0,
              "ticks": ""
             }
            },
            "type": "scatter3d"
           }
          ],
          "scattercarpet": [
           {
            "marker": {
             "colorbar": {
              "outlinewidth": 0,
              "ticks": ""
             }
            },
            "type": "scattercarpet"
           }
          ],
          "scattergeo": [
           {
            "marker": {
             "colorbar": {
              "outlinewidth": 0,
              "ticks": ""
             }
            },
            "type": "scattergeo"
           }
          ],
          "scattergl": [
           {
            "marker": {
             "colorbar": {
              "outlinewidth": 0,
              "ticks": ""
             }
            },
            "type": "scattergl"
           }
          ],
          "scattermapbox": [
           {
            "marker": {
             "colorbar": {
              "outlinewidth": 0,
              "ticks": ""
             }
            },
            "type": "scattermapbox"
           }
          ],
          "scatterpolar": [
           {
            "marker": {
             "colorbar": {
              "outlinewidth": 0,
              "ticks": ""
             }
            },
            "type": "scatterpolar"
           }
          ],
          "scatterpolargl": [
           {
            "marker": {
             "colorbar": {
              "outlinewidth": 0,
              "ticks": ""
             }
            },
            "type": "scatterpolargl"
           }
          ],
          "scatterternary": [
           {
            "marker": {
             "colorbar": {
              "outlinewidth": 0,
              "ticks": ""
             }
            },
            "type": "scatterternary"
           }
          ],
          "surface": [
           {
            "colorbar": {
             "outlinewidth": 0,
             "ticks": ""
            },
            "colorscale": [
             [
              0,
              "#0d0887"
             ],
             [
              0.1111111111111111,
              "#46039f"
             ],
             [
              0.2222222222222222,
              "#7201a8"
             ],
             [
              0.3333333333333333,
              "#9c179e"
             ],
             [
              0.4444444444444444,
              "#bd3786"
             ],
             [
              0.5555555555555556,
              "#d8576b"
             ],
             [
              0.6666666666666666,
              "#ed7953"
             ],
             [
              0.7777777777777778,
              "#fb9f3a"
             ],
             [
              0.8888888888888888,
              "#fdca26"
             ],
             [
              1,
              "#f0f921"
             ]
            ],
            "type": "surface"
           }
          ],
          "table": [
           {
            "cells": {
             "fill": {
              "color": "#EBF0F8"
             },
             "line": {
              "color": "white"
             }
            },
            "header": {
             "fill": {
              "color": "#C8D4E3"
             },
             "line": {
              "color": "white"
             }
            },
            "type": "table"
           }
          ]
         },
         "layout": {
          "annotationdefaults": {
           "arrowcolor": "#2a3f5f",
           "arrowhead": 0,
           "arrowwidth": 1
          },
          "autotypenumbers": "strict",
          "coloraxis": {
           "colorbar": {
            "outlinewidth": 0,
            "ticks": ""
           }
          },
          "colorscale": {
           "diverging": [
            [
             0,
             "#8e0152"
            ],
            [
             0.1,
             "#c51b7d"
            ],
            [
             0.2,
             "#de77ae"
            ],
            [
             0.3,
             "#f1b6da"
            ],
            [
             0.4,
             "#fde0ef"
            ],
            [
             0.5,
             "#f7f7f7"
            ],
            [
             0.6,
             "#e6f5d0"
            ],
            [
             0.7,
             "#b8e186"
            ],
            [
             0.8,
             "#7fbc41"
            ],
            [
             0.9,
             "#4d9221"
            ],
            [
             1,
             "#276419"
            ]
           ],
           "sequential": [
            [
             0,
             "#0d0887"
            ],
            [
             0.1111111111111111,
             "#46039f"
            ],
            [
             0.2222222222222222,
             "#7201a8"
            ],
            [
             0.3333333333333333,
             "#9c179e"
            ],
            [
             0.4444444444444444,
             "#bd3786"
            ],
            [
             0.5555555555555556,
             "#d8576b"
            ],
            [
             0.6666666666666666,
             "#ed7953"
            ],
            [
             0.7777777777777778,
             "#fb9f3a"
            ],
            [
             0.8888888888888888,
             "#fdca26"
            ],
            [
             1,
             "#f0f921"
            ]
           ],
           "sequentialminus": [
            [
             0,
             "#0d0887"
            ],
            [
             0.1111111111111111,
             "#46039f"
            ],
            [
             0.2222222222222222,
             "#7201a8"
            ],
            [
             0.3333333333333333,
             "#9c179e"
            ],
            [
             0.4444444444444444,
             "#bd3786"
            ],
            [
             0.5555555555555556,
             "#d8576b"
            ],
            [
             0.6666666666666666,
             "#ed7953"
            ],
            [
             0.7777777777777778,
             "#fb9f3a"
            ],
            [
             0.8888888888888888,
             "#fdca26"
            ],
            [
             1,
             "#f0f921"
            ]
           ]
          },
          "colorway": [
           "#636efa",
           "#EF553B",
           "#00cc96",
           "#ab63fa",
           "#FFA15A",
           "#19d3f3",
           "#FF6692",
           "#B6E880",
           "#FF97FF",
           "#FECB52"
          ],
          "font": {
           "color": "#2a3f5f"
          },
          "geo": {
           "bgcolor": "white",
           "lakecolor": "white",
           "landcolor": "#E5ECF6",
           "showlakes": true,
           "showland": true,
           "subunitcolor": "white"
          },
          "hoverlabel": {
           "align": "left"
          },
          "hovermode": "closest",
          "mapbox": {
           "style": "light"
          },
          "paper_bgcolor": "white",
          "plot_bgcolor": "#E5ECF6",
          "polar": {
           "angularaxis": {
            "gridcolor": "white",
            "linecolor": "white",
            "ticks": ""
           },
           "bgcolor": "#E5ECF6",
           "radialaxis": {
            "gridcolor": "white",
            "linecolor": "white",
            "ticks": ""
           }
          },
          "scene": {
           "xaxis": {
            "backgroundcolor": "#E5ECF6",
            "gridcolor": "white",
            "gridwidth": 2,
            "linecolor": "white",
            "showbackground": true,
            "ticks": "",
            "zerolinecolor": "white"
           },
           "yaxis": {
            "backgroundcolor": "#E5ECF6",
            "gridcolor": "white",
            "gridwidth": 2,
            "linecolor": "white",
            "showbackground": true,
            "ticks": "",
            "zerolinecolor": "white"
           },
           "zaxis": {
            "backgroundcolor": "#E5ECF6",
            "gridcolor": "white",
            "gridwidth": 2,
            "linecolor": "white",
            "showbackground": true,
            "ticks": "",
            "zerolinecolor": "white"
           }
          },
          "shapedefaults": {
           "line": {
            "color": "#2a3f5f"
           }
          },
          "ternary": {
           "aaxis": {
            "gridcolor": "white",
            "linecolor": "white",
            "ticks": ""
           },
           "baxis": {
            "gridcolor": "white",
            "linecolor": "white",
            "ticks": ""
           },
           "bgcolor": "#E5ECF6",
           "caxis": {
            "gridcolor": "white",
            "linecolor": "white",
            "ticks": ""
           }
          },
          "title": {
           "x": 0.05
          },
          "xaxis": {
           "automargin": true,
           "gridcolor": "white",
           "linecolor": "white",
           "ticks": "",
           "title": {
            "standoff": 15
           },
           "zerolinecolor": "white",
           "zerolinewidth": 2
          },
          "yaxis": {
           "automargin": true,
           "gridcolor": "white",
           "linecolor": "white",
           "ticks": "",
           "title": {
            "standoff": 15
           },
           "zerolinecolor": "white",
           "zerolinewidth": 2
          }
         }
        },
        "width": 750,
        "xaxis": {
         "gridcolor": "grey",
         "gridwidth": 1,
         "linecolor": "black",
         "linewidth": 2,
         "nticks": 20,
         "range": [
          1.2,
          2.2
         ],
         "showgrid": false,
         "showline": true,
         "ticks": "outside",
         "title": {
          "text": "Cell Voltage (V) "
         },
         "zeroline": false,
         "zerolinecolor": "grey",
         "zerolinewidth": 1
        },
        "yaxis": {
         "gridcolor": "grey",
         "gridwidth": 1,
         "linecolor": "black",
         "linewidth": 2,
         "nticks": 10,
         "range": [
          0,
          2200
         ],
         "showgrid": false,
         "showline": true,
         "ticks": "outside",
         "title": {
          "text": "Current Density (mA/cm<sup>2</sup>)"
         },
         "zeroline": true,
         "zerolinecolor": "grey",
         "zerolinewidth": 1
        }
       }
      }
     },
     "metadata": {},
     "output_type": "display_data"
    }
   ],
   "source": [
    "import plotly.graph_objects as go\n",
    "import numpy as np\n",
    "import pandas as pd\n",
    "import plotly.express as px\n",
    "from scipy.optimize import curve_fit\n",
    "from pandas import DataFrame as df\n",
    "from EC_data_processing_lib import get_header_length\n",
    "from EC_data_processing_lib import get_decimal_separator\n",
    "from Data_setup_AEMEL import data_set\n",
    "import os\n",
    "from galvani import BioLogic\n",
    "from math import floor,log10\n",
    "\n",
    "fig_title = 'Polarization Curve'\n",
    "fig = go.Figure()\n",
    "fig.update_xaxes(range=[1.2, 2.2],\n",
    "    nticks=20,\n",
    "    ticks='outside',\n",
    "    showgrid=False, gridwidth=1, gridcolor='grey',\n",
    "    zeroline=False, zerolinecolor='grey', zerolinewidth= 1,\n",
    "    showline=True, linewidth=2, linecolor='black')\n",
    "\n",
    "fig.update_yaxes(range=[0, 2200],\n",
    "    nticks=10,\n",
    "    showgrid=False, gridwidth=1, gridcolor='grey',\n",
    "    ticks='outside',\n",
    "    zeroline=True, zerolinecolor='grey', zerolinewidth= 1,\n",
    "    showline=True, linewidth=2, linecolor='black')\n",
    "colors = px.colors.qualitative.Dark24\n",
    "\n",
    "fig.update_layout(\n",
    "    xaxis_title=\"Cell Voltage (V) \",\n",
    "    yaxis_title=\"Current Density (mA/cm<sup>2</sup>)\",\n",
    "    margin={'t':0,'l':0,'b':0,'r':0},\n",
    "    legend_font_size=22,\n",
    "    font=dict(\n",
    "        family=\"Times New Roman, monospace\",\n",
    "        size=22,\n",
    "        color=\"dimgrey\",\n",
    "    ),\n",
    ")\n",
    "fig.update_layout({\n",
    "    \"plot_bgcolor\": \"rgba(0, 0, 0, 0)\",\n",
    "    'paper_bgcolor': 'rgba(255, 255, 255, 255)', #sets the background to be transparent... might appear black in .jpeg but will be transparent in the .svg\n",
    "})\n",
    "\n",
    "for i in data_set:\n",
    "    \n",
    "    file = data_set[i]['data_CA']\n",
    "    if not os.path.exists(file):\n",
    "        print(\"File not found: \" + file)\n",
    "        continue\n",
    "    if file.endswith('mpt'):\n",
    "        headerlength = get_header_length(file)\n",
    "        data = pd.read_csv(file, encoding='ansi', sep=\"\\t\", decimal=get_decimal_separator(file),  skiprows=range(headerlength))\n",
    "        current_column = '<I>/mA'\n",
    "    else:\n",
    "        mpr_file = BioLogic.MPRfile(file)\n",
    "        data = pd.DataFrame(mpr_file.data)\n",
    "        current_column = 'I/mA'\n",
    "    if not os.path.exists(data_set[i]['data_CA']):\n",
    "        continue\n",
    "   #define variables, sets up number of experiments, does the voltage correction based on Ru and \n",
    "    exp = data['Ns']\n",
    "    Nexp = exp[-1:] + 1\n",
    "    voltage = data['Ewe/V']\n",
    "    current = data['I/mA']/5\n",
    "\n",
    "    j = 0\n",
    "    Polarization = []\n",
    "    for j in range(int(Nexp)):\n",
    "        v = df.mean(voltage.loc[exp==j])\n",
    "        J = df.mean(current.loc[exp==j])\n",
    "        Jerr = df.std(current.loc[exp==j])\n",
    "        Polarization.append([v, J, Jerr])   \n",
    "    Polarization = np.array(Polarization)\n",
    "    \n",
    "    fig.add_trace(go.Scatter(\n",
    "        x=Polarization[:,0],\n",
    "        y=Polarization[:,1],\n",
    "        error_y=dict(\n",
    "            type='data',\n",
    "            \n",
    "            array=Polarization[:,2],\n",
    "            visible=True),\n",
    "        mode='markers',\n",
    "        name= data_set[i]['label'],\n",
    "        line_color = colors[data_set[i]['color_index']],\n",
    "        \n",
    "    )\n",
    "    )\n",
    "import pandas as pd\n",
    "\n",
    "# read in the CSV file\n",
    "df = pd.read_csv('AEMEL/reference_cell_DioxideMaterialsE0621_5cm2_JVcurve_digitized.csv')\n",
    "\n",
    "# extract the columns you need\n",
    "Reference = df[['Voltage (V)', 'Current (A)']].values\n",
    "Reference[:,1] *= 1000/5\n",
    "print(Reference)\n",
    "\n",
    "# use the data in your plot\n",
    "fig.add_trace(go.Scatter(\n",
    "        x=Reference[:,0],\n",
    "        y=Reference[:,1],\n",
    "        mode='markers',\n",
    "        name= data_set[i]['label'],\n",
    "        line_color = colors[data_set[i]['color_index']],\n",
    "))\n",
    "\n",
    "   \n",
    "fig.update_layout(\n",
    "    width = 750,\n",
    "    height = 500,\n",
    "    legend=dict(\n",
    "    yanchor=\"top\",\n",
    "    y=0.99,\n",
    "    xanchor=\"left\",\n",
    "    x=0,\n",
    "    font=dict(\n",
    "        family=\"Times New Roman, monospace\",\n",
    "        size=22,\n",
    "        color=\"dimgrey\",\n",
    "    ),\n",
    "    ))\n",
    "\n",
    "fig.show()\n"
   ]
  },
  {
   "cell_type": "code",
   "execution_count": null,
   "metadata": {},
   "outputs": [],
   "source": []
  }
 ],
 "metadata": {
  "kernelspec": {
   "display_name": "MachineLearning_20221214",
   "language": "python",
   "name": "python3"
  },
  "language_info": {
   "codemirror_mode": {
    "name": "ipython",
    "version": 3
   },
   "file_extension": ".py",
   "mimetype": "text/x-python",
   "name": "python",
   "nbconvert_exporter": "python",
   "pygments_lexer": "ipython3",
   "version": "3.10.9"
  },
  "orig_nbformat": 4
 },
 "nbformat": 4,
 "nbformat_minor": 2
}
