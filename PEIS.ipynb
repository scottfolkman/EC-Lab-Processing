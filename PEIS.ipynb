{
 "cells": [
  {
   "cell_type": "code",
   "execution_count": 1,
   "metadata": {},
   "outputs": [
    {
     "data": {
      "application/vnd.plotly.v1+json": {
       "config": {
        "plotlyServerURL": "https://plot.ly"
       },
       "data": [
        {
         "name": "IrO<sub>X</sub>",
         "type": "scatter",
         "x": [
          1.2425345,
          0.86763346,
          0.80967486,
          0.78748423,
          0.78672737,
          0.81041646,
          0.84383798,
          0.87638247,
          0.91555423,
          0.97050726,
          1.0089318,
          1.0824873,
          1.1572914,
          1.2196066,
          1.2915958,
          1.3346616,
          1.4341395,
          1.462953,
          1.5317208,
          1.5669743,
          1.6641259,
          1.7183878,
          1.7791544,
          1.8959135,
          1.9486091,
          1.9884435,
          2.1495674,
          2.1598344,
          2.3961401,
          2.6328788,
          2.9362087,
          3.383667,
          4.0144963
         ],
         "y": [
          -1.3625077,
          -0.53743535,
          -0.25291657,
          -0.11352663,
          -0.029187227,
          0.025017835,
          0.078386426,
          0.11458747,
          0.1623292,
          0.17544903,
          0.237341,
          0.25624925,
          0.27103841,
          0.28484136,
          0.25876117,
          0.26561573,
          0.30338347,
          0.30439746,
          0.33273274,
          0.36445683,
          0.43084776,
          0.49041891,
          0.63309902,
          0.80063331,
          1.1032476,
          1.3853452,
          2.0801203,
          2.8833675,
          4.0841641,
          5.7801108,
          8.2833109,
          11.825489,
          17.091127
         ]
        },
        {
         "name": "CoN<sub>X</sub>",
         "type": "scatter",
         "x": [
          1.3804376,
          1.0053252,
          0.97466481,
          0.96783406,
          0.98817396,
          1.02025,
          1.0214052,
          1.0278181,
          1.0591658,
          1.1284765,
          1.151108,
          1.2140526,
          1.3256806,
          1.3949292,
          1.5110272,
          1.7305619,
          1.7743855,
          2.1173034,
          2.7552626,
          4.2255573,
          4.7352037,
          5.7978249,
          8.57164,
          14.213928,
          16.939125,
          28.908728,
          57.500168,
          79.032425,
          83.20507
         ],
         "y": [
          -1.3351555,
          -0.55875152,
          -0.21368632,
          -0.050994173,
          0.04441331,
          0.16250083,
          0.27442509,
          0.39519581,
          0.58511537,
          0.83738756,
          1.1525365,
          1.7142137,
          2.3958998,
          3.5435443,
          4.9820304,
          7.3782287,
          10.650736,
          15.58625,
          22.323185,
          32.864735,
          48.442402,
          69.167641,
          99.841293,
          144.93102,
          207.43465,
          301.4754,
          438.7518,
          602.52954,
          931.61646
         ]
        },
        {
         "name": "NiN<sub>X</sub>",
         "type": "scatter",
         "x": [
          1.5764469,
          1.1598696,
          1.111521,
          1.1342789,
          1.148083,
          1.17836,
          1.1692383,
          1.210067,
          1.225498,
          1.2508551,
          1.3296927,
          1.3839785,
          1.4556218,
          1.49242,
          1.6285897,
          1.855574,
          2.1656761,
          2.3928246,
          2.9153354,
          3.6700819,
          5.7745967,
          6.1601381,
          8.5959702,
          13.696234,
          19.869207,
          25.573032,
          19.942677,
          45.59417,
          91.253555,
          126.22907,
          199.41357,
          222.95976,
          528.26526,
          654.76276
         ],
         "y": [
          -1.4224796,
          -0.59219664,
          -0.243543,
          -0.08873304,
          0.027171886,
          0.1521236,
          0.24788557,
          0.38605517,
          0.57442015,
          0.81410617,
          1.1775365,
          1.7155066,
          2.4323282,
          3.562099,
          5.1635137,
          7.4616499,
          10.961708,
          15.895297,
          23.249083,
          32.744919,
          48.874924,
          70.277496,
          102.59501,
          147.02959,
          215.97386,
          309.70752,
          444.08325,
          654.99219,
          982.20313,
          1375.4951,
          2000.6143,
          2982.9968,
          4214.0874,
          6088.5547
         ]
        },
        {
         "name": "FeN<sub>X</sub>",
         "type": "scatter",
         "x": [
          1.8119928,
          1.4553062,
          1.4269794,
          1.4225748,
          1.430274,
          1.4287585,
          1.4696335,
          1.5006517,
          1.5743814,
          1.6354786,
          1.7255528,
          1.8723415,
          2.0174024,
          2.2196052,
          2.6646767,
          3.3007746,
          4.2853098,
          5.3686061,
          7.3115168,
          9.4503689,
          12.538214,
          16.893547,
          22.21022,
          29.875158,
          37.242794,
          48.084423,
          64.707626,
          81.366821,
          106.48257,
          140.41753
         ],
         "y": [
          -1.3181139,
          -0.53827029,
          -0.21592012,
          -0.037679803,
          0.065130226,
          0.17735207,
          0.25198728,
          0.41745636,
          0.60776591,
          0.81394917,
          1.095319,
          1.5522926,
          2.1431384,
          2.945411,
          4.0182014,
          5.4741373,
          7.3860784,
          9.8524008,
          13.197357,
          17.740126,
          22.69739,
          29.27828,
          39.239803,
          49.210831,
          64.570641,
          83.186096,
          109.69508,
          140.88542,
          179.44073,
          235.71727
         ]
        },
        {
         "name": "Ni<sub>60</sub>Co<sub>30</sub>Fe<sub>10</sub>O<sub>X</sub>",
         "type": "scatter",
         "x": [
          2.014863,
          1.6429631,
          1.6160283,
          1.5968096,
          1.6100242,
          1.6455431,
          1.6999996,
          1.7570869,
          1.7853258,
          1.9313776,
          2.0185525,
          2.1246212,
          2.2498834,
          2.4317133,
          2.5696895,
          3.0262058,
          3.4275327,
          4.217505,
          4.9413433,
          7.0181613,
          11.143383,
          17.930998,
          21.268402,
          28.676363,
          52.786877,
          78.037727,
          74.898376,
          191.57129
         ],
         "y": [
          -1.2978175,
          -0.50474775,
          -0.10185716,
          0.050327811,
          0.20056278,
          0.35031477,
          0.53580308,
          0.80497688,
          1.0854146,
          1.5518571,
          2.2343225,
          3.0371926,
          4.3673363,
          6.2619033,
          8.9022827,
          13.022191,
          18.860523,
          26.298138,
          39.888756,
          56.764915,
          81.41655,
          121.6685,
          170.89795,
          251.40111,
          350.48541,
          505.24158,
          753.58508,
          1032.4668
         ]
        },
        {
         "name": "Co<sub>30</sub>Ni<sub>60</sub>Fe<sub>10</sub>N<sub>X</sub>",
         "type": "scatter",
         "x": [
          1.7131847,
          1.2516934,
          1.1619028,
          1.1772101,
          1.1607603,
          1.1941121,
          1.2327614,
          1.2591019,
          1.2971585,
          1.3301595,
          1.441456,
          1.4784185,
          1.669457,
          1.8059188,
          1.908543,
          2.0736341,
          3.0313272,
          3.0256763,
          4.1039491,
          5.1203856,
          8.1118059,
          10.975692,
          15.925586,
          21.054235,
          34.54747,
          43.77808,
          79.902321,
          93.510147
         ],
         "y": [
          -1.3707709,
          -0.5176121,
          -0.18812618,
          0.00046871687,
          0.096538864,
          0.21280397,
          0.38621753,
          0.52828896,
          0.78222758,
          1.1050826,
          1.5782266,
          2.2035508,
          3.1286025,
          4.4770317,
          6.6101241,
          9.5876846,
          13.593684,
          19.443422,
          28.765734,
          41.705902,
          59.286232,
          85.273422,
          120.12701,
          175.14534,
          264.05228,
          374.64078,
          497.8002,
          729.23376
         ]
        },
        {
         "name": "Co<sub>45</sub>Ni<sub>45</sub>Fe<sub>10</sub>N<sub>X</sub>",
         "type": "scatter",
         "x": [
          2.1142192,
          1.072419,
          0.8982864,
          0.89154494,
          0.89545166,
          0.90791565,
          0.92284662,
          0.94041365,
          0.96689099,
          1.0233293,
          1.1199368,
          1.1342826,
          1.1908215,
          1.3120691,
          1.3547804,
          1.5707066,
          1.7822114,
          2.0096827,
          3.0797975,
          3.5240223,
          4.3343215,
          6.2662458,
          8.5233049,
          14.395203,
          17.495298,
          30.194281,
          36.145554,
          63.574448,
          75.718956,
          133.80344,
          196.94412,
          276.95813,
          606.24805,
          818.86096,
          1439.7323,
          2573.5942,
          4416.0864,
          7768.9727
         ],
         "y": [
          -1.9956086,
          -0.74467254,
          -0.24962306,
          -0.062342741,
          0.053110626,
          0.13779382,
          0.24942733,
          0.37214556,
          0.5266633,
          0.76683706,
          1.0868468,
          1.5447067,
          2.1738014,
          3.1329944,
          4.5816293,
          6.7321334,
          9.8488712,
          13.780527,
          20.169809,
          29.394245,
          42.320148,
          62.017811,
          89.497643,
          131.19202,
          185.20677,
          269.49109,
          392.70834,
          571.7486,
          810.66302,
          1181.0463,
          1711.524,
          2505.3313,
          3544.3845,
          5109,
          7228.7168,
          10167.833,
          14485.438,
          19828.898
         ]
        }
       ],
       "layout": {
        "font": {
         "color": "dimgrey",
         "family": "Times New Roman, monospace",
         "size": 18
        },
        "height": 500,
        "paper_bgcolor": "rgba(0, 0, 0, 0)",
        "plot_bgcolor": "rgba(0, 0, 0, 0)",
        "template": {
         "data": {
          "bar": [
           {
            "error_x": {
             "color": "#2a3f5f"
            },
            "error_y": {
             "color": "#2a3f5f"
            },
            "marker": {
             "line": {
              "color": "#E5ECF6",
              "width": 0.5
             },
             "pattern": {
              "fillmode": "overlay",
              "size": 10,
              "solidity": 0.2
             }
            },
            "type": "bar"
           }
          ],
          "barpolar": [
           {
            "marker": {
             "line": {
              "color": "#E5ECF6",
              "width": 0.5
             },
             "pattern": {
              "fillmode": "overlay",
              "size": 10,
              "solidity": 0.2
             }
            },
            "type": "barpolar"
           }
          ],
          "carpet": [
           {
            "aaxis": {
             "endlinecolor": "#2a3f5f",
             "gridcolor": "white",
             "linecolor": "white",
             "minorgridcolor": "white",
             "startlinecolor": "#2a3f5f"
            },
            "baxis": {
             "endlinecolor": "#2a3f5f",
             "gridcolor": "white",
             "linecolor": "white",
             "minorgridcolor": "white",
             "startlinecolor": "#2a3f5f"
            },
            "type": "carpet"
           }
          ],
          "choropleth": [
           {
            "colorbar": {
             "outlinewidth": 0,
             "ticks": ""
            },
            "type": "choropleth"
           }
          ],
          "contour": [
           {
            "colorbar": {
             "outlinewidth": 0,
             "ticks": ""
            },
            "colorscale": [
             [
              0,
              "#0d0887"
             ],
             [
              0.1111111111111111,
              "#46039f"
             ],
             [
              0.2222222222222222,
              "#7201a8"
             ],
             [
              0.3333333333333333,
              "#9c179e"
             ],
             [
              0.4444444444444444,
              "#bd3786"
             ],
             [
              0.5555555555555556,
              "#d8576b"
             ],
             [
              0.6666666666666666,
              "#ed7953"
             ],
             [
              0.7777777777777778,
              "#fb9f3a"
             ],
             [
              0.8888888888888888,
              "#fdca26"
             ],
             [
              1,
              "#f0f921"
             ]
            ],
            "type": "contour"
           }
          ],
          "contourcarpet": [
           {
            "colorbar": {
             "outlinewidth": 0,
             "ticks": ""
            },
            "type": "contourcarpet"
           }
          ],
          "heatmap": [
           {
            "colorbar": {
             "outlinewidth": 0,
             "ticks": ""
            },
            "colorscale": [
             [
              0,
              "#0d0887"
             ],
             [
              0.1111111111111111,
              "#46039f"
             ],
             [
              0.2222222222222222,
              "#7201a8"
             ],
             [
              0.3333333333333333,
              "#9c179e"
             ],
             [
              0.4444444444444444,
              "#bd3786"
             ],
             [
              0.5555555555555556,
              "#d8576b"
             ],
             [
              0.6666666666666666,
              "#ed7953"
             ],
             [
              0.7777777777777778,
              "#fb9f3a"
             ],
             [
              0.8888888888888888,
              "#fdca26"
             ],
             [
              1,
              "#f0f921"
             ]
            ],
            "type": "heatmap"
           }
          ],
          "heatmapgl": [
           {
            "colorbar": {
             "outlinewidth": 0,
             "ticks": ""
            },
            "colorscale": [
             [
              0,
              "#0d0887"
             ],
             [
              0.1111111111111111,
              "#46039f"
             ],
             [
              0.2222222222222222,
              "#7201a8"
             ],
             [
              0.3333333333333333,
              "#9c179e"
             ],
             [
              0.4444444444444444,
              "#bd3786"
             ],
             [
              0.5555555555555556,
              "#d8576b"
             ],
             [
              0.6666666666666666,
              "#ed7953"
             ],
             [
              0.7777777777777778,
              "#fb9f3a"
             ],
             [
              0.8888888888888888,
              "#fdca26"
             ],
             [
              1,
              "#f0f921"
             ]
            ],
            "type": "heatmapgl"
           }
          ],
          "histogram": [
           {
            "marker": {
             "pattern": {
              "fillmode": "overlay",
              "size": 10,
              "solidity": 0.2
             }
            },
            "type": "histogram"
           }
          ],
          "histogram2d": [
           {
            "colorbar": {
             "outlinewidth": 0,
             "ticks": ""
            },
            "colorscale": [
             [
              0,
              "#0d0887"
             ],
             [
              0.1111111111111111,
              "#46039f"
             ],
             [
              0.2222222222222222,
              "#7201a8"
             ],
             [
              0.3333333333333333,
              "#9c179e"
             ],
             [
              0.4444444444444444,
              "#bd3786"
             ],
             [
              0.5555555555555556,
              "#d8576b"
             ],
             [
              0.6666666666666666,
              "#ed7953"
             ],
             [
              0.7777777777777778,
              "#fb9f3a"
             ],
             [
              0.8888888888888888,
              "#fdca26"
             ],
             [
              1,
              "#f0f921"
             ]
            ],
            "type": "histogram2d"
           }
          ],
          "histogram2dcontour": [
           {
            "colorbar": {
             "outlinewidth": 0,
             "ticks": ""
            },
            "colorscale": [
             [
              0,
              "#0d0887"
             ],
             [
              0.1111111111111111,
              "#46039f"
             ],
             [
              0.2222222222222222,
              "#7201a8"
             ],
             [
              0.3333333333333333,
              "#9c179e"
             ],
             [
              0.4444444444444444,
              "#bd3786"
             ],
             [
              0.5555555555555556,
              "#d8576b"
             ],
             [
              0.6666666666666666,
              "#ed7953"
             ],
             [
              0.7777777777777778,
              "#fb9f3a"
             ],
             [
              0.8888888888888888,
              "#fdca26"
             ],
             [
              1,
              "#f0f921"
             ]
            ],
            "type": "histogram2dcontour"
           }
          ],
          "mesh3d": [
           {
            "colorbar": {
             "outlinewidth": 0,
             "ticks": ""
            },
            "type": "mesh3d"
           }
          ],
          "parcoords": [
           {
            "line": {
             "colorbar": {
              "outlinewidth": 0,
              "ticks": ""
             }
            },
            "type": "parcoords"
           }
          ],
          "pie": [
           {
            "automargin": true,
            "type": "pie"
           }
          ],
          "scatter": [
           {
            "fillpattern": {
             "fillmode": "overlay",
             "size": 10,
             "solidity": 0.2
            },
            "type": "scatter"
           }
          ],
          "scatter3d": [
           {
            "line": {
             "colorbar": {
              "outlinewidth": 0,
              "ticks": ""
             }
            },
            "marker": {
             "colorbar": {
              "outlinewidth": 0,
              "ticks": ""
             }
            },
            "type": "scatter3d"
           }
          ],
          "scattercarpet": [
           {
            "marker": {
             "colorbar": {
              "outlinewidth": 0,
              "ticks": ""
             }
            },
            "type": "scattercarpet"
           }
          ],
          "scattergeo": [
           {
            "marker": {
             "colorbar": {
              "outlinewidth": 0,
              "ticks": ""
             }
            },
            "type": "scattergeo"
           }
          ],
          "scattergl": [
           {
            "marker": {
             "colorbar": {
              "outlinewidth": 0,
              "ticks": ""
             }
            },
            "type": "scattergl"
           }
          ],
          "scattermapbox": [
           {
            "marker": {
             "colorbar": {
              "outlinewidth": 0,
              "ticks": ""
             }
            },
            "type": "scattermapbox"
           }
          ],
          "scatterpolar": [
           {
            "marker": {
             "colorbar": {
              "outlinewidth": 0,
              "ticks": ""
             }
            },
            "type": "scatterpolar"
           }
          ],
          "scatterpolargl": [
           {
            "marker": {
             "colorbar": {
              "outlinewidth": 0,
              "ticks": ""
             }
            },
            "type": "scatterpolargl"
           }
          ],
          "scatterternary": [
           {
            "marker": {
             "colorbar": {
              "outlinewidth": 0,
              "ticks": ""
             }
            },
            "type": "scatterternary"
           }
          ],
          "surface": [
           {
            "colorbar": {
             "outlinewidth": 0,
             "ticks": ""
            },
            "colorscale": [
             [
              0,
              "#0d0887"
             ],
             [
              0.1111111111111111,
              "#46039f"
             ],
             [
              0.2222222222222222,
              "#7201a8"
             ],
             [
              0.3333333333333333,
              "#9c179e"
             ],
             [
              0.4444444444444444,
              "#bd3786"
             ],
             [
              0.5555555555555556,
              "#d8576b"
             ],
             [
              0.6666666666666666,
              "#ed7953"
             ],
             [
              0.7777777777777778,
              "#fb9f3a"
             ],
             [
              0.8888888888888888,
              "#fdca26"
             ],
             [
              1,
              "#f0f921"
             ]
            ],
            "type": "surface"
           }
          ],
          "table": [
           {
            "cells": {
             "fill": {
              "color": "#EBF0F8"
             },
             "line": {
              "color": "white"
             }
            },
            "header": {
             "fill": {
              "color": "#C8D4E3"
             },
             "line": {
              "color": "white"
             }
            },
            "type": "table"
           }
          ]
         },
         "layout": {
          "annotationdefaults": {
           "arrowcolor": "#2a3f5f",
           "arrowhead": 0,
           "arrowwidth": 1
          },
          "autotypenumbers": "strict",
          "coloraxis": {
           "colorbar": {
            "outlinewidth": 0,
            "ticks": ""
           }
          },
          "colorscale": {
           "diverging": [
            [
             0,
             "#8e0152"
            ],
            [
             0.1,
             "#c51b7d"
            ],
            [
             0.2,
             "#de77ae"
            ],
            [
             0.3,
             "#f1b6da"
            ],
            [
             0.4,
             "#fde0ef"
            ],
            [
             0.5,
             "#f7f7f7"
            ],
            [
             0.6,
             "#e6f5d0"
            ],
            [
             0.7,
             "#b8e186"
            ],
            [
             0.8,
             "#7fbc41"
            ],
            [
             0.9,
             "#4d9221"
            ],
            [
             1,
             "#276419"
            ]
           ],
           "sequential": [
            [
             0,
             "#0d0887"
            ],
            [
             0.1111111111111111,
             "#46039f"
            ],
            [
             0.2222222222222222,
             "#7201a8"
            ],
            [
             0.3333333333333333,
             "#9c179e"
            ],
            [
             0.4444444444444444,
             "#bd3786"
            ],
            [
             0.5555555555555556,
             "#d8576b"
            ],
            [
             0.6666666666666666,
             "#ed7953"
            ],
            [
             0.7777777777777778,
             "#fb9f3a"
            ],
            [
             0.8888888888888888,
             "#fdca26"
            ],
            [
             1,
             "#f0f921"
            ]
           ],
           "sequentialminus": [
            [
             0,
             "#0d0887"
            ],
            [
             0.1111111111111111,
             "#46039f"
            ],
            [
             0.2222222222222222,
             "#7201a8"
            ],
            [
             0.3333333333333333,
             "#9c179e"
            ],
            [
             0.4444444444444444,
             "#bd3786"
            ],
            [
             0.5555555555555556,
             "#d8576b"
            ],
            [
             0.6666666666666666,
             "#ed7953"
            ],
            [
             0.7777777777777778,
             "#fb9f3a"
            ],
            [
             0.8888888888888888,
             "#fdca26"
            ],
            [
             1,
             "#f0f921"
            ]
           ]
          },
          "colorway": [
           "#636efa",
           "#EF553B",
           "#00cc96",
           "#ab63fa",
           "#FFA15A",
           "#19d3f3",
           "#FF6692",
           "#B6E880",
           "#FF97FF",
           "#FECB52"
          ],
          "font": {
           "color": "#2a3f5f"
          },
          "geo": {
           "bgcolor": "white",
           "lakecolor": "white",
           "landcolor": "#E5ECF6",
           "showlakes": true,
           "showland": true,
           "subunitcolor": "white"
          },
          "hoverlabel": {
           "align": "left"
          },
          "hovermode": "closest",
          "mapbox": {
           "style": "light"
          },
          "paper_bgcolor": "white",
          "plot_bgcolor": "#E5ECF6",
          "polar": {
           "angularaxis": {
            "gridcolor": "white",
            "linecolor": "white",
            "ticks": ""
           },
           "bgcolor": "#E5ECF6",
           "radialaxis": {
            "gridcolor": "white",
            "linecolor": "white",
            "ticks": ""
           }
          },
          "scene": {
           "xaxis": {
            "backgroundcolor": "#E5ECF6",
            "gridcolor": "white",
            "gridwidth": 2,
            "linecolor": "white",
            "showbackground": true,
            "ticks": "",
            "zerolinecolor": "white"
           },
           "yaxis": {
            "backgroundcolor": "#E5ECF6",
            "gridcolor": "white",
            "gridwidth": 2,
            "linecolor": "white",
            "showbackground": true,
            "ticks": "",
            "zerolinecolor": "white"
           },
           "zaxis": {
            "backgroundcolor": "#E5ECF6",
            "gridcolor": "white",
            "gridwidth": 2,
            "linecolor": "white",
            "showbackground": true,
            "ticks": "",
            "zerolinecolor": "white"
           }
          },
          "shapedefaults": {
           "line": {
            "color": "#2a3f5f"
           }
          },
          "ternary": {
           "aaxis": {
            "gridcolor": "white",
            "linecolor": "white",
            "ticks": ""
           },
           "baxis": {
            "gridcolor": "white",
            "linecolor": "white",
            "ticks": ""
           },
           "bgcolor": "#E5ECF6",
           "caxis": {
            "gridcolor": "white",
            "linecolor": "white",
            "ticks": ""
           }
          },
          "title": {
           "x": 0.05
          },
          "xaxis": {
           "automargin": true,
           "gridcolor": "white",
           "linecolor": "white",
           "ticks": "",
           "title": {
            "standoff": 15
           },
           "zerolinecolor": "white",
           "zerolinewidth": 2
          },
          "yaxis": {
           "automargin": true,
           "gridcolor": "white",
           "linecolor": "white",
           "ticks": "",
           "title": {
            "standoff": 15
           },
           "zerolinecolor": "white",
           "zerolinewidth": 2
          }
         }
        },
        "width": 500,
        "xaxis": {
         "gridcolor": "grey",
         "gridwidth": 1,
         "linecolor": "black",
         "linewidth": 2,
         "nticks": 10,
         "range": [
          0,
          2
         ],
         "showgrid": false,
         "showline": true,
         "ticks": "outside",
         "title": {
          "text": "Time (min)"
         },
         "zeroline": false,
         "zerolinecolor": "grey",
         "zerolinewidth": 1
        },
        "yaxis": {
         "gridcolor": "grey",
         "gridwidth": 1,
         "linecolor": "black",
         "linewidth": 2,
         "nticks": 10,
         "range": [
          0,
          2
         ],
         "showgrid": false,
         "showline": true,
         "ticks": "outside",
         "title": {
          "text": "Overpotential, η(mV) - iR<sub>u</sub>"
         },
         "zeroline": true,
         "zerolinecolor": "grey",
         "zerolinewidth": 1
        }
       }
      }
     },
     "metadata": {},
     "output_type": "display_data"
    }
   ],
   "source": [
    "import numpy as np\n",
    "import plotly.graph_objects as go\n",
    "import pandas as pd\n",
    "import plotly.express as px\n",
    "from EC_data_processing_lib import get_header_length\n",
    "from EC_data_processing_lib import analyse_file\n",
    "from EC_data_processing_lib import get_decimal_separator\n",
    "from pandas import DataFrame as df\n",
    "from Data_setup import data_set\n",
    "\n",
    "fig = go.Figure()\n",
    "\n",
    "dataset = data_set\n",
    "for i in dataset:\n",
    "    headerlength = get_header_length(i['data_PEIS'])\n",
    "    data = pd.read_csv(i['data_PEIS'], encoding='ansi', sep=\"\\t\", decimal=get_decimal_separator(i['data_PEIS']),  skiprows=range(headerlength))\n",
    "    real = data['Re(Z)/Ohm']\n",
    "    imaginary = data['-Im(Z)/Ohm']\n",
    "       \n",
    "   \n",
    "    fig.add_trace(go.Scatter(\n",
    "        x=real,\n",
    "        y=imaginary,\n",
    "        name= i['label']\n",
    "    )\n",
    "           \n",
    "    )\n",
    "fig.update_xaxes(range=[0, 2],\n",
    "    nticks=10,\n",
    "    ticks='outside',\n",
    "    showgrid=False, gridwidth=1, gridcolor='grey',\n",
    "    zeroline=False, zerolinecolor='grey', zerolinewidth= 1,\n",
    "    showline=True, linewidth=2, linecolor='black')\n",
    "\n",
    "fig.update_yaxes(range=[0, 2],\n",
    "    nticks=10,\n",
    "    showgrid=False, gridwidth=1, gridcolor='grey',\n",
    "    ticks='outside',\n",
    "    zeroline=True, zerolinecolor='grey', zerolinewidth= 1,\n",
    "    showline=True, linewidth=2, linecolor='black')\n",
    "fig.update_layout(\n",
    "    #title=\"CV\",\n",
    "    xaxis_title=\"Time (min)\",\n",
    "    yaxis_title=\"Overpotential, η(mV) - iR<sub>u</sub>\",\n",
    "    font=dict(\n",
    "        family=\"Times New Roman, monospace\",\n",
    "        size=18,\n",
    "        color=\"dimgrey\"\n",
    "        \n",
    "    )\n",
    ")\n",
    "\n",
    "fig.update_layout({\n",
    "    \"plot_bgcolor\": \"rgba(0, 0, 0, 0)\",\n",
    "    'paper_bgcolor': 'rgba(0, 0, 0, 0)', #sets the background to be transparent... might appear black in .jpeg but will be transparent in the .svg\n",
    "})\n",
    "fig.update_layout(\n",
    "    width = 500,\n",
    "    height = 500)\n",
    "fig.show()\n",
    "fig.write_image('PEIS.jpeg')\n",
    "fig.write_image('PEIS.svg')\n"
   ]
  },
  {
   "cell_type": "code",
   "execution_count": null,
   "metadata": {},
   "outputs": [],
   "source": []
  }
 ],
 "metadata": {
  "kernelspec": {
   "display_name": "MachineLearning",
   "language": "python",
   "name": "python3"
  },
  "language_info": {
   "codemirror_mode": {
    "name": "ipython",
    "version": 3
   },
   "file_extension": ".py",
   "mimetype": "text/x-python",
   "name": "python",
   "nbconvert_exporter": "python",
   "pygments_lexer": "ipython3",
   "version": "3.10.8"
  },
  "orig_nbformat": 4,
  "vscode": {
   "interpreter": {
    "hash": "05594933d2ae536f6dc811a1e1ba1842b9dcf4ec197130e31601c23ec48dba95"
   }
  }
 },
 "nbformat": 4,
 "nbformat_minor": 2
}
