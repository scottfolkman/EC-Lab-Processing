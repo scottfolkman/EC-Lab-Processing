{
 "cells": [
  {
   "cell_type": "code",
   "execution_count": 10,
   "metadata": {},
   "outputs": [
    {
     "data": {
      "application/vnd.plotly.v1+json": {
       "config": {
        "plotlyServerURL": "https://plot.ly"
       },
       "data": [
        {
         "name": "Co<sub>50</sub>Ni<sub>25</sub>Fe<sub>10</sub>N<sub>X</sub>",
         "type": "scatter",
         "x": [
          1.6002759,
          1.1530633,
          1.086718,
          1.079656,
          1.1056702,
          1.1389832,
          1.1432356,
          1.15198,
          1.2197752,
          1.2554598,
          1.2958508,
          1.401234,
          1.5137658,
          1.5730107,
          1.8928754,
          2.3420098,
          2.5819528,
          3.7896338,
          4.0693412,
          5.3600698,
          6.8375754,
          10.540678,
          16.344933,
          29.488533,
          43.929245,
          48.519554,
          78.197388,
          139.67609,
          212.2728,
          294.44278,
          491.96268
         ],
         "y": [
          -1.3547862,
          -0.55956197,
          -0.20722352,
          -0.028405057,
          0.086662538,
          0.18984433,
          0.30836323,
          0.48828471,
          0.71879232,
          0.99159807,
          1.4397488,
          2.0328445,
          2.9507504,
          4.2064981,
          6.0989499,
          8.7570782,
          12.402665,
          18.237829,
          26.932026,
          37.835003,
          55.534504,
          76.472298,
          112.57916,
          156.74617,
          237.48169,
          317.50555,
          465.05447,
          635.2843,
          978.60852,
          1340.6373,
          1818.2228
         ]
        },
        {
         "name": "Co<sub>30</sub>Ni<sub>60</sub>Fe<sub>10</sub>N<sub>X</sub>",
         "type": "scatter",
         "x": [
          1.7131847,
          1.2516934,
          1.1619028,
          1.1772101,
          1.1607603,
          1.1941121,
          1.2327614,
          1.2591019,
          1.2971585,
          1.3301595,
          1.441456,
          1.4784185,
          1.669457,
          1.8059188,
          1.908543,
          2.0736341,
          3.0313272,
          3.0256763,
          4.1039491,
          5.1203856,
          8.1118059,
          10.975692,
          15.925586,
          21.054235,
          34.54747,
          43.77808,
          79.902321,
          93.510147
         ],
         "y": [
          -1.3707709,
          -0.5176121,
          -0.18812618,
          0.00046871687,
          0.096538864,
          0.21280397,
          0.38621753,
          0.52828896,
          0.78222758,
          1.1050826,
          1.5782266,
          2.2035508,
          3.1286025,
          4.4770317,
          6.6101241,
          9.5876846,
          13.593684,
          19.443422,
          28.765734,
          41.705902,
          59.286232,
          85.273422,
          120.12701,
          175.14534,
          264.05228,
          374.64078,
          497.8002,
          729.23376
         ]
        },
        {
         "name": "IrO<sub>X</sub>",
         "type": "scatter",
         "x": [
          1.2425345,
          0.86763346,
          0.80967486,
          0.78748423,
          0.78672737,
          0.81041646,
          0.84383798,
          0.87638247,
          0.91555423,
          0.97050726,
          1.0089318,
          1.0824873,
          1.1572914,
          1.2196066,
          1.2915958,
          1.3346616,
          1.4341395,
          1.462953,
          1.5317208,
          1.5669743,
          1.6641259,
          1.7183878,
          1.7791544,
          1.8959135,
          1.9486091,
          1.9884435,
          2.1495674,
          2.1598344,
          2.3961401,
          2.6328788,
          2.9362087,
          3.383667,
          4.0144963
         ],
         "y": [
          -1.3625077,
          -0.53743535,
          -0.25291657,
          -0.11352663,
          -0.029187227,
          0.025017835,
          0.078386426,
          0.11458747,
          0.1623292,
          0.17544903,
          0.237341,
          0.25624925,
          0.27103841,
          0.28484136,
          0.25876117,
          0.26561573,
          0.30338347,
          0.30439746,
          0.33273274,
          0.36445683,
          0.43084776,
          0.49041891,
          0.63309902,
          0.80063331,
          1.1032476,
          1.3853452,
          2.0801203,
          2.8833675,
          4.0841641,
          5.7801108,
          8.2833109,
          11.825489,
          17.091127
         ]
        }
       ],
       "layout": {
        "font": {
         "color": "dimgrey",
         "family": "Times New Roman, monospace",
         "size": 18
        },
        "height": 500,
        "paper_bgcolor": "rgba(0, 0, 0, 0)",
        "plot_bgcolor": "rgba(0, 0, 0, 0)",
        "template": {
         "data": {
          "bar": [
           {
            "error_x": {
             "color": "#2a3f5f"
            },
            "error_y": {
             "color": "#2a3f5f"
            },
            "marker": {
             "line": {
              "color": "#E5ECF6",
              "width": 0.5
             },
             "pattern": {
              "fillmode": "overlay",
              "size": 10,
              "solidity": 0.2
             }
            },
            "type": "bar"
           }
          ],
          "barpolar": [
           {
            "marker": {
             "line": {
              "color": "#E5ECF6",
              "width": 0.5
             },
             "pattern": {
              "fillmode": "overlay",
              "size": 10,
              "solidity": 0.2
             }
            },
            "type": "barpolar"
           }
          ],
          "carpet": [
           {
            "aaxis": {
             "endlinecolor": "#2a3f5f",
             "gridcolor": "white",
             "linecolor": "white",
             "minorgridcolor": "white",
             "startlinecolor": "#2a3f5f"
            },
            "baxis": {
             "endlinecolor": "#2a3f5f",
             "gridcolor": "white",
             "linecolor": "white",
             "minorgridcolor": "white",
             "startlinecolor": "#2a3f5f"
            },
            "type": "carpet"
           }
          ],
          "choropleth": [
           {
            "colorbar": {
             "outlinewidth": 0,
             "ticks": ""
            },
            "type": "choropleth"
           }
          ],
          "contour": [
           {
            "colorbar": {
             "outlinewidth": 0,
             "ticks": ""
            },
            "colorscale": [
             [
              0,
              "#0d0887"
             ],
             [
              0.1111111111111111,
              "#46039f"
             ],
             [
              0.2222222222222222,
              "#7201a8"
             ],
             [
              0.3333333333333333,
              "#9c179e"
             ],
             [
              0.4444444444444444,
              "#bd3786"
             ],
             [
              0.5555555555555556,
              "#d8576b"
             ],
             [
              0.6666666666666666,
              "#ed7953"
             ],
             [
              0.7777777777777778,
              "#fb9f3a"
             ],
             [
              0.8888888888888888,
              "#fdca26"
             ],
             [
              1,
              "#f0f921"
             ]
            ],
            "type": "contour"
           }
          ],
          "contourcarpet": [
           {
            "colorbar": {
             "outlinewidth": 0,
             "ticks": ""
            },
            "type": "contourcarpet"
           }
          ],
          "heatmap": [
           {
            "colorbar": {
             "outlinewidth": 0,
             "ticks": ""
            },
            "colorscale": [
             [
              0,
              "#0d0887"
             ],
             [
              0.1111111111111111,
              "#46039f"
             ],
             [
              0.2222222222222222,
              "#7201a8"
             ],
             [
              0.3333333333333333,
              "#9c179e"
             ],
             [
              0.4444444444444444,
              "#bd3786"
             ],
             [
              0.5555555555555556,
              "#d8576b"
             ],
             [
              0.6666666666666666,
              "#ed7953"
             ],
             [
              0.7777777777777778,
              "#fb9f3a"
             ],
             [
              0.8888888888888888,
              "#fdca26"
             ],
             [
              1,
              "#f0f921"
             ]
            ],
            "type": "heatmap"
           }
          ],
          "heatmapgl": [
           {
            "colorbar": {
             "outlinewidth": 0,
             "ticks": ""
            },
            "colorscale": [
             [
              0,
              "#0d0887"
             ],
             [
              0.1111111111111111,
              "#46039f"
             ],
             [
              0.2222222222222222,
              "#7201a8"
             ],
             [
              0.3333333333333333,
              "#9c179e"
             ],
             [
              0.4444444444444444,
              "#bd3786"
             ],
             [
              0.5555555555555556,
              "#d8576b"
             ],
             [
              0.6666666666666666,
              "#ed7953"
             ],
             [
              0.7777777777777778,
              "#fb9f3a"
             ],
             [
              0.8888888888888888,
              "#fdca26"
             ],
             [
              1,
              "#f0f921"
             ]
            ],
            "type": "heatmapgl"
           }
          ],
          "histogram": [
           {
            "marker": {
             "pattern": {
              "fillmode": "overlay",
              "size": 10,
              "solidity": 0.2
             }
            },
            "type": "histogram"
           }
          ],
          "histogram2d": [
           {
            "colorbar": {
             "outlinewidth": 0,
             "ticks": ""
            },
            "colorscale": [
             [
              0,
              "#0d0887"
             ],
             [
              0.1111111111111111,
              "#46039f"
             ],
             [
              0.2222222222222222,
              "#7201a8"
             ],
             [
              0.3333333333333333,
              "#9c179e"
             ],
             [
              0.4444444444444444,
              "#bd3786"
             ],
             [
              0.5555555555555556,
              "#d8576b"
             ],
             [
              0.6666666666666666,
              "#ed7953"
             ],
             [
              0.7777777777777778,
              "#fb9f3a"
             ],
             [
              0.8888888888888888,
              "#fdca26"
             ],
             [
              1,
              "#f0f921"
             ]
            ],
            "type": "histogram2d"
           }
          ],
          "histogram2dcontour": [
           {
            "colorbar": {
             "outlinewidth": 0,
             "ticks": ""
            },
            "colorscale": [
             [
              0,
              "#0d0887"
             ],
             [
              0.1111111111111111,
              "#46039f"
             ],
             [
              0.2222222222222222,
              "#7201a8"
             ],
             [
              0.3333333333333333,
              "#9c179e"
             ],
             [
              0.4444444444444444,
              "#bd3786"
             ],
             [
              0.5555555555555556,
              "#d8576b"
             ],
             [
              0.6666666666666666,
              "#ed7953"
             ],
             [
              0.7777777777777778,
              "#fb9f3a"
             ],
             [
              0.8888888888888888,
              "#fdca26"
             ],
             [
              1,
              "#f0f921"
             ]
            ],
            "type": "histogram2dcontour"
           }
          ],
          "mesh3d": [
           {
            "colorbar": {
             "outlinewidth": 0,
             "ticks": ""
            },
            "type": "mesh3d"
           }
          ],
          "parcoords": [
           {
            "line": {
             "colorbar": {
              "outlinewidth": 0,
              "ticks": ""
             }
            },
            "type": "parcoords"
           }
          ],
          "pie": [
           {
            "automargin": true,
            "type": "pie"
           }
          ],
          "scatter": [
           {
            "fillpattern": {
             "fillmode": "overlay",
             "size": 10,
             "solidity": 0.2
            },
            "type": "scatter"
           }
          ],
          "scatter3d": [
           {
            "line": {
             "colorbar": {
              "outlinewidth": 0,
              "ticks": ""
             }
            },
            "marker": {
             "colorbar": {
              "outlinewidth": 0,
              "ticks": ""
             }
            },
            "type": "scatter3d"
           }
          ],
          "scattercarpet": [
           {
            "marker": {
             "colorbar": {
              "outlinewidth": 0,
              "ticks": ""
             }
            },
            "type": "scattercarpet"
           }
          ],
          "scattergeo": [
           {
            "marker": {
             "colorbar": {
              "outlinewidth": 0,
              "ticks": ""
             }
            },
            "type": "scattergeo"
           }
          ],
          "scattergl": [
           {
            "marker": {
             "colorbar": {
              "outlinewidth": 0,
              "ticks": ""
             }
            },
            "type": "scattergl"
           }
          ],
          "scattermapbox": [
           {
            "marker": {
             "colorbar": {
              "outlinewidth": 0,
              "ticks": ""
             }
            },
            "type": "scattermapbox"
           }
          ],
          "scatterpolar": [
           {
            "marker": {
             "colorbar": {
              "outlinewidth": 0,
              "ticks": ""
             }
            },
            "type": "scatterpolar"
           }
          ],
          "scatterpolargl": [
           {
            "marker": {
             "colorbar": {
              "outlinewidth": 0,
              "ticks": ""
             }
            },
            "type": "scatterpolargl"
           }
          ],
          "scatterternary": [
           {
            "marker": {
             "colorbar": {
              "outlinewidth": 0,
              "ticks": ""
             }
            },
            "type": "scatterternary"
           }
          ],
          "surface": [
           {
            "colorbar": {
             "outlinewidth": 0,
             "ticks": ""
            },
            "colorscale": [
             [
              0,
              "#0d0887"
             ],
             [
              0.1111111111111111,
              "#46039f"
             ],
             [
              0.2222222222222222,
              "#7201a8"
             ],
             [
              0.3333333333333333,
              "#9c179e"
             ],
             [
              0.4444444444444444,
              "#bd3786"
             ],
             [
              0.5555555555555556,
              "#d8576b"
             ],
             [
              0.6666666666666666,
              "#ed7953"
             ],
             [
              0.7777777777777778,
              "#fb9f3a"
             ],
             [
              0.8888888888888888,
              "#fdca26"
             ],
             [
              1,
              "#f0f921"
             ]
            ],
            "type": "surface"
           }
          ],
          "table": [
           {
            "cells": {
             "fill": {
              "color": "#EBF0F8"
             },
             "line": {
              "color": "white"
             }
            },
            "header": {
             "fill": {
              "color": "#C8D4E3"
             },
             "line": {
              "color": "white"
             }
            },
            "type": "table"
           }
          ]
         },
         "layout": {
          "annotationdefaults": {
           "arrowcolor": "#2a3f5f",
           "arrowhead": 0,
           "arrowwidth": 1
          },
          "autotypenumbers": "strict",
          "coloraxis": {
           "colorbar": {
            "outlinewidth": 0,
            "ticks": ""
           }
          },
          "colorscale": {
           "diverging": [
            [
             0,
             "#8e0152"
            ],
            [
             0.1,
             "#c51b7d"
            ],
            [
             0.2,
             "#de77ae"
            ],
            [
             0.3,
             "#f1b6da"
            ],
            [
             0.4,
             "#fde0ef"
            ],
            [
             0.5,
             "#f7f7f7"
            ],
            [
             0.6,
             "#e6f5d0"
            ],
            [
             0.7,
             "#b8e186"
            ],
            [
             0.8,
             "#7fbc41"
            ],
            [
             0.9,
             "#4d9221"
            ],
            [
             1,
             "#276419"
            ]
           ],
           "sequential": [
            [
             0,
             "#0d0887"
            ],
            [
             0.1111111111111111,
             "#46039f"
            ],
            [
             0.2222222222222222,
             "#7201a8"
            ],
            [
             0.3333333333333333,
             "#9c179e"
            ],
            [
             0.4444444444444444,
             "#bd3786"
            ],
            [
             0.5555555555555556,
             "#d8576b"
            ],
            [
             0.6666666666666666,
             "#ed7953"
            ],
            [
             0.7777777777777778,
             "#fb9f3a"
            ],
            [
             0.8888888888888888,
             "#fdca26"
            ],
            [
             1,
             "#f0f921"
            ]
           ],
           "sequentialminus": [
            [
             0,
             "#0d0887"
            ],
            [
             0.1111111111111111,
             "#46039f"
            ],
            [
             0.2222222222222222,
             "#7201a8"
            ],
            [
             0.3333333333333333,
             "#9c179e"
            ],
            [
             0.4444444444444444,
             "#bd3786"
            ],
            [
             0.5555555555555556,
             "#d8576b"
            ],
            [
             0.6666666666666666,
             "#ed7953"
            ],
            [
             0.7777777777777778,
             "#fb9f3a"
            ],
            [
             0.8888888888888888,
             "#fdca26"
            ],
            [
             1,
             "#f0f921"
            ]
           ]
          },
          "colorway": [
           "#636efa",
           "#EF553B",
           "#00cc96",
           "#ab63fa",
           "#FFA15A",
           "#19d3f3",
           "#FF6692",
           "#B6E880",
           "#FF97FF",
           "#FECB52"
          ],
          "font": {
           "color": "#2a3f5f"
          },
          "geo": {
           "bgcolor": "white",
           "lakecolor": "white",
           "landcolor": "#E5ECF6",
           "showlakes": true,
           "showland": true,
           "subunitcolor": "white"
          },
          "hoverlabel": {
           "align": "left"
          },
          "hovermode": "closest",
          "mapbox": {
           "style": "light"
          },
          "paper_bgcolor": "white",
          "plot_bgcolor": "#E5ECF6",
          "polar": {
           "angularaxis": {
            "gridcolor": "white",
            "linecolor": "white",
            "ticks": ""
           },
           "bgcolor": "#E5ECF6",
           "radialaxis": {
            "gridcolor": "white",
            "linecolor": "white",
            "ticks": ""
           }
          },
          "scene": {
           "xaxis": {
            "backgroundcolor": "#E5ECF6",
            "gridcolor": "white",
            "gridwidth": 2,
            "linecolor": "white",
            "showbackground": true,
            "ticks": "",
            "zerolinecolor": "white"
           },
           "yaxis": {
            "backgroundcolor": "#E5ECF6",
            "gridcolor": "white",
            "gridwidth": 2,
            "linecolor": "white",
            "showbackground": true,
            "ticks": "",
            "zerolinecolor": "white"
           },
           "zaxis": {
            "backgroundcolor": "#E5ECF6",
            "gridcolor": "white",
            "gridwidth": 2,
            "linecolor": "white",
            "showbackground": true,
            "ticks": "",
            "zerolinecolor": "white"
           }
          },
          "shapedefaults": {
           "line": {
            "color": "#2a3f5f"
           }
          },
          "ternary": {
           "aaxis": {
            "gridcolor": "white",
            "linecolor": "white",
            "ticks": ""
           },
           "baxis": {
            "gridcolor": "white",
            "linecolor": "white",
            "ticks": ""
           },
           "bgcolor": "#E5ECF6",
           "caxis": {
            "gridcolor": "white",
            "linecolor": "white",
            "ticks": ""
           }
          },
          "title": {
           "x": 0.05
          },
          "xaxis": {
           "automargin": true,
           "gridcolor": "white",
           "linecolor": "white",
           "ticks": "",
           "title": {
            "standoff": 15
           },
           "zerolinecolor": "white",
           "zerolinewidth": 2
          },
          "yaxis": {
           "automargin": true,
           "gridcolor": "white",
           "linecolor": "white",
           "ticks": "",
           "title": {
            "standoff": 15
           },
           "zerolinecolor": "white",
           "zerolinewidth": 2
          }
         }
        },
        "width": 500,
        "xaxis": {
         "gridcolor": "grey",
         "gridwidth": 1,
         "linecolor": "black",
         "linewidth": 2,
         "nticks": 10,
         "range": [
          0,
          2
         ],
         "showgrid": false,
         "showline": true,
         "ticks": "outside",
         "title": {
          "text": "Time (min)"
         },
         "zeroline": false,
         "zerolinecolor": "grey",
         "zerolinewidth": 1
        },
        "yaxis": {
         "gridcolor": "grey",
         "gridwidth": 1,
         "linecolor": "black",
         "linewidth": 2,
         "nticks": 10,
         "range": [
          0,
          2
         ],
         "showgrid": false,
         "showline": true,
         "ticks": "outside",
         "title": {
          "text": "Overpotential, η(mV) - iR<sub>u</sub>"
         },
         "zeroline": true,
         "zerolinecolor": "grey",
         "zerolinewidth": 1
        }
       }
      }
     },
     "metadata": {},
     "output_type": "display_data"
    }
   ],
   "source": [
    "import numpy as np\n",
    "import plotly.graph_objects as go\n",
    "import pandas as pd\n",
    "import plotly.express as px\n",
    "from EC_data_processing_lib import get_header_length\n",
    "from EC_data_processing_lib import analyse_file\n",
    "from EC_data_processing_lib import get_decimal_separator\n",
    "from pandas import DataFrame as df\n",
    "\n",
    "fig = go.Figure()\n",
    "\n",
    "#the following section uploads the data. You need to update the dataset array when you add or remove files. \n",
    "Co50Ni25Fe10Nx_dict = {\n",
    "'Ru' : 0.85,  #measured resistance in ohms\n",
    "'data' : 'Data_1/2022_01_24 Co50Ni25Fe25Nx elec1 set1_C05.mpt', #file path the slash needs to be '/' rather than the '\\' which is automatic\n",
    "'label' : 'Co<sub>50</sub>Ni<sub>25</sub>Fe<sub>10</sub>N<sub>X</sub>',\n",
    "'cal' : 0.309, #calibration of the Hg/HgO electrode vs RHE converting to overpotential vs OER MUST BE UPDATED WHEN USING A DIFFERENT REF ELECTRODE\n",
    "}\n",
    "\n",
    "Co30Ni60Fe10Nx_dict = {\n",
    "'Ru' : 0.85,  #measured resistance in ohms\n",
    "'data' : 'Data_1/2022_01_25 Co30Ni60Fe10Nx 1mg  ref309 elect1 set_C05.mpt',\n",
    "'label' : 'Co<sub>30</sub>Ni<sub>60</sub>Fe<sub>10</sub>N<sub>X</sub>',\n",
    "'cal' : 0.309,\n",
    "}\n",
    "\n",
    "IrOx_dict = {\n",
    "'Ru' : 0.85,  #measured resistance in ohms\n",
    "'data' : 'Data_1/2022_01_26 IrOx 1mg  ref309 elect1_C05.mpt',\n",
    "'label' : 'IrO<sub>X</sub>',\n",
    "'cal' : 0.309,\n",
    "}\n",
    "\n",
    "dataset = [Co50Ni25Fe10Nx_dict,Co30Ni60Fe10Nx_dict, IrOx_dict]\n",
    "for i in dataset:\n",
    "    headerlength = get_header_length(i['data'])\n",
    "    data = pd.read_csv(i['data'], encoding='ansi', sep=\"\\t\", decimal=get_decimal_separator(i['data']),  skiprows=range(headerlength))\n",
    "    real = data['Re(Z)/Ohm']\n",
    "    imaginary = data['-Im(Z)/Ohm']\n",
    "    \n",
    "      \n",
    "   \n",
    "\n",
    "    fig.add_trace(go.Scatter(\n",
    "        x=real,\n",
    "        y=imaginary,\n",
    "        name= i['label']\n",
    "    )\n",
    "    \n",
    "    \n",
    "    \n",
    "    )\n",
    "fig.update_xaxes(range=[0, 2],\n",
    "    nticks=10,\n",
    "    ticks='outside',\n",
    "    showgrid=False, gridwidth=1, gridcolor='grey',\n",
    "    zeroline=False, zerolinecolor='grey', zerolinewidth= 1,\n",
    "    showline=True, linewidth=2, linecolor='black')\n",
    "\n",
    "fig.update_yaxes(range=[0, 2],\n",
    "    nticks=10,\n",
    "    showgrid=False, gridwidth=1, gridcolor='grey',\n",
    "    ticks='outside',\n",
    "    zeroline=True, zerolinecolor='grey', zerolinewidth= 1,\n",
    "    showline=True, linewidth=2, linecolor='black')\n",
    "fig.update_layout(\n",
    "    #title=\"CV\",\n",
    "    xaxis_title=\"Time (min)\",\n",
    "    yaxis_title=\"Overpotential, η(mV) - iR<sub>u</sub>\",\n",
    "    font=dict(\n",
    "        family=\"Times New Roman, monospace\",\n",
    "        size=18,\n",
    "        color=\"dimgrey\"\n",
    "        \n",
    "    )\n",
    ")\n",
    "\n",
    "fig.update_layout({\n",
    "    \"plot_bgcolor\": \"rgba(0, 0, 0, 0)\",\n",
    "    'paper_bgcolor': 'rgba(0, 0, 0, 0)', #sets the background to be transparent... might appear black in .jpeg but will be transparent in the .svg\n",
    "})\n",
    "fig.update_layout(\n",
    "    width = 500,\n",
    "    height = 500)\n",
    "fig.show()\n",
    "fig.write_image('PEIS.jpeg')\n",
    "fig.write_image('PEIS.svg')\n"
   ]
  },
  {
   "cell_type": "code",
   "execution_count": null,
   "metadata": {},
   "outputs": [],
   "source": []
  }
 ],
 "metadata": {
  "kernelspec": {
   "display_name": "MachineLearning_20221214",
   "language": "python",
   "name": "python3"
  },
  "language_info": {
   "codemirror_mode": {
    "name": "ipython",
    "version": 3
   },
   "file_extension": ".py",
   "mimetype": "text/x-python",
   "name": "python",
   "nbconvert_exporter": "python",
   "pygments_lexer": "ipython3",
   "version": "3.10.8"
  },
  "orig_nbformat": 4,
  "vscode": {
   "interpreter": {
    "hash": "6d6055fddfcfbd74bcbc7b01a52d824f73d51a69c9d6df85ac5e8b41880afc70"
   }
  }
 },
 "nbformat": 4,
 "nbformat_minor": 2
}
