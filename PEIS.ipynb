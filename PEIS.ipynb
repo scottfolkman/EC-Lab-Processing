{
 "cells": [
  {
   "cell_type": "code",
   "execution_count": 1,
   "metadata": {},
   "outputs": [
    {
     "name": "stdout",
     "output_type": "stream",
     "text": [
      "File not found: \n"
     ]
    },
    {
     "data": {
      "application/vnd.plotly.v1+json": {
       "config": {
        "plotlyServerURL": "https://plot.ly"
       },
       "data": [
        {
         "line": {
          "color": "rgb(204, 102, 119)"
         },
         "name": "NiCoFeO<sub>x</sub>",
         "type": "scatter",
         "x": [
          -0.08467461913824081,
          -0.022116856649518013,
          0.005980703514069319,
          0.01757497899234295,
          0.02399815060198307,
          0.02593434415757656,
          0.02707633748650551,
          0.028380833566188812,
          0.029803648591041565,
          0.03160272538661957,
          0.033566609025001526,
          0.03609231114387512,
          0.03919333219528198,
          0.04296600818634033,
          0.04785812646150589,
          0.05396799370646477,
          0.06169198080897331,
          0.0703335702419281,
          0.07850615680217743,
          0.08526546508073807,
          0.08984266966581345,
          0.09255790710449219,
          0.09484397619962692,
          0.09627321362495422,
          0.09723874181509018,
          0.0984601229429245,
          0.09924626350402832,
          0.09936143457889557,
          0.10021058470010757,
          0.10135059058666229,
          0.10085710138082504,
          0.10116616636514664,
          0.10180141031742096,
          0.10143043100833893,
          0.10124796628952026,
          0.1015692800283432,
          0.10127298533916473,
          0.1008458063006401
         ],
         "y": [
          -0.09907063096761703,
          -0.09343302249908447,
          -0.07173564285039902,
          -0.04894046112895012,
          -0.03181346878409386,
          -0.020748073235154152,
          -0.012076382525265217,
          -0.005400910507887602,
          -0.00032924735569395125,
          0.0036778694484382868,
          0.007094375789165497,
          0.010249580256640911,
          0.013388460502028465,
          0.01645357720553875,
          0.019788993522524834,
          0.023024899885058403,
          0.02518092654645443,
          0.025433052331209183,
          0.02361295558512211,
          0.019969316199421883,
          0.016033751890063286,
          0.012449383735656738,
          0.009720511734485626,
          0.007759399712085724,
          0.0064081791788339615,
          0.004633667413145304,
          0.0042932042852044106,
          0.002992727793753147,
          0.003043661592528224,
          0.002536886604502797,
          0.00232731644064188,
          0.0007764195324853063,
          0.0017599413404241204,
          0.0010226841550320387,
          0.0010351816890761256,
          0.0014738953905180097,
          0.0021718142088502645,
          0.0022498844191432
         ]
        },
        {
         "line": {
          "color": "rgb(221, 204, 119)"
         },
         "name": "Co<sub>57</sub>Ni<sub>14</sub>Fe<sub>29</sub>N<sub>x</sub>",
         "type": "scatter",
         "x": [
          -0.11320602148771286,
          -0.03560502454638481,
          0.0009472206002101302,
          0.013299722224473953,
          0.020240454003214836,
          0.021663770079612732,
          0.022087471559643745,
          0.022266080603003502,
          0.02270815335214138,
          0.023145092651247978,
          0.02365620993077755,
          0.02421693503856659,
          0.02493594028055668,
          0.025770025327801704,
          0.026935862377285957,
          0.02852793037891388,
          0.030708005651831627,
          0.034124065190553665,
          0.03905647620558739,
          0.04562314599752426,
          0.052738409489393234,
          0.0588408000767231,
          0.06276057660579681,
          0.06491325795650482,
          0.06620679050683975,
          0.06696672737598419,
          0.06763695925474167,
          0.068382129073143,
          0.06882315129041672,
          0.06938710808753967,
          0.06948625296354294,
          0.06983643025159836,
          0.07074671238660812,
          0.07081528753042221,
          0.07123758643865585,
          0.07142768800258636,
          0.07171642035245895,
          0.07154078781604767
         ],
         "y": [
          -0.12047749012708664,
          -0.12038593739271164,
          -0.09190994501113892,
          -0.06422789394855499,
          -0.04380368813872337,
          -0.030711064115166664,
          -0.020357102155685425,
          -0.012984232045710087,
          -0.007839126512408257,
          -0.0041539957746863365,
          -0.0014271145919337869,
          0.0007488836417905986,
          0.0026661932934075594,
          0.004519870039075613,
          0.006461707875132561,
          0.008809233084321022,
          0.011576256714761257,
          0.014541822485625744,
          0.017588989809155464,
          0.019306810572743416,
          0.01872541755437851,
          0.015894195064902306,
          0.012310663238167763,
          0.008961900137364864,
          0.006846840493381023,
          0.005301562137901783,
          0.004453971050679684,
          0.0034395481925457716,
          0.0027568538207560778,
          0.002429585438221693,
          0.0016853451961651444,
          0.0011191271478310227,
          0.001357642817310989,
          0.0006737150251865387,
          0.0008923881687223911,
          0.001213511684909463,
          0.001460881787352264,
          0.0012888526543974876
         ]
        },
        {
         "line": {
          "color": "rgb(68, 170, 153)"
         },
         "name": "Co<sub>45</sub>Ni<sub>45</sub>Fe<sub>10</sub>N<sub>x</sub>",
         "type": "scatter",
         "x": [
          -0.10806309431791306,
          -0.03328799083828926,
          0.0009033504175022244,
          0.013459580019116402,
          0.020787499845027924,
          0.02243325114250183,
          0.023579204455018044,
          0.024513760581612587,
          0.025869756937026978,
          0.027418676763772964,
          0.02944398671388626,
          0.03178369998931885,
          0.03468799591064453,
          0.038189444690942764,
          0.042379699647426605,
          0.047636400908231735,
          0.0541691891849041,
          0.06152341514825821,
          0.06907937675714493,
          0.07577227056026459,
          0.08069077879190445,
          0.08468031138181686,
          0.08744222670793533,
          0.08959813416004181,
          0.09112291783094406,
          0.09235051274299622,
          0.0935949832201004,
          0.09405045956373215,
          0.09452702850103378,
          0.09514687210321426,
          0.09493575245141983,
          0.09522157907485962,
          0.09630050510168076,
          0.09572838991880417,
          0.09577664732933044,
          0.09587781131267548,
          0.09613477438688278,
          0.09674560278654099
         ],
         "y": [
          -0.12222068756818771,
          -0.11990081518888474,
          -0.09078492224216461,
          -0.06384503096342087,
          -0.04259095713496208,
          -0.02859780751168728,
          -0.017494231462478638,
          -0.009304617531597614,
          -0.003257717937231064,
          0.0013299487764015794,
          0.005154913291335106,
          0.00841036718338728,
          0.01148778572678566,
          0.01434934139251709,
          0.01724007911980152,
          0.01999996043741703,
          0.022267483174800873,
          0.023294558748602867,
          0.022260701283812523,
          0.020037245005369186,
          0.016977746039628983,
          0.014082550071179867,
          0.011469707824289799,
          0.009386288933455944,
          0.007434723433107138,
          0.005862418562173843,
          0.0047175209037959576,
          0.003666051896288991,
          0.0028416896238923073,
          0.002207959769293666,
          0.0017872120952233672,
          0.0011410416336730123,
          0.0016222322592511773,
          0.0010793856345117092,
          0.0011966697638854384,
          0.00142680446151644,
          0.0012898450950160623,
          0.001204482396133244
         ]
        }
       ],
       "layout": {
        "font": {
         "color": "dimgrey",
         "family": "Times New Roman, monospace",
         "size": 18
        },
        "height": 500,
        "paper_bgcolor": "rgba(0, 0, 0, 0)",
        "plot_bgcolor": "rgba(0, 0, 0, 0)",
        "template": {
         "data": {
          "bar": [
           {
            "error_x": {
             "color": "#2a3f5f"
            },
            "error_y": {
             "color": "#2a3f5f"
            },
            "marker": {
             "line": {
              "color": "#E5ECF6",
              "width": 0.5
             },
             "pattern": {
              "fillmode": "overlay",
              "size": 10,
              "solidity": 0.2
             }
            },
            "type": "bar"
           }
          ],
          "barpolar": [
           {
            "marker": {
             "line": {
              "color": "#E5ECF6",
              "width": 0.5
             },
             "pattern": {
              "fillmode": "overlay",
              "size": 10,
              "solidity": 0.2
             }
            },
            "type": "barpolar"
           }
          ],
          "carpet": [
           {
            "aaxis": {
             "endlinecolor": "#2a3f5f",
             "gridcolor": "white",
             "linecolor": "white",
             "minorgridcolor": "white",
             "startlinecolor": "#2a3f5f"
            },
            "baxis": {
             "endlinecolor": "#2a3f5f",
             "gridcolor": "white",
             "linecolor": "white",
             "minorgridcolor": "white",
             "startlinecolor": "#2a3f5f"
            },
            "type": "carpet"
           }
          ],
          "choropleth": [
           {
            "colorbar": {
             "outlinewidth": 0,
             "ticks": ""
            },
            "type": "choropleth"
           }
          ],
          "contour": [
           {
            "colorbar": {
             "outlinewidth": 0,
             "ticks": ""
            },
            "colorscale": [
             [
              0,
              "#0d0887"
             ],
             [
              0.1111111111111111,
              "#46039f"
             ],
             [
              0.2222222222222222,
              "#7201a8"
             ],
             [
              0.3333333333333333,
              "#9c179e"
             ],
             [
              0.4444444444444444,
              "#bd3786"
             ],
             [
              0.5555555555555556,
              "#d8576b"
             ],
             [
              0.6666666666666666,
              "#ed7953"
             ],
             [
              0.7777777777777778,
              "#fb9f3a"
             ],
             [
              0.8888888888888888,
              "#fdca26"
             ],
             [
              1,
              "#f0f921"
             ]
            ],
            "type": "contour"
           }
          ],
          "contourcarpet": [
           {
            "colorbar": {
             "outlinewidth": 0,
             "ticks": ""
            },
            "type": "contourcarpet"
           }
          ],
          "heatmap": [
           {
            "colorbar": {
             "outlinewidth": 0,
             "ticks": ""
            },
            "colorscale": [
             [
              0,
              "#0d0887"
             ],
             [
              0.1111111111111111,
              "#46039f"
             ],
             [
              0.2222222222222222,
              "#7201a8"
             ],
             [
              0.3333333333333333,
              "#9c179e"
             ],
             [
              0.4444444444444444,
              "#bd3786"
             ],
             [
              0.5555555555555556,
              "#d8576b"
             ],
             [
              0.6666666666666666,
              "#ed7953"
             ],
             [
              0.7777777777777778,
              "#fb9f3a"
             ],
             [
              0.8888888888888888,
              "#fdca26"
             ],
             [
              1,
              "#f0f921"
             ]
            ],
            "type": "heatmap"
           }
          ],
          "heatmapgl": [
           {
            "colorbar": {
             "outlinewidth": 0,
             "ticks": ""
            },
            "colorscale": [
             [
              0,
              "#0d0887"
             ],
             [
              0.1111111111111111,
              "#46039f"
             ],
             [
              0.2222222222222222,
              "#7201a8"
             ],
             [
              0.3333333333333333,
              "#9c179e"
             ],
             [
              0.4444444444444444,
              "#bd3786"
             ],
             [
              0.5555555555555556,
              "#d8576b"
             ],
             [
              0.6666666666666666,
              "#ed7953"
             ],
             [
              0.7777777777777778,
              "#fb9f3a"
             ],
             [
              0.8888888888888888,
              "#fdca26"
             ],
             [
              1,
              "#f0f921"
             ]
            ],
            "type": "heatmapgl"
           }
          ],
          "histogram": [
           {
            "marker": {
             "pattern": {
              "fillmode": "overlay",
              "size": 10,
              "solidity": 0.2
             }
            },
            "type": "histogram"
           }
          ],
          "histogram2d": [
           {
            "colorbar": {
             "outlinewidth": 0,
             "ticks": ""
            },
            "colorscale": [
             [
              0,
              "#0d0887"
             ],
             [
              0.1111111111111111,
              "#46039f"
             ],
             [
              0.2222222222222222,
              "#7201a8"
             ],
             [
              0.3333333333333333,
              "#9c179e"
             ],
             [
              0.4444444444444444,
              "#bd3786"
             ],
             [
              0.5555555555555556,
              "#d8576b"
             ],
             [
              0.6666666666666666,
              "#ed7953"
             ],
             [
              0.7777777777777778,
              "#fb9f3a"
             ],
             [
              0.8888888888888888,
              "#fdca26"
             ],
             [
              1,
              "#f0f921"
             ]
            ],
            "type": "histogram2d"
           }
          ],
          "histogram2dcontour": [
           {
            "colorbar": {
             "outlinewidth": 0,
             "ticks": ""
            },
            "colorscale": [
             [
              0,
              "#0d0887"
             ],
             [
              0.1111111111111111,
              "#46039f"
             ],
             [
              0.2222222222222222,
              "#7201a8"
             ],
             [
              0.3333333333333333,
              "#9c179e"
             ],
             [
              0.4444444444444444,
              "#bd3786"
             ],
             [
              0.5555555555555556,
              "#d8576b"
             ],
             [
              0.6666666666666666,
              "#ed7953"
             ],
             [
              0.7777777777777778,
              "#fb9f3a"
             ],
             [
              0.8888888888888888,
              "#fdca26"
             ],
             [
              1,
              "#f0f921"
             ]
            ],
            "type": "histogram2dcontour"
           }
          ],
          "mesh3d": [
           {
            "colorbar": {
             "outlinewidth": 0,
             "ticks": ""
            },
            "type": "mesh3d"
           }
          ],
          "parcoords": [
           {
            "line": {
             "colorbar": {
              "outlinewidth": 0,
              "ticks": ""
             }
            },
            "type": "parcoords"
           }
          ],
          "pie": [
           {
            "automargin": true,
            "type": "pie"
           }
          ],
          "scatter": [
           {
            "fillpattern": {
             "fillmode": "overlay",
             "size": 10,
             "solidity": 0.2
            },
            "type": "scatter"
           }
          ],
          "scatter3d": [
           {
            "line": {
             "colorbar": {
              "outlinewidth": 0,
              "ticks": ""
             }
            },
            "marker": {
             "colorbar": {
              "outlinewidth": 0,
              "ticks": ""
             }
            },
            "type": "scatter3d"
           }
          ],
          "scattercarpet": [
           {
            "marker": {
             "colorbar": {
              "outlinewidth": 0,
              "ticks": ""
             }
            },
            "type": "scattercarpet"
           }
          ],
          "scattergeo": [
           {
            "marker": {
             "colorbar": {
              "outlinewidth": 0,
              "ticks": ""
             }
            },
            "type": "scattergeo"
           }
          ],
          "scattergl": [
           {
            "marker": {
             "colorbar": {
              "outlinewidth": 0,
              "ticks": ""
             }
            },
            "type": "scattergl"
           }
          ],
          "scattermapbox": [
           {
            "marker": {
             "colorbar": {
              "outlinewidth": 0,
              "ticks": ""
             }
            },
            "type": "scattermapbox"
           }
          ],
          "scatterpolar": [
           {
            "marker": {
             "colorbar": {
              "outlinewidth": 0,
              "ticks": ""
             }
            },
            "type": "scatterpolar"
           }
          ],
          "scatterpolargl": [
           {
            "marker": {
             "colorbar": {
              "outlinewidth": 0,
              "ticks": ""
             }
            },
            "type": "scatterpolargl"
           }
          ],
          "scatterternary": [
           {
            "marker": {
             "colorbar": {
              "outlinewidth": 0,
              "ticks": ""
             }
            },
            "type": "scatterternary"
           }
          ],
          "surface": [
           {
            "colorbar": {
             "outlinewidth": 0,
             "ticks": ""
            },
            "colorscale": [
             [
              0,
              "#0d0887"
             ],
             [
              0.1111111111111111,
              "#46039f"
             ],
             [
              0.2222222222222222,
              "#7201a8"
             ],
             [
              0.3333333333333333,
              "#9c179e"
             ],
             [
              0.4444444444444444,
              "#bd3786"
             ],
             [
              0.5555555555555556,
              "#d8576b"
             ],
             [
              0.6666666666666666,
              "#ed7953"
             ],
             [
              0.7777777777777778,
              "#fb9f3a"
             ],
             [
              0.8888888888888888,
              "#fdca26"
             ],
             [
              1,
              "#f0f921"
             ]
            ],
            "type": "surface"
           }
          ],
          "table": [
           {
            "cells": {
             "fill": {
              "color": "#EBF0F8"
             },
             "line": {
              "color": "white"
             }
            },
            "header": {
             "fill": {
              "color": "#C8D4E3"
             },
             "line": {
              "color": "white"
             }
            },
            "type": "table"
           }
          ]
         },
         "layout": {
          "annotationdefaults": {
           "arrowcolor": "#2a3f5f",
           "arrowhead": 0,
           "arrowwidth": 1
          },
          "autotypenumbers": "strict",
          "coloraxis": {
           "colorbar": {
            "outlinewidth": 0,
            "ticks": ""
           }
          },
          "colorscale": {
           "diverging": [
            [
             0,
             "#8e0152"
            ],
            [
             0.1,
             "#c51b7d"
            ],
            [
             0.2,
             "#de77ae"
            ],
            [
             0.3,
             "#f1b6da"
            ],
            [
             0.4,
             "#fde0ef"
            ],
            [
             0.5,
             "#f7f7f7"
            ],
            [
             0.6,
             "#e6f5d0"
            ],
            [
             0.7,
             "#b8e186"
            ],
            [
             0.8,
             "#7fbc41"
            ],
            [
             0.9,
             "#4d9221"
            ],
            [
             1,
             "#276419"
            ]
           ],
           "sequential": [
            [
             0,
             "#0d0887"
            ],
            [
             0.1111111111111111,
             "#46039f"
            ],
            [
             0.2222222222222222,
             "#7201a8"
            ],
            [
             0.3333333333333333,
             "#9c179e"
            ],
            [
             0.4444444444444444,
             "#bd3786"
            ],
            [
             0.5555555555555556,
             "#d8576b"
            ],
            [
             0.6666666666666666,
             "#ed7953"
            ],
            [
             0.7777777777777778,
             "#fb9f3a"
            ],
            [
             0.8888888888888888,
             "#fdca26"
            ],
            [
             1,
             "#f0f921"
            ]
           ],
           "sequentialminus": [
            [
             0,
             "#0d0887"
            ],
            [
             0.1111111111111111,
             "#46039f"
            ],
            [
             0.2222222222222222,
             "#7201a8"
            ],
            [
             0.3333333333333333,
             "#9c179e"
            ],
            [
             0.4444444444444444,
             "#bd3786"
            ],
            [
             0.5555555555555556,
             "#d8576b"
            ],
            [
             0.6666666666666666,
             "#ed7953"
            ],
            [
             0.7777777777777778,
             "#fb9f3a"
            ],
            [
             0.8888888888888888,
             "#fdca26"
            ],
            [
             1,
             "#f0f921"
            ]
           ]
          },
          "colorway": [
           "#636efa",
           "#EF553B",
           "#00cc96",
           "#ab63fa",
           "#FFA15A",
           "#19d3f3",
           "#FF6692",
           "#B6E880",
           "#FF97FF",
           "#FECB52"
          ],
          "font": {
           "color": "#2a3f5f"
          },
          "geo": {
           "bgcolor": "white",
           "lakecolor": "white",
           "landcolor": "#E5ECF6",
           "showlakes": true,
           "showland": true,
           "subunitcolor": "white"
          },
          "hoverlabel": {
           "align": "left"
          },
          "hovermode": "closest",
          "mapbox": {
           "style": "light"
          },
          "paper_bgcolor": "white",
          "plot_bgcolor": "#E5ECF6",
          "polar": {
           "angularaxis": {
            "gridcolor": "white",
            "linecolor": "white",
            "ticks": ""
           },
           "bgcolor": "#E5ECF6",
           "radialaxis": {
            "gridcolor": "white",
            "linecolor": "white",
            "ticks": ""
           }
          },
          "scene": {
           "xaxis": {
            "backgroundcolor": "#E5ECF6",
            "gridcolor": "white",
            "gridwidth": 2,
            "linecolor": "white",
            "showbackground": true,
            "ticks": "",
            "zerolinecolor": "white"
           },
           "yaxis": {
            "backgroundcolor": "#E5ECF6",
            "gridcolor": "white",
            "gridwidth": 2,
            "linecolor": "white",
            "showbackground": true,
            "ticks": "",
            "zerolinecolor": "white"
           },
           "zaxis": {
            "backgroundcolor": "#E5ECF6",
            "gridcolor": "white",
            "gridwidth": 2,
            "linecolor": "white",
            "showbackground": true,
            "ticks": "",
            "zerolinecolor": "white"
           }
          },
          "shapedefaults": {
           "line": {
            "color": "#2a3f5f"
           }
          },
          "ternary": {
           "aaxis": {
            "gridcolor": "white",
            "linecolor": "white",
            "ticks": ""
           },
           "baxis": {
            "gridcolor": "white",
            "linecolor": "white",
            "ticks": ""
           },
           "bgcolor": "#E5ECF6",
           "caxis": {
            "gridcolor": "white",
            "linecolor": "white",
            "ticks": ""
           }
          },
          "title": {
           "x": 0.05
          },
          "xaxis": {
           "automargin": true,
           "gridcolor": "white",
           "linecolor": "white",
           "ticks": "",
           "title": {
            "standoff": 15
           },
           "zerolinecolor": "white",
           "zerolinewidth": 2
          },
          "yaxis": {
           "automargin": true,
           "gridcolor": "white",
           "linecolor": "white",
           "ticks": "",
           "title": {
            "standoff": 15
           },
           "zerolinecolor": "white",
           "zerolinewidth": 2
          }
         }
        },
        "width": 500,
        "xaxis": {
         "gridcolor": "grey",
         "gridwidth": 1,
         "linecolor": "black",
         "linewidth": 2,
         "nticks": 10,
         "range": [
          0,
          2
         ],
         "showgrid": false,
         "showline": true,
         "ticks": "outside",
         "title": {
          "text": "Re(Z) (ohm)"
         },
         "zeroline": false,
         "zerolinecolor": "grey",
         "zerolinewidth": 1
        },
        "yaxis": {
         "gridcolor": "grey",
         "gridwidth": 1,
         "linecolor": "black",
         "linewidth": 2,
         "nticks": 10,
         "range": [
          0,
          2
         ],
         "showgrid": false,
         "showline": true,
         "ticks": "outside",
         "title": {
          "text": "-Im(Z) (ohm)"
         },
         "zeroline": true,
         "zerolinecolor": "grey",
         "zerolinewidth": 1
        }
       }
      }
     },
     "metadata": {},
     "output_type": "display_data"
    }
   ],
   "source": [
    "import numpy as np\n",
    "import plotly.graph_objects as go\n",
    "import pandas as pd\n",
    "import plotly.express as px\n",
    "from EC_data_processing_lib import get_header_length\n",
    "from EC_data_processing_lib import analyse_file\n",
    "from EC_data_processing_lib import get_decimal_separator\n",
    "from pandas import DataFrame as df\n",
    "from Data_setup_AEMEL_NewCell_CP import data_set\n",
    "import os\n",
    "from galvani import BioLogic\n",
    "\n",
    "fig = go.Figure()\n",
    "colors = px.colors.qualitative.Safe\n",
    "\n",
    "for i in data_set:\n",
    "    file = data_set[i]['data_PEIS']\n",
    "    if not os.path.exists(file):\n",
    "        print(\"File not found: \" + file)\n",
    "        continue\n",
    "    if file.endswith('mpt'):\n",
    "        headerlength = get_header_length(file)\n",
    "        data = pd.read_csv(file, encoding='ansi', sep=\"\\t\", decimal=get_decimal_separator(file),  skiprows=range(headerlength))\n",
    "        \n",
    "    else:\n",
    "        mpr_file = BioLogic.MPRfile(file)\n",
    "        data = pd.DataFrame(mpr_file.data)\n",
    "        \n",
    "    \n",
    "    real = data['Re(Z)/Ohm']\n",
    "    imaginary = data['-Im(Z)/Ohm']\n",
    "       \n",
    "   \n",
    "    fig.add_trace(go.Scatter(\n",
    "        x=real,\n",
    "        y=imaginary,\n",
    "        name= data_set[i]['label'],\n",
    "        line_color = colors[data_set[i]['color_index']],\n",
    "    )\n",
    "           \n",
    "    )\n",
    "fig.update_xaxes(range=[0, 2],\n",
    "    nticks=10,\n",
    "    ticks='outside',\n",
    "    showgrid=False, gridwidth=1, gridcolor='grey',\n",
    "    zeroline=False, zerolinecolor='grey', zerolinewidth= 1,\n",
    "    showline=True, linewidth=2, linecolor='black')\n",
    "\n",
    "fig.update_yaxes(range=[0, 2],\n",
    "    nticks=10,\n",
    "    showgrid=False, gridwidth=1, gridcolor='grey',\n",
    "    ticks='outside',\n",
    "    zeroline=True, zerolinecolor='grey', zerolinewidth= 1,\n",
    "    showline=True, linewidth=2, linecolor='black')\n",
    "fig.update_layout(\n",
    "    \n",
    "    xaxis_title=\"Re(Z) (ohm)\",\n",
    "    yaxis_title=\"-Im(Z) (ohm)\",\n",
    "    font=dict(\n",
    "        family=\"Times New Roman, monospace\",\n",
    "        size=18,\n",
    "        color=\"dimgrey\"\n",
    "        \n",
    "    )\n",
    ")\n",
    "\n",
    "fig.update_layout({\n",
    "    \"plot_bgcolor\": \"rgba(0, 0, 0, 0)\",\n",
    "    'paper_bgcolor': 'rgba(0, 0, 0, 0)', #sets the background to be transparent... might appear black in .jpeg but will be transparent in the .svg\n",
    "})\n",
    "fig.update_layout(\n",
    "    width = 500,\n",
    "    height = 500,\n",
    "    legend=dict(\n",
    "    yanchor=\"top\",\n",
    "    y=0.99,\n",
    "    xanchor=\"left\",\n",
    "    x=0,\n",
    "    font=dict(\n",
    "        family=\"Times New Roman, monospace\",\n",
    "        size=22,\n",
    "        color=\"dimgrey\",\n",
    "    ),\n",
    "    )\n",
    ")\n",
    "fig.show()\n",
    "fig.write_image('PEIS_firstpaperall.jpeg')\n",
    "fig.write_image('PEIS_firstpaperall.svg')\n"
   ]
  },
  {
   "cell_type": "code",
   "execution_count": null,
   "metadata": {},
   "outputs": [],
   "source": []
  }
 ],
 "metadata": {
  "kernelspec": {
   "display_name": "MachineLearning_20221214",
   "language": "python",
   "name": "python3"
  },
  "language_info": {
   "codemirror_mode": {
    "name": "ipython",
    "version": 3
   },
   "file_extension": ".py",
   "mimetype": "text/x-python",
   "name": "python",
   "nbconvert_exporter": "python",
   "pygments_lexer": "ipython3",
   "version": "3.10.9"
  },
  "orig_nbformat": 4,
  "vscode": {
   "interpreter": {
    "hash": "6d6055fddfcfbd74bcbc7b01a52d824f73d51a69c9d6df85ac5e8b41880afc70"
   }
  }
 },
 "nbformat": 4,
 "nbformat_minor": 2
}
