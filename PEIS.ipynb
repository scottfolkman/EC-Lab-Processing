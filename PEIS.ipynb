{
 "cells": [
  {
   "cell_type": "code",
   "execution_count": 1,
   "metadata": {},
   "outputs": [
    {
     "name": "stdout",
     "output_type": "stream",
     "text": [
      "File not found: Data_1mg/2023_01_31 NiNx 1 mg 307ref set1_C05.mpt\n",
      "File not found: Data_1mg/2022_01_27 FeNx 1mg ref309_C05.mpt\n",
      "File not found: Data_1mg/2022_01_27 Ni60Co30Fe10Ox 1mg ref309_C05.mpt\n",
      "File not found: Data_1mg/2022_01_25 Co30Ni60Fe10Nx 1mg  ref309 elect1 set_C05.mpt\n",
      "File not found: Data_1mg/2023_01_31_Co45Ni45Fe10Nx 1mg ref309_01_PEIS_C05.mpt\n",
      "File not found: Data_1mg/2022_01_26 IrOx 1mg  ref309 elect1_C05.mpt\n"
     ]
    },
    {
     "data": {
      "application/vnd.plotly.v1+json": {
       "config": {
        "plotlyServerURL": "https://plot.ly"
       },
       "data": [
        {
         "line": {
          "color": "rgb(136, 204, 238)"
         },
         "name": "CoO<sub>X</sub>",
         "type": "scatter",
         "x": [
          7.517704486846924,
          10.642559051513672,
          12.816084861755371,
          14.042695999145508,
          14.59514045715332,
          15.442323684692383,
          16.40900230407715,
          17.522607803344727,
          18.8021297454834,
          19.860597610473633,
          20.860397338867188,
          22.012746810913086,
          23.143596649169922,
          24.942663192749023,
          27.5051212310791,
          31.095901489257812,
          36.86453628540039,
          44.48878860473633,
          55.22666549682617,
          69.18165588378906,
          87.78702545166016,
          110.60274505615234,
          139.33494567871094,
          171.44302368164062,
          214.19712829589844,
          263.8683776855469,
          336.2299499511719,
          424.5047912597656,
          523.6334228515625,
          687.6325073242188,
          892.6827392578125,
          1145.67431640625,
          1490.420166015625,
          1960.3992919921875,
          2525.645263671875,
          3245.157958984375,
          4575.044921875,
          7404.41015625
         ],
         "y": [
          14.135788917541504,
          11.52065658569336,
          9.099141120910645,
          7.017959117889404,
          6.0344557762146,
          5.748352527618408,
          5.924114227294922,
          6.022541046142578,
          6.565351963043213,
          7.0544753074646,
          8.328519821166992,
          10.177458763122559,
          13.00229263305664,
          17.203462600708008,
          23.056371688842773,
          30.814067840576172,
          40.8653450012207,
          54.0073127746582,
          69.69330596923828,
          90.099609375,
          113.85899353027344,
          141.531982421875,
          180.6062774658203,
          226.65589904785156,
          283.26239013671875,
          365.3590393066406,
          465.534423828125,
          600.986328125,
          751.1153564453125,
          977.331787109375,
          1255.2947998046875,
          1567.08984375,
          1967.023681640625,
          2432.289306640625,
          2975.679931640625,
          3592.05126953125,
          4314.15185546875,
          2325.697021484375
         ]
        },
        {
         "line": {
          "color": "rgb(204, 102, 119)"
         },
         "name": "NiO<sub>X</sub>",
         "type": "scatter",
         "x": [
          4.808523654937744,
          6.887204647064209,
          8.177980422973633,
          9.979645729064941,
          11.105267524719238,
          11.574874877929688,
          12.135571479797363,
          12.759603500366211,
          13.289239883422852,
          13.742246627807617,
          14.070303916931152,
          14.37006950378418,
          14.7412691116333,
          15.10811996459961,
          15.728617668151855,
          17.083269119262695,
          18.78443717956543,
          21.573392868041992,
          25.7489070892334,
          33.03901672363281,
          44.19826126098633,
          57.73808288574219,
          88.9568862915039,
          112.99532318115234,
          173.52322387695312,
          248.26194763183594,
          338.4403076171875,
          507.91143798828125,
          626.37548828125,
          1024.15576171875,
          1430.854248046875,
          2006.6324462890625,
          2792.144287109375,
          3948.862060546875,
          4973.16064453125,
          9521.8525390625,
          14448.4189453125,
          20142.08203125
         ],
         "y": [
          12.262849807739258,
          9.667181968688965,
          8.068142890930176,
          6.960149765014648,
          5.320445537567139,
          4.515262126922607,
          4.212856769561768,
          4.327075004577637,
          4.586502552032471,
          5.199821949005127,
          6.404616832733154,
          8.533476829528809,
          11.842251777648926,
          16.746932983398438,
          24.084829330444336,
          34.632057189941406,
          50.28819274902344,
          72.62386322021484,
          104.98604583740234,
          149.99583435058594,
          213.01132202148438,
          307.046142578125,
          430.7733154296875,
          621.1006469726562,
          866.0239868164062,
          1223.4996337890625,
          1741.435302734375,
          2323.46728515625,
          3355.814697265625,
          4750.77734375,
          6753.39892578125,
          9444.4404296875,
          13607.7568359375,
          19134.150390625,
          27143.87890625,
          38308.34765625,
          59167.62890625,
          80557.5703125
         ]
        }
       ],
       "layout": {
        "font": {
         "color": "dimgrey",
         "family": "Times New Roman, monospace",
         "size": 18
        },
        "height": 500,
        "legend": {
         "font": {
          "color": "dimgrey",
          "family": "Times New Roman, monospace",
          "size": 22
         },
         "x": 0,
         "xanchor": "left",
         "y": 0.99,
         "yanchor": "top"
        },
        "paper_bgcolor": "rgba(0, 0, 0, 0)",
        "plot_bgcolor": "rgba(0, 0, 0, 0)",
        "template": {
         "data": {
          "bar": [
           {
            "error_x": {
             "color": "#2a3f5f"
            },
            "error_y": {
             "color": "#2a3f5f"
            },
            "marker": {
             "line": {
              "color": "#E5ECF6",
              "width": 0.5
             },
             "pattern": {
              "fillmode": "overlay",
              "size": 10,
              "solidity": 0.2
             }
            },
            "type": "bar"
           }
          ],
          "barpolar": [
           {
            "marker": {
             "line": {
              "color": "#E5ECF6",
              "width": 0.5
             },
             "pattern": {
              "fillmode": "overlay",
              "size": 10,
              "solidity": 0.2
             }
            },
            "type": "barpolar"
           }
          ],
          "carpet": [
           {
            "aaxis": {
             "endlinecolor": "#2a3f5f",
             "gridcolor": "white",
             "linecolor": "white",
             "minorgridcolor": "white",
             "startlinecolor": "#2a3f5f"
            },
            "baxis": {
             "endlinecolor": "#2a3f5f",
             "gridcolor": "white",
             "linecolor": "white",
             "minorgridcolor": "white",
             "startlinecolor": "#2a3f5f"
            },
            "type": "carpet"
           }
          ],
          "choropleth": [
           {
            "colorbar": {
             "outlinewidth": 0,
             "ticks": ""
            },
            "type": "choropleth"
           }
          ],
          "contour": [
           {
            "colorbar": {
             "outlinewidth": 0,
             "ticks": ""
            },
            "colorscale": [
             [
              0,
              "#0d0887"
             ],
             [
              0.1111111111111111,
              "#46039f"
             ],
             [
              0.2222222222222222,
              "#7201a8"
             ],
             [
              0.3333333333333333,
              "#9c179e"
             ],
             [
              0.4444444444444444,
              "#bd3786"
             ],
             [
              0.5555555555555556,
              "#d8576b"
             ],
             [
              0.6666666666666666,
              "#ed7953"
             ],
             [
              0.7777777777777778,
              "#fb9f3a"
             ],
             [
              0.8888888888888888,
              "#fdca26"
             ],
             [
              1,
              "#f0f921"
             ]
            ],
            "type": "contour"
           }
          ],
          "contourcarpet": [
           {
            "colorbar": {
             "outlinewidth": 0,
             "ticks": ""
            },
            "type": "contourcarpet"
           }
          ],
          "heatmap": [
           {
            "colorbar": {
             "outlinewidth": 0,
             "ticks": ""
            },
            "colorscale": [
             [
              0,
              "#0d0887"
             ],
             [
              0.1111111111111111,
              "#46039f"
             ],
             [
              0.2222222222222222,
              "#7201a8"
             ],
             [
              0.3333333333333333,
              "#9c179e"
             ],
             [
              0.4444444444444444,
              "#bd3786"
             ],
             [
              0.5555555555555556,
              "#d8576b"
             ],
             [
              0.6666666666666666,
              "#ed7953"
             ],
             [
              0.7777777777777778,
              "#fb9f3a"
             ],
             [
              0.8888888888888888,
              "#fdca26"
             ],
             [
              1,
              "#f0f921"
             ]
            ],
            "type": "heatmap"
           }
          ],
          "heatmapgl": [
           {
            "colorbar": {
             "outlinewidth": 0,
             "ticks": ""
            },
            "colorscale": [
             [
              0,
              "#0d0887"
             ],
             [
              0.1111111111111111,
              "#46039f"
             ],
             [
              0.2222222222222222,
              "#7201a8"
             ],
             [
              0.3333333333333333,
              "#9c179e"
             ],
             [
              0.4444444444444444,
              "#bd3786"
             ],
             [
              0.5555555555555556,
              "#d8576b"
             ],
             [
              0.6666666666666666,
              "#ed7953"
             ],
             [
              0.7777777777777778,
              "#fb9f3a"
             ],
             [
              0.8888888888888888,
              "#fdca26"
             ],
             [
              1,
              "#f0f921"
             ]
            ],
            "type": "heatmapgl"
           }
          ],
          "histogram": [
           {
            "marker": {
             "pattern": {
              "fillmode": "overlay",
              "size": 10,
              "solidity": 0.2
             }
            },
            "type": "histogram"
           }
          ],
          "histogram2d": [
           {
            "colorbar": {
             "outlinewidth": 0,
             "ticks": ""
            },
            "colorscale": [
             [
              0,
              "#0d0887"
             ],
             [
              0.1111111111111111,
              "#46039f"
             ],
             [
              0.2222222222222222,
              "#7201a8"
             ],
             [
              0.3333333333333333,
              "#9c179e"
             ],
             [
              0.4444444444444444,
              "#bd3786"
             ],
             [
              0.5555555555555556,
              "#d8576b"
             ],
             [
              0.6666666666666666,
              "#ed7953"
             ],
             [
              0.7777777777777778,
              "#fb9f3a"
             ],
             [
              0.8888888888888888,
              "#fdca26"
             ],
             [
              1,
              "#f0f921"
             ]
            ],
            "type": "histogram2d"
           }
          ],
          "histogram2dcontour": [
           {
            "colorbar": {
             "outlinewidth": 0,
             "ticks": ""
            },
            "colorscale": [
             [
              0,
              "#0d0887"
             ],
             [
              0.1111111111111111,
              "#46039f"
             ],
             [
              0.2222222222222222,
              "#7201a8"
             ],
             [
              0.3333333333333333,
              "#9c179e"
             ],
             [
              0.4444444444444444,
              "#bd3786"
             ],
             [
              0.5555555555555556,
              "#d8576b"
             ],
             [
              0.6666666666666666,
              "#ed7953"
             ],
             [
              0.7777777777777778,
              "#fb9f3a"
             ],
             [
              0.8888888888888888,
              "#fdca26"
             ],
             [
              1,
              "#f0f921"
             ]
            ],
            "type": "histogram2dcontour"
           }
          ],
          "mesh3d": [
           {
            "colorbar": {
             "outlinewidth": 0,
             "ticks": ""
            },
            "type": "mesh3d"
           }
          ],
          "parcoords": [
           {
            "line": {
             "colorbar": {
              "outlinewidth": 0,
              "ticks": ""
             }
            },
            "type": "parcoords"
           }
          ],
          "pie": [
           {
            "automargin": true,
            "type": "pie"
           }
          ],
          "scatter": [
           {
            "fillpattern": {
             "fillmode": "overlay",
             "size": 10,
             "solidity": 0.2
            },
            "type": "scatter"
           }
          ],
          "scatter3d": [
           {
            "line": {
             "colorbar": {
              "outlinewidth": 0,
              "ticks": ""
             }
            },
            "marker": {
             "colorbar": {
              "outlinewidth": 0,
              "ticks": ""
             }
            },
            "type": "scatter3d"
           }
          ],
          "scattercarpet": [
           {
            "marker": {
             "colorbar": {
              "outlinewidth": 0,
              "ticks": ""
             }
            },
            "type": "scattercarpet"
           }
          ],
          "scattergeo": [
           {
            "marker": {
             "colorbar": {
              "outlinewidth": 0,
              "ticks": ""
             }
            },
            "type": "scattergeo"
           }
          ],
          "scattergl": [
           {
            "marker": {
             "colorbar": {
              "outlinewidth": 0,
              "ticks": ""
             }
            },
            "type": "scattergl"
           }
          ],
          "scattermapbox": [
           {
            "marker": {
             "colorbar": {
              "outlinewidth": 0,
              "ticks": ""
             }
            },
            "type": "scattermapbox"
           }
          ],
          "scatterpolar": [
           {
            "marker": {
             "colorbar": {
              "outlinewidth": 0,
              "ticks": ""
             }
            },
            "type": "scatterpolar"
           }
          ],
          "scatterpolargl": [
           {
            "marker": {
             "colorbar": {
              "outlinewidth": 0,
              "ticks": ""
             }
            },
            "type": "scatterpolargl"
           }
          ],
          "scatterternary": [
           {
            "marker": {
             "colorbar": {
              "outlinewidth": 0,
              "ticks": ""
             }
            },
            "type": "scatterternary"
           }
          ],
          "surface": [
           {
            "colorbar": {
             "outlinewidth": 0,
             "ticks": ""
            },
            "colorscale": [
             [
              0,
              "#0d0887"
             ],
             [
              0.1111111111111111,
              "#46039f"
             ],
             [
              0.2222222222222222,
              "#7201a8"
             ],
             [
              0.3333333333333333,
              "#9c179e"
             ],
             [
              0.4444444444444444,
              "#bd3786"
             ],
             [
              0.5555555555555556,
              "#d8576b"
             ],
             [
              0.6666666666666666,
              "#ed7953"
             ],
             [
              0.7777777777777778,
              "#fb9f3a"
             ],
             [
              0.8888888888888888,
              "#fdca26"
             ],
             [
              1,
              "#f0f921"
             ]
            ],
            "type": "surface"
           }
          ],
          "table": [
           {
            "cells": {
             "fill": {
              "color": "#EBF0F8"
             },
             "line": {
              "color": "white"
             }
            },
            "header": {
             "fill": {
              "color": "#C8D4E3"
             },
             "line": {
              "color": "white"
             }
            },
            "type": "table"
           }
          ]
         },
         "layout": {
          "annotationdefaults": {
           "arrowcolor": "#2a3f5f",
           "arrowhead": 0,
           "arrowwidth": 1
          },
          "autotypenumbers": "strict",
          "coloraxis": {
           "colorbar": {
            "outlinewidth": 0,
            "ticks": ""
           }
          },
          "colorscale": {
           "diverging": [
            [
             0,
             "#8e0152"
            ],
            [
             0.1,
             "#c51b7d"
            ],
            [
             0.2,
             "#de77ae"
            ],
            [
             0.3,
             "#f1b6da"
            ],
            [
             0.4,
             "#fde0ef"
            ],
            [
             0.5,
             "#f7f7f7"
            ],
            [
             0.6,
             "#e6f5d0"
            ],
            [
             0.7,
             "#b8e186"
            ],
            [
             0.8,
             "#7fbc41"
            ],
            [
             0.9,
             "#4d9221"
            ],
            [
             1,
             "#276419"
            ]
           ],
           "sequential": [
            [
             0,
             "#0d0887"
            ],
            [
             0.1111111111111111,
             "#46039f"
            ],
            [
             0.2222222222222222,
             "#7201a8"
            ],
            [
             0.3333333333333333,
             "#9c179e"
            ],
            [
             0.4444444444444444,
             "#bd3786"
            ],
            [
             0.5555555555555556,
             "#d8576b"
            ],
            [
             0.6666666666666666,
             "#ed7953"
            ],
            [
             0.7777777777777778,
             "#fb9f3a"
            ],
            [
             0.8888888888888888,
             "#fdca26"
            ],
            [
             1,
             "#f0f921"
            ]
           ],
           "sequentialminus": [
            [
             0,
             "#0d0887"
            ],
            [
             0.1111111111111111,
             "#46039f"
            ],
            [
             0.2222222222222222,
             "#7201a8"
            ],
            [
             0.3333333333333333,
             "#9c179e"
            ],
            [
             0.4444444444444444,
             "#bd3786"
            ],
            [
             0.5555555555555556,
             "#d8576b"
            ],
            [
             0.6666666666666666,
             "#ed7953"
            ],
            [
             0.7777777777777778,
             "#fb9f3a"
            ],
            [
             0.8888888888888888,
             "#fdca26"
            ],
            [
             1,
             "#f0f921"
            ]
           ]
          },
          "colorway": [
           "#636efa",
           "#EF553B",
           "#00cc96",
           "#ab63fa",
           "#FFA15A",
           "#19d3f3",
           "#FF6692",
           "#B6E880",
           "#FF97FF",
           "#FECB52"
          ],
          "font": {
           "color": "#2a3f5f"
          },
          "geo": {
           "bgcolor": "white",
           "lakecolor": "white",
           "landcolor": "#E5ECF6",
           "showlakes": true,
           "showland": true,
           "subunitcolor": "white"
          },
          "hoverlabel": {
           "align": "left"
          },
          "hovermode": "closest",
          "mapbox": {
           "style": "light"
          },
          "paper_bgcolor": "white",
          "plot_bgcolor": "#E5ECF6",
          "polar": {
           "angularaxis": {
            "gridcolor": "white",
            "linecolor": "white",
            "ticks": ""
           },
           "bgcolor": "#E5ECF6",
           "radialaxis": {
            "gridcolor": "white",
            "linecolor": "white",
            "ticks": ""
           }
          },
          "scene": {
           "xaxis": {
            "backgroundcolor": "#E5ECF6",
            "gridcolor": "white",
            "gridwidth": 2,
            "linecolor": "white",
            "showbackground": true,
            "ticks": "",
            "zerolinecolor": "white"
           },
           "yaxis": {
            "backgroundcolor": "#E5ECF6",
            "gridcolor": "white",
            "gridwidth": 2,
            "linecolor": "white",
            "showbackground": true,
            "ticks": "",
            "zerolinecolor": "white"
           },
           "zaxis": {
            "backgroundcolor": "#E5ECF6",
            "gridcolor": "white",
            "gridwidth": 2,
            "linecolor": "white",
            "showbackground": true,
            "ticks": "",
            "zerolinecolor": "white"
           }
          },
          "shapedefaults": {
           "line": {
            "color": "#2a3f5f"
           }
          },
          "ternary": {
           "aaxis": {
            "gridcolor": "white",
            "linecolor": "white",
            "ticks": ""
           },
           "baxis": {
            "gridcolor": "white",
            "linecolor": "white",
            "ticks": ""
           },
           "bgcolor": "#E5ECF6",
           "caxis": {
            "gridcolor": "white",
            "linecolor": "white",
            "ticks": ""
           }
          },
          "title": {
           "x": 0.05
          },
          "xaxis": {
           "automargin": true,
           "gridcolor": "white",
           "linecolor": "white",
           "ticks": "",
           "title": {
            "standoff": 15
           },
           "zerolinecolor": "white",
           "zerolinewidth": 2
          },
          "yaxis": {
           "automargin": true,
           "gridcolor": "white",
           "linecolor": "white",
           "ticks": "",
           "title": {
            "standoff": 15
           },
           "zerolinecolor": "white",
           "zerolinewidth": 2
          }
         }
        },
        "width": 500,
        "xaxis": {
         "gridcolor": "grey",
         "gridwidth": 1,
         "linecolor": "black",
         "linewidth": 2,
         "nticks": 10,
         "range": [
          0,
          2
         ],
         "showgrid": false,
         "showline": true,
         "ticks": "outside",
         "title": {
          "text": "Re(Z) (ohm)"
         },
         "zeroline": false,
         "zerolinecolor": "grey",
         "zerolinewidth": 1
        },
        "yaxis": {
         "gridcolor": "grey",
         "gridwidth": 1,
         "linecolor": "black",
         "linewidth": 2,
         "nticks": 10,
         "range": [
          0,
          2
         ],
         "showgrid": false,
         "showline": true,
         "ticks": "outside",
         "title": {
          "text": "-Im(Z) (ohm)"
         },
         "zeroline": true,
         "zerolinecolor": "grey",
         "zerolinewidth": 1
        }
       }
      }
     },
     "metadata": {},
     "output_type": "display_data"
    }
   ],
   "source": [
    "import numpy as np\n",
    "import plotly.graph_objects as go\n",
    "import pandas as pd\n",
    "import plotly.express as px\n",
    "from EC_data_processing_lib import get_header_length\n",
    "from EC_data_processing_lib import analyse_file\n",
    "from EC_data_processing_lib import get_decimal_separator\n",
    "from pandas import DataFrame as df\n",
    "from Data_setup_Lares_Oxides import data_set\n",
    "import os\n",
    "from galvani import BioLogic\n",
    "\n",
    "fig = go.Figure()\n",
    "colors = px.colors.qualitative.Safe\n",
    "\n",
    "for i in data_set:\n",
    "    file = data_set[i]['data_PEIS']\n",
    "    if not os.path.exists(file):\n",
    "        print(\"File not found: \" + file)\n",
    "        continue\n",
    "    if file.endswith('mpt'):\n",
    "        headerlength = get_header_length(file)\n",
    "        data = pd.read_csv(file, encoding='ansi', sep=\"\\t\", decimal=get_decimal_separator(file),  skiprows=range(headerlength))\n",
    "        \n",
    "    else:\n",
    "        mpr_file = BioLogic.MPRfile(file)\n",
    "        data = pd.DataFrame(mpr_file.data)\n",
    "        \n",
    "    \n",
    "    real = data['Re(Z)/Ohm']\n",
    "    imaginary = data['-Im(Z)/Ohm']\n",
    "       \n",
    "   \n",
    "    fig.add_trace(go.Scatter(\n",
    "        x=real,\n",
    "        y=imaginary,\n",
    "        name= data_set[i]['label'],\n",
    "        line_color = colors[data_set[i]['color_index']],\n",
    "    )\n",
    "           \n",
    "    )\n",
    "fig.update_xaxes(range=[0, 2],\n",
    "    nticks=10,\n",
    "    ticks='outside',\n",
    "    showgrid=False, gridwidth=1, gridcolor='grey',\n",
    "    zeroline=False, zerolinecolor='grey', zerolinewidth= 1,\n",
    "    showline=True, linewidth=2, linecolor='black')\n",
    "\n",
    "fig.update_yaxes(range=[0, 2],\n",
    "    nticks=10,\n",
    "    showgrid=False, gridwidth=1, gridcolor='grey',\n",
    "    ticks='outside',\n",
    "    zeroline=True, zerolinecolor='grey', zerolinewidth= 1,\n",
    "    showline=True, linewidth=2, linecolor='black')\n",
    "fig.update_layout(\n",
    "    \n",
    "    xaxis_title=\"Re(Z) (ohm)\",\n",
    "    yaxis_title=\"-Im(Z) (ohm)\",\n",
    "    font=dict(\n",
    "        family=\"Times New Roman, monospace\",\n",
    "        size=18,\n",
    "        color=\"dimgrey\"\n",
    "        \n",
    "    )\n",
    ")\n",
    "\n",
    "fig.update_layout({\n",
    "    \"plot_bgcolor\": \"rgba(0, 0, 0, 0)\",\n",
    "    'paper_bgcolor': 'rgba(0, 0, 0, 0)', #sets the background to be transparent... might appear black in .jpeg but will be transparent in the .svg\n",
    "})\n",
    "fig.update_layout(\n",
    "    width = 500,\n",
    "    height = 500,\n",
    "    legend=dict(\n",
    "    yanchor=\"top\",\n",
    "    y=0.99,\n",
    "    xanchor=\"left\",\n",
    "    x=0,\n",
    "    font=dict(\n",
    "        family=\"Times New Roman, monospace\",\n",
    "        size=22,\n",
    "        color=\"dimgrey\",\n",
    "    ),\n",
    "    )\n",
    ")\n",
    "fig.show()\n",
    "fig.write_image('PEIS_firstpaperall.jpeg')\n",
    "fig.write_image('PEIS_firstpaperall.svg')\n"
   ]
  },
  {
   "cell_type": "code",
   "execution_count": null,
   "metadata": {},
   "outputs": [],
   "source": []
  }
 ],
 "metadata": {
  "kernelspec": {
   "display_name": "MachineLearning_20221214",
   "language": "python",
   "name": "python3"
  },
  "language_info": {
   "codemirror_mode": {
    "name": "ipython",
    "version": 3
   },
   "file_extension": ".py",
   "mimetype": "text/x-python",
   "name": "python",
   "nbconvert_exporter": "python",
   "pygments_lexer": "ipython3",
   "version": "3.11.5"
  },
  "orig_nbformat": 4,
  "vscode": {
   "interpreter": {
    "hash": "6d6055fddfcfbd74bcbc7b01a52d824f73d51a69c9d6df85ac5e8b41880afc70"
   }
  }
 },
 "nbformat": 4,
 "nbformat_minor": 2
}
