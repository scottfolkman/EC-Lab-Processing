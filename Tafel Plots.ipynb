{
 "cells": [
  {
   "cell_type": "code",
   "execution_count": 15,
   "metadata": {},
   "outputs": [
    {
     "data": {
      "application/vnd.plotly.v1+json": {
       "config": {
        "plotlyServerURL": "https://plot.ly"
       },
       "data": [
        {
         "error_y": {
          "array": [
           0.014069457731146392,
           0.02179386849969533,
           0.010414839564761493,
           0.018018424508734004,
           0.035200307086439314,
           0.015254850476052061,
           0.0011756822064906494,
           0.0003837379915777707,
           0.00016003015596868745,
           0.00018074670320422355,
           0.0005490162701560253,
           0.0009985814745342096,
           0.001104142789603959
          ],
          "type": "data",
          "visible": true
         },
         "marker": {
          "colorscale": [
           [
            0,
            "#440154"
           ],
           [
            0.1111111111111111,
            "#482878"
           ],
           [
            0.2222222222222222,
            "#3e4989"
           ],
           [
            0.3333333333333333,
            "#31688e"
           ],
           [
            0.4444444444444444,
            "#26828e"
           ],
           [
            0.5555555555555556,
            "#1f9e89"
           ],
           [
            0.6666666666666666,
            "#35b779"
           ],
           [
            0.7777777777777778,
            "#6ece58"
           ],
           [
            0.8888888888888888,
            "#b5de2b"
           ],
           [
            1,
            "#fde725"
           ]
          ]
         },
         "mode": "markers",
         "name": "CoN<sub>X</sub>",
         "type": "scatter",
         "x": [
          -5,
          -4.74,
          -4.49,
          -4.25,
          -4,
          -3.75,
          -3.5,
          -3.25,
          -3,
          -2.75,
          -2.5,
          -2.25,
          -2
         ],
         "y": [
          -0.024060037127921825,
          -0.03585839674118148,
          -0.055684113648108824,
          0.001751611048023748,
          0.14359147723756907,
          0.276907297679558,
          0.3153420017042071,
          0.33947210228644187,
          0.36358813546961316,
          0.39042255049723756,
          0.42209113980875695,
          0.4595738448873758,
          0.5022046758563536
         ]
        },
        {
         "error_y": {
          "array": [
           0.02056268639339929,
           0.013509152238229773,
           0.010692752135938769,
           0.02875625749453733,
           0.0006895060909549059,
           0.00029520226797763606,
           0.0005557605626541746,
           0.0008579758193496479,
           0.001653389280987972,
           0.0036595792759954097,
           0.009556980089835163,
           0.015194085398637508,
           0.003350925296479228
          ],
          "type": "data",
          "visible": true
         },
         "marker": {
          "colorscale": [
           [
            0,
            "#440154"
           ],
           [
            0.1111111111111111,
            "#482878"
           ],
           [
            0.2222222222222222,
            "#3e4989"
           ],
           [
            0.3333333333333333,
            "#31688e"
           ],
           [
            0.4444444444444444,
            "#26828e"
           ],
           [
            0.5555555555555556,
            "#1f9e89"
           ],
           [
            0.6666666666666666,
            "#35b779"
           ],
           [
            0.7777777777777778,
            "#6ece58"
           ],
           [
            0.8888888888888888,
            "#b5de2b"
           ],
           [
            1,
            "#fde725"
           ]
          ]
         },
         "mode": "markers",
         "name": "NiN<sub>X</sub>",
         "type": "scatter",
         "x": [
          -5,
          -4.74,
          -4.49,
          -4.25,
          -4,
          -3.75,
          -3.5,
          -3.25,
          -3,
          -2.75,
          -2.5,
          -2.25,
          -2
         ],
         "y": [
          0.11809166806544834,
          0.12717649093837652,
          0.1503049940314492,
          0.2820337364623884,
          0.32938109314917124,
          0.3535978337569061,
          0.38158587833404145,
          0.4183290615129613,
          0.46946217690607733,
          0.5397326051933702,
          0.6405568569910775,
          0.7958119686995303,
          0.945619443646409
         ]
        },
        {
         "error_y": {
          "array": [
           0.09029574432924259,
           0.028882724661124497,
           0.007920884658436114,
           0.0058944678786789426,
           0.0011733003045861336,
           0.0006447545814980812,
           0.0008030833335152918,
           0.000954329185604732,
           0.0013007925675732135,
           0.0031830243530646747,
           0.0065913974692808075,
           0.005371003494549178,
           0.004568194573308838
          ],
          "type": "data",
          "visible": true
         },
         "marker": {
          "colorscale": [
           [
            0,
            "#440154"
           ],
           [
            0.1111111111111111,
            "#482878"
           ],
           [
            0.2222222222222222,
            "#3e4989"
           ],
           [
            0.3333333333333333,
            "#31688e"
           ],
           [
            0.4444444444444444,
            "#26828e"
           ],
           [
            0.5555555555555556,
            "#1f9e89"
           ],
           [
            0.6666666666666666,
            "#35b779"
           ],
           [
            0.7777777777777778,
            "#6ece58"
           ],
           [
            0.8888888888888888,
            "#b5de2b"
           ],
           [
            1,
            "#fde725"
           ]
          ]
         },
         "mode": "markers",
         "name": "FeN<sub>X</sub>",
         "type": "scatter",
         "x": [
          -5,
          -4.74,
          -4.49,
          -4.25,
          -4,
          -3.75,
          -3.5,
          -3.25,
          -3,
          -2.75,
          -2.5,
          -2.25,
          -2
         ],
         "y": [
          0.1781922931372716,
          0.21192479077263066,
          0.23635077265023371,
          0.3022832378988525,
          0.34064992944751377,
          0.37152587817679567,
          0.3989193212622183,
          0.42701237908202194,
          0.46089466690607733,
          0.5054867671270717,
          0.5652791657756078,
          0.6370336682575415,
          0.6966118983425414
         ]
        }
       ],
       "layout": {
        "font": {
         "color": "dimgrey",
         "family": "Times New Roman, monospace",
         "size": 18
        },
        "height": 500,
        "paper_bgcolor": "rgba(0, 0, 0, 0)",
        "plot_bgcolor": "rgba(0, 0, 0, 0)",
        "template": {
         "data": {
          "bar": [
           {
            "error_x": {
             "color": "#2a3f5f"
            },
            "error_y": {
             "color": "#2a3f5f"
            },
            "marker": {
             "line": {
              "color": "#E5ECF6",
              "width": 0.5
             },
             "pattern": {
              "fillmode": "overlay",
              "size": 10,
              "solidity": 0.2
             }
            },
            "type": "bar"
           }
          ],
          "barpolar": [
           {
            "marker": {
             "line": {
              "color": "#E5ECF6",
              "width": 0.5
             },
             "pattern": {
              "fillmode": "overlay",
              "size": 10,
              "solidity": 0.2
             }
            },
            "type": "barpolar"
           }
          ],
          "carpet": [
           {
            "aaxis": {
             "endlinecolor": "#2a3f5f",
             "gridcolor": "white",
             "linecolor": "white",
             "minorgridcolor": "white",
             "startlinecolor": "#2a3f5f"
            },
            "baxis": {
             "endlinecolor": "#2a3f5f",
             "gridcolor": "white",
             "linecolor": "white",
             "minorgridcolor": "white",
             "startlinecolor": "#2a3f5f"
            },
            "type": "carpet"
           }
          ],
          "choropleth": [
           {
            "colorbar": {
             "outlinewidth": 0,
             "ticks": ""
            },
            "type": "choropleth"
           }
          ],
          "contour": [
           {
            "colorbar": {
             "outlinewidth": 0,
             "ticks": ""
            },
            "colorscale": [
             [
              0,
              "#0d0887"
             ],
             [
              0.1111111111111111,
              "#46039f"
             ],
             [
              0.2222222222222222,
              "#7201a8"
             ],
             [
              0.3333333333333333,
              "#9c179e"
             ],
             [
              0.4444444444444444,
              "#bd3786"
             ],
             [
              0.5555555555555556,
              "#d8576b"
             ],
             [
              0.6666666666666666,
              "#ed7953"
             ],
             [
              0.7777777777777778,
              "#fb9f3a"
             ],
             [
              0.8888888888888888,
              "#fdca26"
             ],
             [
              1,
              "#f0f921"
             ]
            ],
            "type": "contour"
           }
          ],
          "contourcarpet": [
           {
            "colorbar": {
             "outlinewidth": 0,
             "ticks": ""
            },
            "type": "contourcarpet"
           }
          ],
          "heatmap": [
           {
            "colorbar": {
             "outlinewidth": 0,
             "ticks": ""
            },
            "colorscale": [
             [
              0,
              "#0d0887"
             ],
             [
              0.1111111111111111,
              "#46039f"
             ],
             [
              0.2222222222222222,
              "#7201a8"
             ],
             [
              0.3333333333333333,
              "#9c179e"
             ],
             [
              0.4444444444444444,
              "#bd3786"
             ],
             [
              0.5555555555555556,
              "#d8576b"
             ],
             [
              0.6666666666666666,
              "#ed7953"
             ],
             [
              0.7777777777777778,
              "#fb9f3a"
             ],
             [
              0.8888888888888888,
              "#fdca26"
             ],
             [
              1,
              "#f0f921"
             ]
            ],
            "type": "heatmap"
           }
          ],
          "heatmapgl": [
           {
            "colorbar": {
             "outlinewidth": 0,
             "ticks": ""
            },
            "colorscale": [
             [
              0,
              "#0d0887"
             ],
             [
              0.1111111111111111,
              "#46039f"
             ],
             [
              0.2222222222222222,
              "#7201a8"
             ],
             [
              0.3333333333333333,
              "#9c179e"
             ],
             [
              0.4444444444444444,
              "#bd3786"
             ],
             [
              0.5555555555555556,
              "#d8576b"
             ],
             [
              0.6666666666666666,
              "#ed7953"
             ],
             [
              0.7777777777777778,
              "#fb9f3a"
             ],
             [
              0.8888888888888888,
              "#fdca26"
             ],
             [
              1,
              "#f0f921"
             ]
            ],
            "type": "heatmapgl"
           }
          ],
          "histogram": [
           {
            "marker": {
             "pattern": {
              "fillmode": "overlay",
              "size": 10,
              "solidity": 0.2
             }
            },
            "type": "histogram"
           }
          ],
          "histogram2d": [
           {
            "colorbar": {
             "outlinewidth": 0,
             "ticks": ""
            },
            "colorscale": [
             [
              0,
              "#0d0887"
             ],
             [
              0.1111111111111111,
              "#46039f"
             ],
             [
              0.2222222222222222,
              "#7201a8"
             ],
             [
              0.3333333333333333,
              "#9c179e"
             ],
             [
              0.4444444444444444,
              "#bd3786"
             ],
             [
              0.5555555555555556,
              "#d8576b"
             ],
             [
              0.6666666666666666,
              "#ed7953"
             ],
             [
              0.7777777777777778,
              "#fb9f3a"
             ],
             [
              0.8888888888888888,
              "#fdca26"
             ],
             [
              1,
              "#f0f921"
             ]
            ],
            "type": "histogram2d"
           }
          ],
          "histogram2dcontour": [
           {
            "colorbar": {
             "outlinewidth": 0,
             "ticks": ""
            },
            "colorscale": [
             [
              0,
              "#0d0887"
             ],
             [
              0.1111111111111111,
              "#46039f"
             ],
             [
              0.2222222222222222,
              "#7201a8"
             ],
             [
              0.3333333333333333,
              "#9c179e"
             ],
             [
              0.4444444444444444,
              "#bd3786"
             ],
             [
              0.5555555555555556,
              "#d8576b"
             ],
             [
              0.6666666666666666,
              "#ed7953"
             ],
             [
              0.7777777777777778,
              "#fb9f3a"
             ],
             [
              0.8888888888888888,
              "#fdca26"
             ],
             [
              1,
              "#f0f921"
             ]
            ],
            "type": "histogram2dcontour"
           }
          ],
          "mesh3d": [
           {
            "colorbar": {
             "outlinewidth": 0,
             "ticks": ""
            },
            "type": "mesh3d"
           }
          ],
          "parcoords": [
           {
            "line": {
             "colorbar": {
              "outlinewidth": 0,
              "ticks": ""
             }
            },
            "type": "parcoords"
           }
          ],
          "pie": [
           {
            "automargin": true,
            "type": "pie"
           }
          ],
          "scatter": [
           {
            "fillpattern": {
             "fillmode": "overlay",
             "size": 10,
             "solidity": 0.2
            },
            "type": "scatter"
           }
          ],
          "scatter3d": [
           {
            "line": {
             "colorbar": {
              "outlinewidth": 0,
              "ticks": ""
             }
            },
            "marker": {
             "colorbar": {
              "outlinewidth": 0,
              "ticks": ""
             }
            },
            "type": "scatter3d"
           }
          ],
          "scattercarpet": [
           {
            "marker": {
             "colorbar": {
              "outlinewidth": 0,
              "ticks": ""
             }
            },
            "type": "scattercarpet"
           }
          ],
          "scattergeo": [
           {
            "marker": {
             "colorbar": {
              "outlinewidth": 0,
              "ticks": ""
             }
            },
            "type": "scattergeo"
           }
          ],
          "scattergl": [
           {
            "marker": {
             "colorbar": {
              "outlinewidth": 0,
              "ticks": ""
             }
            },
            "type": "scattergl"
           }
          ],
          "scattermapbox": [
           {
            "marker": {
             "colorbar": {
              "outlinewidth": 0,
              "ticks": ""
             }
            },
            "type": "scattermapbox"
           }
          ],
          "scatterpolar": [
           {
            "marker": {
             "colorbar": {
              "outlinewidth": 0,
              "ticks": ""
             }
            },
            "type": "scatterpolar"
           }
          ],
          "scatterpolargl": [
           {
            "marker": {
             "colorbar": {
              "outlinewidth": 0,
              "ticks": ""
             }
            },
            "type": "scatterpolargl"
           }
          ],
          "scatterternary": [
           {
            "marker": {
             "colorbar": {
              "outlinewidth": 0,
              "ticks": ""
             }
            },
            "type": "scatterternary"
           }
          ],
          "surface": [
           {
            "colorbar": {
             "outlinewidth": 0,
             "ticks": ""
            },
            "colorscale": [
             [
              0,
              "#0d0887"
             ],
             [
              0.1111111111111111,
              "#46039f"
             ],
             [
              0.2222222222222222,
              "#7201a8"
             ],
             [
              0.3333333333333333,
              "#9c179e"
             ],
             [
              0.4444444444444444,
              "#bd3786"
             ],
             [
              0.5555555555555556,
              "#d8576b"
             ],
             [
              0.6666666666666666,
              "#ed7953"
             ],
             [
              0.7777777777777778,
              "#fb9f3a"
             ],
             [
              0.8888888888888888,
              "#fdca26"
             ],
             [
              1,
              "#f0f921"
             ]
            ],
            "type": "surface"
           }
          ],
          "table": [
           {
            "cells": {
             "fill": {
              "color": "#EBF0F8"
             },
             "line": {
              "color": "white"
             }
            },
            "header": {
             "fill": {
              "color": "#C8D4E3"
             },
             "line": {
              "color": "white"
             }
            },
            "type": "table"
           }
          ]
         },
         "layout": {
          "annotationdefaults": {
           "arrowcolor": "#2a3f5f",
           "arrowhead": 0,
           "arrowwidth": 1
          },
          "autotypenumbers": "strict",
          "coloraxis": {
           "colorbar": {
            "outlinewidth": 0,
            "ticks": ""
           }
          },
          "colorscale": {
           "diverging": [
            [
             0,
             "#8e0152"
            ],
            [
             0.1,
             "#c51b7d"
            ],
            [
             0.2,
             "#de77ae"
            ],
            [
             0.3,
             "#f1b6da"
            ],
            [
             0.4,
             "#fde0ef"
            ],
            [
             0.5,
             "#f7f7f7"
            ],
            [
             0.6,
             "#e6f5d0"
            ],
            [
             0.7,
             "#b8e186"
            ],
            [
             0.8,
             "#7fbc41"
            ],
            [
             0.9,
             "#4d9221"
            ],
            [
             1,
             "#276419"
            ]
           ],
           "sequential": [
            [
             0,
             "#0d0887"
            ],
            [
             0.1111111111111111,
             "#46039f"
            ],
            [
             0.2222222222222222,
             "#7201a8"
            ],
            [
             0.3333333333333333,
             "#9c179e"
            ],
            [
             0.4444444444444444,
             "#bd3786"
            ],
            [
             0.5555555555555556,
             "#d8576b"
            ],
            [
             0.6666666666666666,
             "#ed7953"
            ],
            [
             0.7777777777777778,
             "#fb9f3a"
            ],
            [
             0.8888888888888888,
             "#fdca26"
            ],
            [
             1,
             "#f0f921"
            ]
           ],
           "sequentialminus": [
            [
             0,
             "#0d0887"
            ],
            [
             0.1111111111111111,
             "#46039f"
            ],
            [
             0.2222222222222222,
             "#7201a8"
            ],
            [
             0.3333333333333333,
             "#9c179e"
            ],
            [
             0.4444444444444444,
             "#bd3786"
            ],
            [
             0.5555555555555556,
             "#d8576b"
            ],
            [
             0.6666666666666666,
             "#ed7953"
            ],
            [
             0.7777777777777778,
             "#fb9f3a"
            ],
            [
             0.8888888888888888,
             "#fdca26"
            ],
            [
             1,
             "#f0f921"
            ]
           ]
          },
          "colorway": [
           "#636efa",
           "#EF553B",
           "#00cc96",
           "#ab63fa",
           "#FFA15A",
           "#19d3f3",
           "#FF6692",
           "#B6E880",
           "#FF97FF",
           "#FECB52"
          ],
          "font": {
           "color": "#2a3f5f"
          },
          "geo": {
           "bgcolor": "white",
           "lakecolor": "white",
           "landcolor": "#E5ECF6",
           "showlakes": true,
           "showland": true,
           "subunitcolor": "white"
          },
          "hoverlabel": {
           "align": "left"
          },
          "hovermode": "closest",
          "mapbox": {
           "style": "light"
          },
          "paper_bgcolor": "white",
          "plot_bgcolor": "#E5ECF6",
          "polar": {
           "angularaxis": {
            "gridcolor": "white",
            "linecolor": "white",
            "ticks": ""
           },
           "bgcolor": "#E5ECF6",
           "radialaxis": {
            "gridcolor": "white",
            "linecolor": "white",
            "ticks": ""
           }
          },
          "scene": {
           "xaxis": {
            "backgroundcolor": "#E5ECF6",
            "gridcolor": "white",
            "gridwidth": 2,
            "linecolor": "white",
            "showbackground": true,
            "ticks": "",
            "zerolinecolor": "white"
           },
           "yaxis": {
            "backgroundcolor": "#E5ECF6",
            "gridcolor": "white",
            "gridwidth": 2,
            "linecolor": "white",
            "showbackground": true,
            "ticks": "",
            "zerolinecolor": "white"
           },
           "zaxis": {
            "backgroundcolor": "#E5ECF6",
            "gridcolor": "white",
            "gridwidth": 2,
            "linecolor": "white",
            "showbackground": true,
            "ticks": "",
            "zerolinecolor": "white"
           }
          },
          "shapedefaults": {
           "line": {
            "color": "#2a3f5f"
           }
          },
          "ternary": {
           "aaxis": {
            "gridcolor": "white",
            "linecolor": "white",
            "ticks": ""
           },
           "baxis": {
            "gridcolor": "white",
            "linecolor": "white",
            "ticks": ""
           },
           "bgcolor": "#E5ECF6",
           "caxis": {
            "gridcolor": "white",
            "linecolor": "white",
            "ticks": ""
           }
          },
          "title": {
           "x": 0.05
          },
          "xaxis": {
           "automargin": true,
           "gridcolor": "white",
           "linecolor": "white",
           "ticks": "",
           "title": {
            "standoff": 15
           },
           "zerolinecolor": "white",
           "zerolinewidth": 2
          },
          "yaxis": {
           "automargin": true,
           "gridcolor": "white",
           "linecolor": "white",
           "ticks": "",
           "title": {
            "standoff": 15
           },
           "zerolinecolor": "white",
           "zerolinewidth": 2
          }
         }
        },
        "width": 500,
        "xaxis": {
         "gridcolor": "grey",
         "gridwidth": 1,
         "linecolor": "black",
         "linewidth": 2,
         "nticks": 10,
         "range": [
          -6,
          -1
         ],
         "showgrid": false,
         "showline": true,
         "ticks": "outside",
         "title": {
          "text": "Log Current (mA/cm<sup>2</sup>)"
         },
         "zeroline": false,
         "zerolinecolor": "grey",
         "zerolinewidth": 1
        },
        "yaxis": {
         "gridcolor": "grey",
         "gridwidth": 1,
         "linecolor": "black",
         "linewidth": 2,
         "nticks": 10,
         "range": [
          0,
          1
         ],
         "showgrid": false,
         "showline": true,
         "ticks": "outside",
         "title": {
          "text": "Overpotential, η(V) - iR<sub>u</sub>"
         },
         "zeroline": true,
         "zerolinecolor": "grey",
         "zerolinewidth": 1
        }
       }
      }
     },
     "metadata": {},
     "output_type": "display_data"
    }
   ],
   "source": [
    "import plotly.graph_objects as go\n",
    "import numpy as np\n",
    "import pandas as pd\n",
    "import plotly.express as px\n",
    "from pandas import DataFrame as df\n",
    "from EC_data_processing_lib import get_header_length\n",
    "from EC_data_processing_lib import get_decimal_separator\n",
    "\n",
    "currentcorrect = 1000 #converts to mA to A in the log\n",
    "areacorrect = 1 #converts the surface area in the log\n",
    "cal = 0.309 #calibration of the Hg/HgO electrode to switch to OER \n",
    "fig = go.Figure()\n",
    "\n",
    "CoNx_dict = {\n",
    "'Ru' : 0.85,  #measured resistance in ohms\n",
    "'data' : 'Data/2022_01_05 CoNx Ti electrode1_04_CP_C05.mpt', #file path the slash needs to be '/' rather than the '\\' which is automatic\n",
    "'label' : 'CoN<sub>X</sub>',\n",
    "}\n",
    "\n",
    "NiNx_dict = {\n",
    "'Ru' : 0.85,  #measured resistance in ohms\n",
    "'data' : 'Data/2022_01_04 NiNx Ti electrode1_04_CP_C05.mpt',\n",
    "'label' : 'NiN<sub>X</sub>',\n",
    "}\n",
    "\n",
    "FeNx_dict = {\n",
    "'Ru' : 0.85,  #measured resistance in ohms\n",
    "'data' : 'Data/2022_01_11 FeNx Ti electrode set1_04_CP_C05.mpt',\n",
    "'label' : 'FeN<sub>X</sub>',\n",
    "}\n",
    "\n",
    "dataset = [CoNx_dict, NiNx_dict, FeNx_dict]\n",
    "\n",
    "for i in dataset:\n",
    "    headerlength = get_header_length(i['data'])\n",
    "    data = pd.read_csv(i['data'], encoding='ansi', sep=\"\\t\", decimal=get_decimal_separator(i['data']),  skiprows=range(headerlength))\n",
    "    exp = data['Ns']\n",
    "    Nexp = exp[-1:] + 1\n",
    "    voltage = data['<Ewe>/V']\n",
    "    current = data['control/mA']\n",
    "    voltage_corrected = data['<Ewe>/V'] - data['control/mA'] * i['Ru']/1000 - cal #does the iR correction converts to overpotential\n",
    "    j = 0\n",
    "    Tafel = []\n",
    "    for j in range(int(Nexp)):\n",
    "        v = df.mean(voltage_corrected.loc[exp==j])\n",
    "        verr = df.std(voltage_corrected.loc[exp==j])\n",
    "        J = current / currentcorrect / areacorrect\n",
    "        logJ = np.log10(J.loc[exp==j])\n",
    "        logJ = logJ.iloc[0:1] \n",
    "        logJ = float(logJ)\n",
    "        logJ = np.round(logJ,2)\n",
    "        Tafel.append([v, verr, logJ]) \n",
    "    Tafel = np.array(Tafel)\n",
    "    \n",
    "    fig.add_trace(go.Scatter(\n",
    "        x=Tafel[:,2],\n",
    "        y=Tafel[:,0],\n",
    "        error_y=dict(\n",
    "            type='data',\n",
    "            #color = colors,\n",
    "            array=Tafel[:,1],\n",
    "            visible=True),\n",
    "        name= i['label']\n",
    "        ))\n",
    "fig.update_xaxes(range=[-6, -1.0],\n",
    "    nticks=10,\n",
    "    ticks='outside',\n",
    "    showgrid=False, gridwidth=1, gridcolor='grey',\n",
    "    zeroline=False, zerolinecolor='grey', zerolinewidth= 1,\n",
    "    showline=True, linewidth=2, linecolor='black')\n",
    "\n",
    "fig.update_yaxes(range=[0, 1],\n",
    "    nticks=10,\n",
    "    showgrid=False, gridwidth=1, gridcolor='grey',\n",
    "    ticks='outside',\n",
    "    zeroline=True, zerolinecolor='grey', zerolinewidth= 1,\n",
    "    showline=True, linewidth=2, linecolor='black')\n",
    "fig.update_layout(\n",
    "    xaxis_title=\"Log Current (mA/cm<sup>2</sup>)\",\n",
    "    yaxis_title=\"Overpotential, η(V) - iR<sub>u</sub>\",\n",
    "    font=dict(\n",
    "        family=\"Times New Roman, monospace\",\n",
    "        size=18,\n",
    "        color=\"dimgrey\",\n",
    "    )\n",
    ")\n",
    "fig.update_traces(mode='markers',\n",
    "marker_colorscale=px.colors.sequential.Viridis\n",
    "     )\n",
    "fig.update_layout({\n",
    "    \"plot_bgcolor\": \"rgba(0, 0, 0, 0)\",\n",
    "    'paper_bgcolor': 'rgba(0, 0, 0, 0)',\n",
    "})\n",
    "fig.update_layout(\n",
    "    width = 500,\n",
    "    height = 500)\n",
    "fig.show()\n",
    "fig.write_image('Tafel.pdf')"
   ]
  },
  {
   "cell_type": "code",
   "execution_count": null,
   "metadata": {},
   "outputs": [],
   "source": []
  }
 ],
 "metadata": {
  "kernelspec": {
   "display_name": "MachineLearning_20221214",
   "language": "python",
   "name": "python3"
  },
  "language_info": {
   "codemirror_mode": {
    "name": "ipython",
    "version": 3
   },
   "file_extension": ".py",
   "mimetype": "text/x-python",
   "name": "python",
   "nbconvert_exporter": "python",
   "pygments_lexer": "ipython3",
   "version": "3.10.8"
  },
  "orig_nbformat": 4,
  "vscode": {
   "interpreter": {
    "hash": "6d6055fddfcfbd74bcbc7b01a52d824f73d51a69c9d6df85ac5e8b41880afc70"
   }
  }
 },
 "nbformat": 4,
 "nbformat_minor": 2
}
