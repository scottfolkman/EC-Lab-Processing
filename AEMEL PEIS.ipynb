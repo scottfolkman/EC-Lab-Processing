{
 "cells": [
  {
   "cell_type": "code",
   "execution_count": 1,
   "metadata": {},
   "outputs": [
    {
     "data": {
      "application/vnd.plotly.v1+json": {
       "config": {
        "plotlyServerURL": "https://plot.ly"
       },
       "data": [
        {
         "line": {
          "color": "#2E91E5"
         },
         "name": "IrO<sub>x</sub>",
         "type": "scatter",
         "x": [
          -0.6122528910636902,
          -0.21035774052143097,
          -0.019156452268362045,
          0.05223683640360832,
          0.08913985639810562,
          0.09570130705833435,
          0.09658633172512054,
          0.10083407163619995,
          0.10372857749462128,
          0.10762389749288559,
          0.11089348047971725,
          0.11550504714250565,
          0.12050098180770874,
          0.12723353505134583,
          0.13550297915935516,
          0.1466565877199173,
          0.16284474730491638,
          0.1863529086112976,
          0.22048571705818176,
          0.2657237946987152,
          0.3151497542858124,
          0.3587934374809265,
          0.3931400179862976,
          0.4187406897544861,
          0.438721626996994,
          0.45774340629577637,
          0.4695211350917816,
          0.47948959469795227,
          0.4885523021221161,
          0.4862705171108246,
          0.48896026611328125,
          0.4951461851596832,
          0.4924071431159973,
          0.5111950635910034,
          0.5214616060256958,
          0.5261027216911316,
          0.5297085642814636,
          0.5326231718063354
         ],
         "y": [
          -0.7517185807228088,
          -0.6950103640556335,
          -0.5346607565879822,
          -0.37634027004241943,
          -0.25899067521095276,
          -0.17968736588954926,
          -0.1188877522945404,
          -0.07465311139822006,
          -0.04404367879033089,
          -0.021952692419290543,
          -0.005549457389861345,
          0.008188487961888313,
          0.020218731835484505,
          0.03288475424051285,
          0.046853404492139816,
          0.06288142502307892,
          0.08186821639537811,
          0.10379042476415634,
          0.12470271438360214,
          0.13953819870948792,
          0.14034664630889893,
          0.12701323628425598,
          0.10925157368183136,
          0.09362936019897461,
          0.0783425122499466,
          0.0631386861205101,
          0.050484590232372284,
          0.035964153707027435,
          0.02633943222463131,
          0.022737255319952965,
          0.014989862218499184,
          0.013243845663964748,
          0.0019265403971076012,
          0.000766844255849719,
          0.004809351172298193,
          0.009429343976080418,
          0.014069560915231705,
          0.018093489110469818
         ]
        },
        {
         "line": {
          "color": "#E15F99"
         },
         "name": "NiCoFeO<sub>x</sub>",
         "type": "scatter",
         "x": [
          -0.42337310314178467,
          -0.11058428138494492,
          0.02990351803600788,
          0.0878748968243599,
          0.1199907511472702,
          0.12967172265052795,
          0.13538168370723724,
          0.14190417528152466,
          0.14901824295520782,
          0.15801362693309784,
          0.16783304512500763,
          0.1804615557193756,
          0.1959666609764099,
          0.21483004093170166,
          0.23929062485694885,
          0.26983997225761414,
          0.30845990777015686,
          0.3516678512096405,
          0.39253079891204834,
          0.42632731795310974,
          0.4492133557796478,
          0.46278953552246094,
          0.4742198884487152,
          0.4813660681247711,
          0.4861937165260315,
          0.4923006296157837,
          0.4962313175201416,
          0.49680715799331665,
          0.5010529160499573,
          0.5067529678344727,
          0.5042855143547058,
          0.5058308243751526,
          0.5090070366859436,
          0.5071521401405334,
          0.5062398314476013,
          0.5078464150428772,
          0.5063649415969849,
          0.5042290091514587
         ],
         "y": [
          -0.49535316228866577,
          -0.46716511249542236,
          -0.3586782217025757,
          -0.2447023093700409,
          -0.15906734764575958,
          -0.10374036431312561,
          -0.06038191169500351,
          -0.027004553005099297,
          -0.0016462367493659258,
          0.018389347940683365,
          0.035471878945827484,
          0.05124790221452713,
          0.06694230437278748,
          0.0822678878903389,
          0.09894496947526932,
          0.11512450128793716,
          0.1259046345949173,
          0.12716525793075562,
          0.1180647760629654,
          0.09984657913446426,
          0.08016876131296158,
          0.06224691867828369,
          0.04860255867242813,
          0.03879699856042862,
          0.03204089403152466,
          0.02316833660006523,
          0.021466020494699478,
          0.014963638968765736,
          0.015218308195471764,
          0.012684432789683342,
          0.0116365822032094,
          0.0038820975460112095,
          0.00879970658570528,
          0.005113421007990837,
          0.00517590856179595,
          0.0073694768361747265,
          0.010859071277081966,
          0.011249422095716
         ]
        },
        {
         "line": {
          "color": "#1CA71C"
         },
         "name": "Co<sub>57</sub>Ni<sub>14</sub>Fe<sub>29</sub>N<sub>x</sub>",
         "type": "scatter",
         "x": [
          -0.5660300850868225,
          -0.17802512645721436,
          0.004736103117465973,
          0.06649860739707947,
          0.10120227187871933,
          0.10831885039806366,
          0.11043735593557358,
          0.11133040487766266,
          0.11354076862335205,
          0.11572546511888504,
          0.1182810515165329,
          0.12108467519283295,
          0.12467969954013824,
          0.12885013222694397,
          0.13467931747436523,
          0.1426396518945694,
          0.15354003012180328,
          0.17062032222747803,
          0.19528238475322723,
          0.2281157374382019,
          0.26369205117225647,
          0.2942039966583252,
          0.31380289793014526,
          0.3245663046836853,
          0.33103394508361816,
          0.33483362197875977,
          0.33818480372428894,
          0.3419106602668762,
          0.3441157639026642,
          0.34693554043769836,
          0.3474312722682953,
          0.3491821587085724,
          0.3537335693836212,
          0.35407644510269165,
          0.35618793964385986,
          0.357138454914093,
          0.35858210921287537,
          0.35770392417907715
         ],
         "y": [
          -0.6023874282836914,
          -0.6019296646118164,
          -0.4595497250556946,
          -0.32113945484161377,
          -0.21901844441890717,
          -0.15355531871318817,
          -0.10178551077842712,
          -0.06492116302251816,
          -0.03919563442468643,
          -0.020769979804754257,
          -0.0071355728432536125,
          0.003744418267160654,
          0.013330966234207153,
          0.022599350661039352,
          0.03230854123830795,
          0.04404616355895996,
          0.05788128450512886,
          0.0727091133594513,
          0.08794494718313217,
          0.09653405100107193,
          0.09362708777189255,
          0.07947097718715668,
          0.061553314328193665,
          0.044809501618146896,
          0.03423420339822769,
          0.02650780975818634,
          0.022269856184720993,
          0.0171977411955595,
          0.013784268870949745,
          0.012147927656769753,
          0.0084267258644104,
          0.005595635622739792,
          0.006788214202970266,
          0.0033685751259326935,
          0.004461940843611956,
          0.006067558191716671,
          0.0073044090531766415,
          0.006444263271987438
         ]
        },
        {
         "line": {
          "color": "#B68100"
         },
         "name": "Co<sub>45</sub>Ni<sub>45</sub>Fe<sub>10</sub>N<sub>x</sub>",
         "type": "scatter",
         "x": [
          -0.5403154492378235,
          -0.166439950466156,
          0.0045167519710958,
          0.06729789823293686,
          0.10393749922513962,
          0.11216625571250916,
          0.11789602041244507,
          0.12256880104541779,
          0.1293487846851349,
          0.13709338009357452,
          0.1472199261188507,
          0.15891849994659424,
          0.17343997955322266,
          0.19094721972942352,
          0.21189850568771362,
          0.23818200826644897,
          0.2708459496498108,
          0.30761706829071045,
          0.34539687633514404,
          0.37886136770248413,
          0.40345388650894165,
          0.4234015643596649,
          0.43721112608909607,
          0.44799065589904785,
          0.4556145966053009,
          0.4617525637149811,
          0.4679749011993408,
          0.47025230526924133,
          0.4726351499557495,
          0.4757343530654907,
          0.47467875480651855,
          0.4761078953742981,
          0.4815025329589844,
          0.47864195704460144,
          0.4788832366466522,
          0.4793890714645386,
          0.4806738793849945,
          0.4837280213832855
         ],
         "y": [
          -0.6111034154891968,
          -0.5995040535926819,
          -0.45392459630966187,
          -0.31922516226768494,
          -0.2129547894001007,
          -0.14298903942108154,
          -0.08747115731239319,
          -0.0465230867266655,
          -0.01628858968615532,
          0.006649743765592575,
          0.02577456645667553,
          0.04205183684825897,
          0.0574389286339283,
          0.07174670696258545,
          0.08620039373636246,
          0.09999980032444,
          0.11133741587400436,
          0.11647279560565948,
          0.11130350828170776,
          0.10018622875213623,
          0.08488872647285461,
          0.07041274756193161,
          0.05734853819012642,
          0.046931445598602295,
          0.037173617631196976,
          0.029312092810869217,
          0.023587604984641075,
          0.01833025924861431,
          0.014208448119461536,
          0.011039799079298973,
          0.008936060592532158,
          0.0057052080519497395,
          0.008111161179840565,
          0.005396928172558546,
          0.005983348935842514,
          0.007134022191166878,
          0.0064492253586649895,
          0.006022411864250898
         ]
        }
       ],
       "layout": {
        "font": {
         "color": "dimgrey",
         "family": "Times New Roman, monospace",
         "size": 18
        },
        "height": 500,
        "legend": {
         "font": {
          "color": "dimgrey",
          "family": "Times New Roman, monospace",
          "size": 22
         },
         "x": 0,
         "xanchor": "left",
         "y": 0.99,
         "yanchor": "top"
        },
        "paper_bgcolor": "rgba(0, 0, 0, 0)",
        "plot_bgcolor": "rgba(0, 0, 0, 0)",
        "template": {
         "data": {
          "bar": [
           {
            "error_x": {
             "color": "#2a3f5f"
            },
            "error_y": {
             "color": "#2a3f5f"
            },
            "marker": {
             "line": {
              "color": "#E5ECF6",
              "width": 0.5
             },
             "pattern": {
              "fillmode": "overlay",
              "size": 10,
              "solidity": 0.2
             }
            },
            "type": "bar"
           }
          ],
          "barpolar": [
           {
            "marker": {
             "line": {
              "color": "#E5ECF6",
              "width": 0.5
             },
             "pattern": {
              "fillmode": "overlay",
              "size": 10,
              "solidity": 0.2
             }
            },
            "type": "barpolar"
           }
          ],
          "carpet": [
           {
            "aaxis": {
             "endlinecolor": "#2a3f5f",
             "gridcolor": "white",
             "linecolor": "white",
             "minorgridcolor": "white",
             "startlinecolor": "#2a3f5f"
            },
            "baxis": {
             "endlinecolor": "#2a3f5f",
             "gridcolor": "white",
             "linecolor": "white",
             "minorgridcolor": "white",
             "startlinecolor": "#2a3f5f"
            },
            "type": "carpet"
           }
          ],
          "choropleth": [
           {
            "colorbar": {
             "outlinewidth": 0,
             "ticks": ""
            },
            "type": "choropleth"
           }
          ],
          "contour": [
           {
            "colorbar": {
             "outlinewidth": 0,
             "ticks": ""
            },
            "colorscale": [
             [
              0,
              "#0d0887"
             ],
             [
              0.1111111111111111,
              "#46039f"
             ],
             [
              0.2222222222222222,
              "#7201a8"
             ],
             [
              0.3333333333333333,
              "#9c179e"
             ],
             [
              0.4444444444444444,
              "#bd3786"
             ],
             [
              0.5555555555555556,
              "#d8576b"
             ],
             [
              0.6666666666666666,
              "#ed7953"
             ],
             [
              0.7777777777777778,
              "#fb9f3a"
             ],
             [
              0.8888888888888888,
              "#fdca26"
             ],
             [
              1,
              "#f0f921"
             ]
            ],
            "type": "contour"
           }
          ],
          "contourcarpet": [
           {
            "colorbar": {
             "outlinewidth": 0,
             "ticks": ""
            },
            "type": "contourcarpet"
           }
          ],
          "heatmap": [
           {
            "colorbar": {
             "outlinewidth": 0,
             "ticks": ""
            },
            "colorscale": [
             [
              0,
              "#0d0887"
             ],
             [
              0.1111111111111111,
              "#46039f"
             ],
             [
              0.2222222222222222,
              "#7201a8"
             ],
             [
              0.3333333333333333,
              "#9c179e"
             ],
             [
              0.4444444444444444,
              "#bd3786"
             ],
             [
              0.5555555555555556,
              "#d8576b"
             ],
             [
              0.6666666666666666,
              "#ed7953"
             ],
             [
              0.7777777777777778,
              "#fb9f3a"
             ],
             [
              0.8888888888888888,
              "#fdca26"
             ],
             [
              1,
              "#f0f921"
             ]
            ],
            "type": "heatmap"
           }
          ],
          "heatmapgl": [
           {
            "colorbar": {
             "outlinewidth": 0,
             "ticks": ""
            },
            "colorscale": [
             [
              0,
              "#0d0887"
             ],
             [
              0.1111111111111111,
              "#46039f"
             ],
             [
              0.2222222222222222,
              "#7201a8"
             ],
             [
              0.3333333333333333,
              "#9c179e"
             ],
             [
              0.4444444444444444,
              "#bd3786"
             ],
             [
              0.5555555555555556,
              "#d8576b"
             ],
             [
              0.6666666666666666,
              "#ed7953"
             ],
             [
              0.7777777777777778,
              "#fb9f3a"
             ],
             [
              0.8888888888888888,
              "#fdca26"
             ],
             [
              1,
              "#f0f921"
             ]
            ],
            "type": "heatmapgl"
           }
          ],
          "histogram": [
           {
            "marker": {
             "pattern": {
              "fillmode": "overlay",
              "size": 10,
              "solidity": 0.2
             }
            },
            "type": "histogram"
           }
          ],
          "histogram2d": [
           {
            "colorbar": {
             "outlinewidth": 0,
             "ticks": ""
            },
            "colorscale": [
             [
              0,
              "#0d0887"
             ],
             [
              0.1111111111111111,
              "#46039f"
             ],
             [
              0.2222222222222222,
              "#7201a8"
             ],
             [
              0.3333333333333333,
              "#9c179e"
             ],
             [
              0.4444444444444444,
              "#bd3786"
             ],
             [
              0.5555555555555556,
              "#d8576b"
             ],
             [
              0.6666666666666666,
              "#ed7953"
             ],
             [
              0.7777777777777778,
              "#fb9f3a"
             ],
             [
              0.8888888888888888,
              "#fdca26"
             ],
             [
              1,
              "#f0f921"
             ]
            ],
            "type": "histogram2d"
           }
          ],
          "histogram2dcontour": [
           {
            "colorbar": {
             "outlinewidth": 0,
             "ticks": ""
            },
            "colorscale": [
             [
              0,
              "#0d0887"
             ],
             [
              0.1111111111111111,
              "#46039f"
             ],
             [
              0.2222222222222222,
              "#7201a8"
             ],
             [
              0.3333333333333333,
              "#9c179e"
             ],
             [
              0.4444444444444444,
              "#bd3786"
             ],
             [
              0.5555555555555556,
              "#d8576b"
             ],
             [
              0.6666666666666666,
              "#ed7953"
             ],
             [
              0.7777777777777778,
              "#fb9f3a"
             ],
             [
              0.8888888888888888,
              "#fdca26"
             ],
             [
              1,
              "#f0f921"
             ]
            ],
            "type": "histogram2dcontour"
           }
          ],
          "mesh3d": [
           {
            "colorbar": {
             "outlinewidth": 0,
             "ticks": ""
            },
            "type": "mesh3d"
           }
          ],
          "parcoords": [
           {
            "line": {
             "colorbar": {
              "outlinewidth": 0,
              "ticks": ""
             }
            },
            "type": "parcoords"
           }
          ],
          "pie": [
           {
            "automargin": true,
            "type": "pie"
           }
          ],
          "scatter": [
           {
            "fillpattern": {
             "fillmode": "overlay",
             "size": 10,
             "solidity": 0.2
            },
            "type": "scatter"
           }
          ],
          "scatter3d": [
           {
            "line": {
             "colorbar": {
              "outlinewidth": 0,
              "ticks": ""
             }
            },
            "marker": {
             "colorbar": {
              "outlinewidth": 0,
              "ticks": ""
             }
            },
            "type": "scatter3d"
           }
          ],
          "scattercarpet": [
           {
            "marker": {
             "colorbar": {
              "outlinewidth": 0,
              "ticks": ""
             }
            },
            "type": "scattercarpet"
           }
          ],
          "scattergeo": [
           {
            "marker": {
             "colorbar": {
              "outlinewidth": 0,
              "ticks": ""
             }
            },
            "type": "scattergeo"
           }
          ],
          "scattergl": [
           {
            "marker": {
             "colorbar": {
              "outlinewidth": 0,
              "ticks": ""
             }
            },
            "type": "scattergl"
           }
          ],
          "scattermapbox": [
           {
            "marker": {
             "colorbar": {
              "outlinewidth": 0,
              "ticks": ""
             }
            },
            "type": "scattermapbox"
           }
          ],
          "scatterpolar": [
           {
            "marker": {
             "colorbar": {
              "outlinewidth": 0,
              "ticks": ""
             }
            },
            "type": "scatterpolar"
           }
          ],
          "scatterpolargl": [
           {
            "marker": {
             "colorbar": {
              "outlinewidth": 0,
              "ticks": ""
             }
            },
            "type": "scatterpolargl"
           }
          ],
          "scatterternary": [
           {
            "marker": {
             "colorbar": {
              "outlinewidth": 0,
              "ticks": ""
             }
            },
            "type": "scatterternary"
           }
          ],
          "surface": [
           {
            "colorbar": {
             "outlinewidth": 0,
             "ticks": ""
            },
            "colorscale": [
             [
              0,
              "#0d0887"
             ],
             [
              0.1111111111111111,
              "#46039f"
             ],
             [
              0.2222222222222222,
              "#7201a8"
             ],
             [
              0.3333333333333333,
              "#9c179e"
             ],
             [
              0.4444444444444444,
              "#bd3786"
             ],
             [
              0.5555555555555556,
              "#d8576b"
             ],
             [
              0.6666666666666666,
              "#ed7953"
             ],
             [
              0.7777777777777778,
              "#fb9f3a"
             ],
             [
              0.8888888888888888,
              "#fdca26"
             ],
             [
              1,
              "#f0f921"
             ]
            ],
            "type": "surface"
           }
          ],
          "table": [
           {
            "cells": {
             "fill": {
              "color": "#EBF0F8"
             },
             "line": {
              "color": "white"
             }
            },
            "header": {
             "fill": {
              "color": "#C8D4E3"
             },
             "line": {
              "color": "white"
             }
            },
            "type": "table"
           }
          ]
         },
         "layout": {
          "annotationdefaults": {
           "arrowcolor": "#2a3f5f",
           "arrowhead": 0,
           "arrowwidth": 1
          },
          "autotypenumbers": "strict",
          "coloraxis": {
           "colorbar": {
            "outlinewidth": 0,
            "ticks": ""
           }
          },
          "colorscale": {
           "diverging": [
            [
             0,
             "#8e0152"
            ],
            [
             0.1,
             "#c51b7d"
            ],
            [
             0.2,
             "#de77ae"
            ],
            [
             0.3,
             "#f1b6da"
            ],
            [
             0.4,
             "#fde0ef"
            ],
            [
             0.5,
             "#f7f7f7"
            ],
            [
             0.6,
             "#e6f5d0"
            ],
            [
             0.7,
             "#b8e186"
            ],
            [
             0.8,
             "#7fbc41"
            ],
            [
             0.9,
             "#4d9221"
            ],
            [
             1,
             "#276419"
            ]
           ],
           "sequential": [
            [
             0,
             "#0d0887"
            ],
            [
             0.1111111111111111,
             "#46039f"
            ],
            [
             0.2222222222222222,
             "#7201a8"
            ],
            [
             0.3333333333333333,
             "#9c179e"
            ],
            [
             0.4444444444444444,
             "#bd3786"
            ],
            [
             0.5555555555555556,
             "#d8576b"
            ],
            [
             0.6666666666666666,
             "#ed7953"
            ],
            [
             0.7777777777777778,
             "#fb9f3a"
            ],
            [
             0.8888888888888888,
             "#fdca26"
            ],
            [
             1,
             "#f0f921"
            ]
           ],
           "sequentialminus": [
            [
             0,
             "#0d0887"
            ],
            [
             0.1111111111111111,
             "#46039f"
            ],
            [
             0.2222222222222222,
             "#7201a8"
            ],
            [
             0.3333333333333333,
             "#9c179e"
            ],
            [
             0.4444444444444444,
             "#bd3786"
            ],
            [
             0.5555555555555556,
             "#d8576b"
            ],
            [
             0.6666666666666666,
             "#ed7953"
            ],
            [
             0.7777777777777778,
             "#fb9f3a"
            ],
            [
             0.8888888888888888,
             "#fdca26"
            ],
            [
             1,
             "#f0f921"
            ]
           ]
          },
          "colorway": [
           "#636efa",
           "#EF553B",
           "#00cc96",
           "#ab63fa",
           "#FFA15A",
           "#19d3f3",
           "#FF6692",
           "#B6E880",
           "#FF97FF",
           "#FECB52"
          ],
          "font": {
           "color": "#2a3f5f"
          },
          "geo": {
           "bgcolor": "white",
           "lakecolor": "white",
           "landcolor": "#E5ECF6",
           "showlakes": true,
           "showland": true,
           "subunitcolor": "white"
          },
          "hoverlabel": {
           "align": "left"
          },
          "hovermode": "closest",
          "mapbox": {
           "style": "light"
          },
          "paper_bgcolor": "white",
          "plot_bgcolor": "#E5ECF6",
          "polar": {
           "angularaxis": {
            "gridcolor": "white",
            "linecolor": "white",
            "ticks": ""
           },
           "bgcolor": "#E5ECF6",
           "radialaxis": {
            "gridcolor": "white",
            "linecolor": "white",
            "ticks": ""
           }
          },
          "scene": {
           "xaxis": {
            "backgroundcolor": "#E5ECF6",
            "gridcolor": "white",
            "gridwidth": 2,
            "linecolor": "white",
            "showbackground": true,
            "ticks": "",
            "zerolinecolor": "white"
           },
           "yaxis": {
            "backgroundcolor": "#E5ECF6",
            "gridcolor": "white",
            "gridwidth": 2,
            "linecolor": "white",
            "showbackground": true,
            "ticks": "",
            "zerolinecolor": "white"
           },
           "zaxis": {
            "backgroundcolor": "#E5ECF6",
            "gridcolor": "white",
            "gridwidth": 2,
            "linecolor": "white",
            "showbackground": true,
            "ticks": "",
            "zerolinecolor": "white"
           }
          },
          "shapedefaults": {
           "line": {
            "color": "#2a3f5f"
           }
          },
          "ternary": {
           "aaxis": {
            "gridcolor": "white",
            "linecolor": "white",
            "ticks": ""
           },
           "baxis": {
            "gridcolor": "white",
            "linecolor": "white",
            "ticks": ""
           },
           "bgcolor": "#E5ECF6",
           "caxis": {
            "gridcolor": "white",
            "linecolor": "white",
            "ticks": ""
           }
          },
          "title": {
           "x": 0.05
          },
          "xaxis": {
           "automargin": true,
           "gridcolor": "white",
           "linecolor": "white",
           "ticks": "",
           "title": {
            "standoff": 15
           },
           "zerolinecolor": "white",
           "zerolinewidth": 2
          },
          "yaxis": {
           "automargin": true,
           "gridcolor": "white",
           "linecolor": "white",
           "ticks": "",
           "title": {
            "standoff": 15
           },
           "zerolinecolor": "white",
           "zerolinewidth": 2
          }
         }
        },
        "width": 500,
        "xaxis": {
         "gridcolor": "grey",
         "gridwidth": 1,
         "linecolor": "black",
         "linewidth": 2,
         "nticks": 10,
         "range": [
          0,
          0.6
         ],
         "showgrid": false,
         "showline": true,
         "ticks": "outside",
         "title": {
          "text": "Re(Z) (ohm⋅cm<sup>2</sup>)"
         },
         "zeroline": false,
         "zerolinecolor": "grey",
         "zerolinewidth": 1
        },
        "yaxis": {
         "gridcolor": "grey",
         "gridwidth": 1,
         "linecolor": "black",
         "linewidth": 2,
         "nticks": 10,
         "range": [
          0,
          0.6
         ],
         "showgrid": false,
         "showline": true,
         "ticks": "outside",
         "title": {
          "text": "-Im(Z) (ohm⋅cm<sup>2</sup>)"
         },
         "zeroline": true,
         "zerolinecolor": "grey",
         "zerolinewidth": 1
        }
       }
      }
     },
     "metadata": {},
     "output_type": "display_data"
    }
   ],
   "source": [
    "import numpy as np\n",
    "import plotly.graph_objects as go\n",
    "import pandas as pd\n",
    "import plotly.express as px\n",
    "from EC_data_processing_lib import get_header_length\n",
    "from EC_data_processing_lib import analyse_file\n",
    "from EC_data_processing_lib import get_decimal_separator\n",
    "from pandas import DataFrame as df\n",
    "from Data_setup_AEMEL_NewCell_CP import data_set\n",
    "import os\n",
    "from galvani import BioLogic\n",
    "\n",
    "fig = go.Figure()\n",
    "colors = px.colors.qualitative.Dark24\n",
    "fig_title = 'AEMEL'\n",
    "for i in data_set:\n",
    "    file = data_set[i]['data_PEIS']\n",
    "    if not os.path.exists(file):\n",
    "        print(\"File not found: \" + file)\n",
    "        continue\n",
    "    if file.endswith('mpt'):\n",
    "        headerlength = get_header_length(file)\n",
    "        data = pd.read_csv(file, encoding='ansi', sep=\"\\t\", decimal=get_decimal_separator(file),  skiprows=range(headerlength))\n",
    "        \n",
    "    else:\n",
    "        mpr_file = BioLogic.MPRfile(file)\n",
    "        data = pd.DataFrame(mpr_file.data)\n",
    "        \n",
    "    \n",
    "    real = data['Re(Z)/Ohm']*5\n",
    "    imaginary = data['-Im(Z)/Ohm']*5\n",
    "       \n",
    "   \n",
    "    fig.add_trace(go.Scatter(\n",
    "        x=real,\n",
    "        y=imaginary,\n",
    "        name= data_set[i]['label'],\n",
    "        line_color = colors[data_set[i]['color_index']],\n",
    "    )\n",
    "           \n",
    "    )\n",
    "fig.update_xaxes(range=[0, 0.6],\n",
    "    nticks=10,\n",
    "    ticks='outside',\n",
    "    showgrid=False, gridwidth=1, gridcolor='grey',\n",
    "    zeroline=False, zerolinecolor='grey', zerolinewidth= 1,\n",
    "    showline=True, linewidth=2, linecolor='black')\n",
    "\n",
    "fig.update_yaxes(range=[0, 0.6],\n",
    "    nticks=10,\n",
    "    showgrid=False, gridwidth=1, gridcolor='grey',\n",
    "    ticks='outside',\n",
    "    zeroline=True, zerolinecolor='grey', zerolinewidth= 1,\n",
    "    showline=True, linewidth=2, linecolor='black')\n",
    "fig.update_layout(\n",
    "    \n",
    "    xaxis_title=\"Re(Z) (ohm⋅cm<sup>2</sup>)\",\n",
    "    yaxis_title=\"-Im(Z) (ohm⋅cm<sup>2</sup>)\",\n",
    "    font=dict(\n",
    "        family=\"Times New Roman, monospace\",\n",
    "        size=18,\n",
    "        color=\"dimgrey\"\n",
    "        \n",
    "    )\n",
    ")\n",
    "\n",
    "fig.update_layout({\n",
    "    \"plot_bgcolor\": \"rgba(0, 0, 0, 0)\",\n",
    "    'paper_bgcolor': 'rgba(0, 0, 0, 0)', #sets the background to be transparent... might appear black in .jpeg but will be transparent in the .svg\n",
    "})\n",
    "fig.update_layout(\n",
    "    width = 500,\n",
    "    height = 500,\n",
    "    legend=dict(\n",
    "    yanchor=\"top\",\n",
    "    y=0.99,\n",
    "    xanchor=\"left\",\n",
    "    x=0,\n",
    "    font=dict(\n",
    "        family=\"Times New Roman, monospace\",\n",
    "        size=22,\n",
    "        color=\"dimgrey\",\n",
    "    ),\n",
    "    )\n",
    ")\n",
    "fig.show()\n",
    "fig.write_image(fig_title + 'PEIS.jpeg')\n",
    "fig.write_image(fig_title + 'PEIS.svg')\n"
   ]
  },
  {
   "cell_type": "code",
   "execution_count": null,
   "metadata": {},
   "outputs": [],
   "source": []
  }
 ],
 "metadata": {
  "kernelspec": {
   "display_name": "MachineLearning_20221214",
   "language": "python",
   "name": "python3"
  },
  "language_info": {
   "codemirror_mode": {
    "name": "ipython",
    "version": 3
   },
   "file_extension": ".py",
   "mimetype": "text/x-python",
   "name": "python",
   "nbconvert_exporter": "python",
   "pygments_lexer": "ipython3",
   "version": "3.10.9"
  },
  "orig_nbformat": 4,
  "vscode": {
   "interpreter": {
    "hash": "6d6055fddfcfbd74bcbc7b01a52d824f73d51a69c9d6df85ac5e8b41880afc70"
   }
  }
 },
 "nbformat": 4,
 "nbformat_minor": 2
}
